{
 "cells": [
  {
   "cell_type": "code",
   "execution_count": 61,
   "id": "9b5a9ef8",
   "metadata": {
    "execution": {
     "iopub.execute_input": "2021-11-15T07:59:56.816123Z",
     "iopub.status.busy": "2021-11-15T07:59:56.815428Z",
     "iopub.status.idle": "2021-11-15T07:59:56.823264Z",
     "shell.execute_reply": "2021-11-15T07:59:56.822215Z",
     "shell.execute_reply.started": "2021-11-15T07:56:20.909709Z"
    },
    "papermill": {
     "duration": 0.183455,
     "end_time": "2021-11-15T07:59:56.823439",
     "exception": false,
     "start_time": "2021-11-15T07:59:56.639984",
     "status": "completed"
    },
    "tags": []
   },
   "outputs": [],
   "source": [
    "import pandas as pd"
   ]
  },
  {
   "cell_type": "markdown",
   "id": "241af5f0",
   "metadata": {
    "papermill": {
     "duration": 0.104202,
     "end_time": "2021-11-15T07:59:57.026289",
     "exception": false,
     "start_time": "2021-11-15T07:59:56.922087",
     "status": "completed"
    },
    "tags": []
   },
   "source": [
    "**Read the file**"
   ]
  },
  {
   "cell_type": "code",
   "execution_count": 62,
   "id": "9ee5b758",
   "metadata": {
    "execution": {
     "iopub.execute_input": "2021-11-15T07:59:57.235645Z",
     "iopub.status.busy": "2021-11-15T07:59:57.233608Z",
     "iopub.status.idle": "2021-11-15T07:59:57.258922Z",
     "shell.execute_reply": "2021-11-15T07:59:57.259428Z",
     "shell.execute_reply.started": "2021-11-15T07:56:20.919075Z"
    },
    "papermill": {
     "duration": 0.128246,
     "end_time": "2021-11-15T07:59:57.259634",
     "exception": false,
     "start_time": "2021-11-15T07:59:57.131388",
     "status": "completed"
    },
    "tags": []
   },
   "outputs": [],
   "source": [
    "df = pd.read_csv('mobile_price_data_original.csv')"
   ]
  },
  {
   "cell_type": "code",
   "execution_count": 64,
   "id": "db21d3bb",
   "metadata": {},
   "outputs": [],
   "source": [
    "#df.head()"
   ]
  },
  {
   "cell_type": "code",
   "execution_count": null,
   "id": "d3a06b4a",
   "metadata": {},
   "outputs": [],
   "source": []
  },
  {
   "cell_type": "code",
   "execution_count": null,
   "id": "ac717292",
   "metadata": {},
   "outputs": [],
   "source": []
  },
  {
   "cell_type": "markdown",
   "id": "3f34401d",
   "metadata": {
    "papermill": {
     "duration": 0.098699,
     "end_time": "2021-11-15T07:59:57.457568",
     "exception": false,
     "start_time": "2021-11-15T07:59:57.358869",
     "status": "completed"
    },
    "tags": []
   },
   "source": [
    "**Check the first five records to have an initial look at the columns and values**"
   ]
  },
  {
   "cell_type": "code",
   "execution_count": 3,
   "id": "8c0d028f",
   "metadata": {
    "execution": {
     "iopub.execute_input": "2021-11-15T07:59:57.658834Z",
     "iopub.status.busy": "2021-11-15T07:59:57.658160Z",
     "iopub.status.idle": "2021-11-15T07:59:57.687676Z",
     "shell.execute_reply": "2021-11-15T07:59:57.688221Z",
     "shell.execute_reply.started": "2021-11-15T07:56:20.944668Z"
    },
    "papermill": {
     "duration": 0.131526,
     "end_time": "2021-11-15T07:59:57.688393",
     "exception": false,
     "start_time": "2021-11-15T07:59:57.556867",
     "status": "completed"
    },
    "scrolled": true,
    "tags": []
   },
   "outputs": [
    {
     "data": {
      "text/html": [
       "<div>\n",
       "<style scoped>\n",
       "    .dataframe tbody tr th:only-of-type {\n",
       "        vertical-align: middle;\n",
       "    }\n",
       "\n",
       "    .dataframe tbody tr th {\n",
       "        vertical-align: top;\n",
       "    }\n",
       "\n",
       "    .dataframe thead th {\n",
       "        text-align: right;\n",
       "    }\n",
       "</style>\n",
       "<table border=\"1\" class=\"dataframe\">\n",
       "  <thead>\n",
       "    <tr style=\"text-align: right;\">\n",
       "      <th></th>\n",
       "      <th>mobile_name</th>\n",
       "      <th>mobile_price</th>\n",
       "      <th>mobile_color</th>\n",
       "      <th>dual_sim</th>\n",
       "      <th>disp_size</th>\n",
       "      <th>resolution</th>\n",
       "      <th>os</th>\n",
       "      <th>num_cores</th>\n",
       "      <th>mp_speed</th>\n",
       "      <th>int_memory</th>\n",
       "      <th>ram</th>\n",
       "      <th>p_cam</th>\n",
       "      <th>f_cam</th>\n",
       "      <th>network</th>\n",
       "      <th>bluetooth</th>\n",
       "      <th>battery_power</th>\n",
       "      <th>mob_width</th>\n",
       "      <th>mob_height</th>\n",
       "      <th>mob_depth</th>\n",
       "      <th>mob_weight</th>\n",
       "    </tr>\n",
       "  </thead>\n",
       "  <tbody>\n",
       "    <tr>\n",
       "      <th>0</th>\n",
       "      <td>Realme Narzo 10A (So White, 32 GB)</td>\n",
       "      <td>₹8,999</td>\n",
       "      <td>So White</td>\n",
       "      <td>Dual Sim</td>\n",
       "      <td>16.56 cm (6.52 inch)</td>\n",
       "      <td>1600 x 720 Pixels</td>\n",
       "      <td>Android 10</td>\n",
       "      <td>Octa Core</td>\n",
       "      <td>2 GHz</td>\n",
       "      <td>32 GB</td>\n",
       "      <td>3 GB</td>\n",
       "      <td>12MP + 2MP + 2MP</td>\n",
       "      <td>5MP Front Camera</td>\n",
       "      <td>4G VOLTE, 4G, 3G, 2G</td>\n",
       "      <td>Yes</td>\n",
       "      <td>5000 mAh</td>\n",
       "      <td>75 mm</td>\n",
       "      <td>164.4 mm</td>\n",
       "      <td>8.95 mm</td>\n",
       "      <td>195 g</td>\n",
       "    </tr>\n",
       "    <tr>\n",
       "      <th>1</th>\n",
       "      <td>Realme Narzo 10A (So Blue, 32 GB)</td>\n",
       "      <td>₹8,999</td>\n",
       "      <td>So Blue</td>\n",
       "      <td>Dual Sim</td>\n",
       "      <td>16.56 cm (6.52 inch)</td>\n",
       "      <td>1600 x 720 Pixels</td>\n",
       "      <td>Android 10</td>\n",
       "      <td>Octa Core</td>\n",
       "      <td>2 GHz</td>\n",
       "      <td>32 GB</td>\n",
       "      <td>3 GB</td>\n",
       "      <td>12MP + 2MP + 2MP</td>\n",
       "      <td>5MP Front Camera</td>\n",
       "      <td>4G VOLTE, 4G, 3G, 2G</td>\n",
       "      <td>Yes</td>\n",
       "      <td>5000 mAh</td>\n",
       "      <td>75 mm</td>\n",
       "      <td>164.4 mm</td>\n",
       "      <td>8.95 mm</td>\n",
       "      <td>195 g</td>\n",
       "    </tr>\n",
       "    <tr>\n",
       "      <th>2</th>\n",
       "      <td>Realme Narzo 10A (So Blue, 64 GB)</td>\n",
       "      <td>₹9,999</td>\n",
       "      <td>So Blue</td>\n",
       "      <td>Dual Sim</td>\n",
       "      <td>16.56 cm (6.52 inch)</td>\n",
       "      <td>1600 x 720 Pixels</td>\n",
       "      <td>Android 10</td>\n",
       "      <td>Octa Core</td>\n",
       "      <td>2 GHz</td>\n",
       "      <td>64 GB</td>\n",
       "      <td>4 GB</td>\n",
       "      <td>12MP + 2MP + 2MP</td>\n",
       "      <td>5MP Front Camera</td>\n",
       "      <td>4G VOLTE, 4G, 3G, 2G</td>\n",
       "      <td>Yes</td>\n",
       "      <td>5000 mAh</td>\n",
       "      <td>75 mm</td>\n",
       "      <td>164.4 mm</td>\n",
       "      <td>8.95 mm</td>\n",
       "      <td>195 g</td>\n",
       "    </tr>\n",
       "    <tr>\n",
       "      <th>3</th>\n",
       "      <td>Realme Narzo 10A (So White, 64 GB)</td>\n",
       "      <td>₹9,999</td>\n",
       "      <td>So White</td>\n",
       "      <td>Dual Sim</td>\n",
       "      <td>16.56 cm (6.52 inch)</td>\n",
       "      <td>1600 x 720 Pixels</td>\n",
       "      <td>Android 10</td>\n",
       "      <td>Octa Core</td>\n",
       "      <td>2 GHz</td>\n",
       "      <td>64 GB</td>\n",
       "      <td>4 GB</td>\n",
       "      <td>12MP + 2MP + 2MP</td>\n",
       "      <td>5MP Front Camera</td>\n",
       "      <td>4G VOLTE, 4G, 3G, 2G</td>\n",
       "      <td>Yes</td>\n",
       "      <td>5000 mAh</td>\n",
       "      <td>75 mm</td>\n",
       "      <td>164.4 mm</td>\n",
       "      <td>8.95 mm</td>\n",
       "      <td>195 g</td>\n",
       "    </tr>\n",
       "    <tr>\n",
       "      <th>4</th>\n",
       "      <td>Realme Narzo 10 (That Green, 128 GB)</td>\n",
       "      <td>₹11,999</td>\n",
       "      <td>That Green</td>\n",
       "      <td>Dual Sim</td>\n",
       "      <td>16.51 cm (6.5 inch)</td>\n",
       "      <td>1600 x 720 Pixels</td>\n",
       "      <td>Android 10</td>\n",
       "      <td>Octa Core</td>\n",
       "      <td>2 GHz</td>\n",
       "      <td>128 GB</td>\n",
       "      <td>4 GB</td>\n",
       "      <td>48MP + 8MP + 2MP + 2MP</td>\n",
       "      <td>16MP Front Camera</td>\n",
       "      <td>4G VOLTE, 4G, 3G, 2G</td>\n",
       "      <td>Yes</td>\n",
       "      <td>5000 mAh</td>\n",
       "      <td>75.4 mm</td>\n",
       "      <td>164.4 mm</td>\n",
       "      <td>9 mm</td>\n",
       "      <td>199 g</td>\n",
       "    </tr>\n",
       "  </tbody>\n",
       "</table>\n",
       "</div>"
      ],
      "text/plain": [
       "                            mobile_name mobile_price mobile_color  dual_sim  \\\n",
       "0    Realme Narzo 10A (So White, 32 GB)       ₹8,999     So White  Dual Sim   \n",
       "1     Realme Narzo 10A (So Blue, 32 GB)       ₹8,999      So Blue  Dual Sim   \n",
       "2     Realme Narzo 10A (So Blue, 64 GB)       ₹9,999      So Blue  Dual Sim   \n",
       "3    Realme Narzo 10A (So White, 64 GB)       ₹9,999     So White  Dual Sim   \n",
       "4  Realme Narzo 10 (That Green, 128 GB)      ₹11,999   That Green  Dual Sim   \n",
       "\n",
       "              disp_size         resolution          os  num_cores mp_speed  \\\n",
       "0  16.56 cm (6.52 inch)  1600 x 720 Pixels  Android 10  Octa Core    2 GHz   \n",
       "1  16.56 cm (6.52 inch)  1600 x 720 Pixels  Android 10  Octa Core    2 GHz   \n",
       "2  16.56 cm (6.52 inch)  1600 x 720 Pixels  Android 10  Octa Core    2 GHz   \n",
       "3  16.56 cm (6.52 inch)  1600 x 720 Pixels  Android 10  Octa Core    2 GHz   \n",
       "4   16.51 cm (6.5 inch)  1600 x 720 Pixels  Android 10  Octa Core    2 GHz   \n",
       "\n",
       "  int_memory   ram                   p_cam              f_cam  \\\n",
       "0      32 GB  3 GB        12MP + 2MP + 2MP   5MP Front Camera   \n",
       "1      32 GB  3 GB        12MP + 2MP + 2MP   5MP Front Camera   \n",
       "2      64 GB  4 GB        12MP + 2MP + 2MP   5MP Front Camera   \n",
       "3      64 GB  4 GB        12MP + 2MP + 2MP   5MP Front Camera   \n",
       "4     128 GB  4 GB  48MP + 8MP + 2MP + 2MP  16MP Front Camera   \n",
       "\n",
       "                network bluetooth battery_power mob_width mob_height  \\\n",
       "0  4G VOLTE, 4G, 3G, 2G       Yes      5000 mAh     75 mm   164.4 mm   \n",
       "1  4G VOLTE, 4G, 3G, 2G       Yes      5000 mAh     75 mm   164.4 mm   \n",
       "2  4G VOLTE, 4G, 3G, 2G       Yes      5000 mAh     75 mm   164.4 mm   \n",
       "3  4G VOLTE, 4G, 3G, 2G       Yes      5000 mAh     75 mm   164.4 mm   \n",
       "4  4G VOLTE, 4G, 3G, 2G       Yes      5000 mAh   75.4 mm   164.4 mm   \n",
       "\n",
       "  mob_depth mob_weight  \n",
       "0   8.95 mm      195 g  \n",
       "1   8.95 mm      195 g  \n",
       "2   8.95 mm      195 g  \n",
       "3   8.95 mm      195 g  \n",
       "4      9 mm      199 g  "
      ]
     },
     "execution_count": 3,
     "metadata": {},
     "output_type": "execute_result"
    }
   ],
   "source": [
    "df.head()"
   ]
  },
  {
   "cell_type": "markdown",
   "id": "de331b01",
   "metadata": {
    "papermill": {
     "duration": 0.099867,
     "end_time": "2021-11-15T07:59:57.888862",
     "exception": false,
     "start_time": "2021-11-15T07:59:57.788995",
     "status": "completed"
    },
    "tags": []
   },
   "source": [
    "**Get more details about the data types and null values in the data**"
   ]
  },
  {
   "cell_type": "code",
   "execution_count": 4,
   "id": "a22fcb42",
   "metadata": {
    "execution": {
     "iopub.execute_input": "2021-11-15T07:59:58.091067Z",
     "iopub.status.busy": "2021-11-15T07:59:58.090359Z",
     "iopub.status.idle": "2021-11-15T07:59:58.114100Z",
     "shell.execute_reply": "2021-11-15T07:59:58.114748Z",
     "shell.execute_reply.started": "2021-11-15T07:56:20.970828Z"
    },
    "papermill": {
     "duration": 0.127024,
     "end_time": "2021-11-15T07:59:58.114923",
     "exception": false,
     "start_time": "2021-11-15T07:59:57.987899",
     "status": "completed"
    },
    "tags": []
   },
   "outputs": [
    {
     "name": "stdout",
     "output_type": "stream",
     "text": [
      "<class 'pandas.core.frame.DataFrame'>\n",
      "RangeIndex: 459 entries, 0 to 458\n",
      "Data columns (total 20 columns):\n",
      " #   Column         Non-Null Count  Dtype \n",
      "---  ------         --------------  ----- \n",
      " 0   mobile_name    459 non-null    object\n",
      " 1   mobile_price   459 non-null    object\n",
      " 2   mobile_color   459 non-null    object\n",
      " 3   dual_sim       459 non-null    object\n",
      " 4   disp_size      459 non-null    object\n",
      " 5   resolution     459 non-null    object\n",
      " 6   os             459 non-null    object\n",
      " 7   num_cores      459 non-null    object\n",
      " 8   mp_speed       459 non-null    object\n",
      " 9   int_memory     459 non-null    object\n",
      " 10  ram            459 non-null    object\n",
      " 11  p_cam          459 non-null    object\n",
      " 12  f_cam          459 non-null    object\n",
      " 13  network        459 non-null    object\n",
      " 14  bluetooth      459 non-null    object\n",
      " 15  battery_power  459 non-null    object\n",
      " 16  mob_width      459 non-null    object\n",
      " 17  mob_height     459 non-null    object\n",
      " 18  mob_depth      459 non-null    object\n",
      " 19  mob_weight     459 non-null    object\n",
      "dtypes: object(20)\n",
      "memory usage: 71.8+ KB\n"
     ]
    }
   ],
   "source": [
    "df.info()"
   ]
  },
  {
   "cell_type": "markdown",
   "id": "3501ed84",
   "metadata": {
    "papermill": {
     "duration": 0.099924,
     "end_time": "2021-11-15T07:59:58.317132",
     "exception": false,
     "start_time": "2021-11-15T07:59:58.217208",
     "status": "completed"
    },
    "tags": []
   },
   "source": [
    "**Check unique values in each column to understand values of each column**"
   ]
  },
  {
   "cell_type": "code",
   "execution_count": 5,
   "id": "c14f3986",
   "metadata": {
    "execution": {
     "iopub.execute_input": "2021-11-15T07:59:58.523929Z",
     "iopub.status.busy": "2021-11-15T07:59:58.523176Z",
     "iopub.status.idle": "2021-11-15T07:59:58.541204Z",
     "shell.execute_reply": "2021-11-15T07:59:58.541736Z",
     "shell.execute_reply.started": "2021-11-15T07:56:20.997641Z"
    },
    "papermill": {
     "duration": 0.123736,
     "end_time": "2021-11-15T07:59:58.541919",
     "exception": false,
     "start_time": "2021-11-15T07:59:58.418183",
     "status": "completed"
    },
    "scrolled": true,
    "tags": []
   },
   "outputs": [
    {
     "name": "stdout",
     "output_type": "stream",
     "text": [
      "mobile_name ['Realme Narzo 10A (So White, 32 GB)' 'Realme Narzo 10A (So Blue, 32 GB)'\n",
      " 'Realme Narzo 10A (So Blue, 64 GB)' 'Realme Narzo 10A (So White, 64 GB)'\n",
      " 'Realme Narzo 10 (That Green, 128 GB)'\n",
      " 'Realme Narzo 10 (That White, 128 GB)'\n",
      " 'Realme 5 Pro (Crystal Green, 64 GB)'\n",
      " 'Realme 5 Pro (Crystal Green, 128 GB)'\n",
      " 'Realme 5 Pro (Sparkling Blue, 128 GB)'\n",
      " 'Realme 5 Pro (Sparkling Blue, 64 GB)'\n",
      " 'Realme X2 Pro (Lunar White, 256 GB)'\n",
      " 'Realme X2 Pro (Neptune Blue, 256 GB)'\n",
      " 'Realme X2 Pro (Neptune Blue, 128 GB)'\n",
      " 'Realme X2 Pro (Lunar White, 128 GB)' 'Realme 2 Pro (Black Sea, 128 GB)'\n",
      " 'Realme XT (Pearl Blue, 64 GB)' 'Realme XT (Pearl White, 64 GB)'\n",
      " 'Realme X50 Pro (Rust Red, 128 GB)' 'Realme X50 Pro (Moss Green, 128 GB)'\n",
      " 'Realme X50 Pro (Moss Green, 256 GB)' 'Realme C3 (Frozen Blue, 32 GB)'\n",
      " 'Realme 6 (Comet White, 128 GB)'\n",
      " 'Realme 6 Pro (Lightning Orange, 128 GB)'\n",
      " 'Realme 6 Pro (Lightning Blue, 128 GB)'\n",
      " 'Realme C2 (Diamond Black, 32 GB)' 'Realme C2 (Diamond Blue, 32 GB)'\n",
      " 'Realme C2 (Diamond Ruby, 32 GB)' 'Realme 6 (Comet Blue, 128 GB)'\n",
      " 'Realme C2 (Diamond Sapphire, 32 GB)' 'Realme 5s (Crystal Red, 128 GB)'\n",
      " 'Realme 5s (Crystal Blue, 64 GB)' 'Realme 5s (Crystal Purple, 128 GB)'\n",
      " 'Realme 5s (Crystal Red, 64 GB)' 'Realme 5s (Crystal Blue, 128 GB)'\n",
      " 'Realme 5s (Crystal Purple, 64 GB)' 'Realme X2 Pro (Neptune Blue, 64 GB)'\n",
      " 'Realme X2 Pro (Lunar White, 64 GB)' 'Realme X2 Pro (Red Brick, 256 GB)'\n",
      " 'Realme X2 Pro (Concrete, 256 GB)' 'Realme X2 (Pearl White, 128 GB)'\n",
      " 'Realme X2 (Pearl Green, 128 GB)' 'Realme X2 (Pearl Blue, 64 GB)'\n",
      " 'Realme X2 (Pearl Green, 64 GB)' 'Realme X2 (Pearl Blue, 128 GB)'\n",
      " 'Realme C2 (Diamond Blue, 16 GB)' 'Realme Narzo 10 (That Blue, 128 GB)'\n",
      " 'Realme X3 (Glacier Blue, 128 GB)' 'Realme X3 (Arctic White, 128 GB)'\n",
      " 'Realme X3 SuperZoom (Glacier Blue, 128 GB)'\n",
      " 'Realme X3 SuperZoom (Glacier Blue, 256 GB)'\n",
      " 'Realme X3 SuperZoom (Arctic White, 256 GB)'\n",
      " 'Realme X3 SuperZoom (Arctic White, 128 GB)'\n",
      " 'Realme 3 (Dynamic Black, 32 GB)' 'Realme 3 (Diamond Red, 64 GB)'\n",
      " 'Realme 3 (Radiant Blue, 64 GB)' 'Realme 3 (Dynamic Black, 64 GB)'\n",
      " 'Realme 3 (Diamond Red, 32 GB)' 'Realme 3 (Black, 64 GB)'\n",
      " 'Redmi 8 (Sapphire Blue, 64 GB)' 'Redmi 8 (Onyx Black, 64 GB)'\n",
      " 'Redmi K20 Pro (Flame Red, 128 GB)'\n",
      " 'Redmi Note 9 Pro (Aurora Blue, 64 GB)'\n",
      " 'Redmi K20 Pro (Carbon Black, 128 GB)' 'Mi A3 (More Than White, 128 GB)'\n",
      " 'Redmi K20 Pro (Glacier Blue, 128 GB)'\n",
      " 'Redmi Note 7 Pro (Space Black, 128 GB)' 'Mi A3 (Not just Blue, 128 GB)'\n",
      " 'Mi Mix 2 (Black, 128 GB)' 'Redmi K20 Pro (Pearl White, 128 GB)'\n",
      " 'Mi A3 (Kind of Grey, 128 GB)' 'Redmi K20 Pro (Carbon Black, 256 GB)'\n",
      " 'Redmi Note 7 Pro (Nebula Red, 128 GB)' 'Redmi K20 (Carbon Black, 64 GB)'\n",
      " 'Redmi Y2 (Gold, 64 GB)' 'Redmi K20 Pro (Pearl White, 256 GB)'\n",
      " 'Redmi K20 (Glacier Blue, 128 GB)' 'Redmi Note 6 Pro (Rose Gold, 64 GB)'\n",
      " 'Mi A2 (Red, 64 GB)' 'Mi 10 (Twilight Grey, 256 GB)'\n",
      " 'Mi 10 (Coral Green, 128 GB)' 'Redmi K20 (Flame Red, 128 GB)'\n",
      " 'Mi A2 (Red, 128 GB)' 'Mi A2 (Gold, 128 GB)'\n",
      " 'Redmi K20 (Carbon Black, 128 GB)' 'Mi A2 (Lake Blue, 128 GB)'\n",
      " 'Redmi Note 5 Pro (Red, 64 GB)' 'Redmi K20 (Pearl White, 128 GB)'\n",
      " 'MI3 (Metallic Grey, 16 GB)' 'Redmi 8 (Emerald Green, 64 GB)'\n",
      " 'Redmi 8 (Ruby Red, 64 GB)' 'Mi A3 (Kind of Grey, 64 GB)'\n",
      " 'Redmi Note 9 Pro (Interstellar Black, 128 GB)'\n",
      " 'Redmi Note 9 Pro (Aurora Blue, 128 GB)'\n",
      " 'Redmi 8A Dual (Sea Blue, 32 GB)' 'Redmi 8A Dual (Midnight Grey, 32 GB)'\n",
      " 'Redmi Note 8 (Moonlight White, 64 GB)'\n",
      " 'Redmi Note 8 (Neptune Blue, 128 GB)'\n",
      " 'Redmi Note 8 (Neptune Blue, 32 GB)' 'Mi A3 (Not just Blue, 64 GB)'\n",
      " 'Mi A3 (More Than White, 64 GB)' 'Redmi Note 8 (Neptune Blue, 64 GB)'\n",
      " 'Redmi Note 8 (Space Black, 64 GB)' 'Redmi 8A Dual (Sky White, 32 GB)'\n",
      " 'Redmi Note 7 Pro (Space Black, 64 GB)'\n",
      " 'Redmi K20 Pro (Flame Red, 256 GB)'\n",
      " 'Redmi Note 9 Pro (Glacier White, 64 GB)'\n",
      " 'Redmi Note 9 Pro (Interstellar Black, 64 GB)'\n",
      " 'Redmi Note 6 Pro (Black, 64 GB)' 'Redmi Note 6 Pro (Red, 64 GB)'\n",
      " 'Redmi Note 4 (Black, 64 GB)' 'Redmi K20 (Glacier Blue, 64 GB)'\n",
      " 'Redmi Note 5 Pro (Gold, 64 GB)'\n",
      " 'Redmi Note 7 Pro (Astro Moonlight White, 128 GB)'\n",
      " 'Redmi Note 9 Pro Max (Interstellar Black, 128 GB)'\n",
      " 'Redmi Note 9 Pro Max (Glacier White, 128 GB)'\n",
      " 'Redmi 8A (Sunset Red, 32 GB)' 'Mi 10 (Coral Green, 256 GB)'\n",
      " 'Redmi Note 5 Pro (Black, 64 GB)' 'Redmi Note 5 Pro (Rose Gold, 64 GB)'\n",
      " 'Mi A2 (Blue/Lake Blue, 64 GB)' 'Redmi Go (Blue, 16 GB)'\n",
      " 'Redmi Note 7S (Sapphire Blue, 32 GB)' 'Redmi Y2 (Rose Gold, 64 GB)'\n",
      " 'Redmi 7A (Matte Black, 32 GB)' 'Redmi Note 7S (Onyx Black, 64 GB)'\n",
      " 'Redmi Y2 (Blue, 32 GB)' 'Redmi Y2 (Black, 64 GB)'\n",
      " 'Redmi Note 7 (Onyx Black, 32 GB)' 'Redmi 7A (Matte Black, 16 GB)'\n",
      " 'Redmi 6 (Rose Gold, 32 GB)' 'Redmi Note 7 (Ruby Red, 32 GB)'\n",
      " 'Redmi Note 7S (Ruby Red, 64 GB)' 'Redmi 7A (Matte Gold, 16 GB)'\n",
      " 'Redmi Note 5 Pro (Blue, 64 GB)' 'Redmi Y3 (Elegant Blue, 32 GB)'\n",
      " 'Redmi Y3 (Prime Black, 32 GB)' 'Redmi Note 7 (Sapphire Blue, 32 GB)'\n",
      " 'Redmi K20 (Flame Red, 64 GB)'\n",
      " 'Redmi Note 7S (Astro Moonlight White, 32 GB)'\n",
      " 'Redmi Note 4 (Gold, 64 GB)' 'Redmi 8A Dual (Sky White, 64 GB)'\n",
      " 'Redmi 8A Dual (Sea Blue, 64 GB)'\n",
      " 'Redmi Note 7 Pro (Neptune Blue, 128 GB)'\n",
      " 'Redmi 8A Dual (Midnight Grey, 64 GB)'\n",
      " 'Redmi Note 9 Pro (Glacier White, 128 GB)'\n",
      " 'Redmi Note 7 (Sapphire Blue, 64 GB)' 'Mi A2 (Rose Gold, 64 GB)'\n",
      " 'Redmi 7A (Matte Gold, 32 GB)' 'Redmi Y2 (Rose Gold, 32 GB)'\n",
      " 'Redmi Y1 (Grey, 64 GB)' 'Redmi Y2 (Dark Grey, 32 GB)'\n",
      " 'Vivo Y12 (Burgundy Red, 64 GB)' 'Vivo U10 (Thunder Black, 32 GB)'\n",
      " 'Vivo Y11 (Mineral Blue, 32 GB)' 'Vivo Z1x (Fusion Blue, 64 GB)'\n",
      " 'Vivo Z1x (Phantom Purple, 64 GB)' 'Vivo Z1x (Fusion Blue, 128 GB)'\n",
      " 'Vivo Z1x (Phantom Purple, 128 GB)' 'Vivo Y15 (Burgundy Red, 64 GB)'\n",
      " 'Vivo Y11 (Agate Red, 32 GB)' 'Vivo S1 Pro (Mystic Black, 128 GB)'\n",
      " 'Vivo S1 Pro (Jazzy Blue, 128 GB)' 'Vivo S1 Pro (Dreamy White, 128 GB)'\n",
      " 'Vivo Y91i (Fusion Black, 32 GB)' 'Vivo Y91i (Ocean Blue, 32 GB)'\n",
      " 'Vivo Y50 (Pearl White, 128 GB)' 'Vivo Y50 (Iris Blue, 128 GB)'\n",
      " 'Vivo Z1Pro (Sonic Black, 128 GB)' 'Vivo Z1Pro (Sonic Black, 64 GB)'\n",
      " 'Vivo Z1Pro (Sonic Blue, 128 GB)' 'Vivo Y19 (Magnetic Black, 128 GB)'\n",
      " 'Vivo V19 (Mystic Silver, 256 GB)' 'Vivo V19 (Mystic Silver, 128 GB)'\n",
      " 'Vivo V19 (Piano Black, 128 GB)' 'Vivo V19 (Piano Black, 256 GB)'\n",
      " 'Vivo V17 (Glacier ice white, 128 GB)'\n",
      " 'Vivo V17 (Midnight Ocean Black, 128 GB)'\n",
      " 'Vivo U10 (Electric Blue, 64 GB)' 'Vivo S1 (Skyline Blue, 64 GB)'\n",
      " 'Vivo S1 (Skyline Blue, 128 GB)' 'Vivo S1 (Diamond Black, 128 GB)'\n",
      " 'Vivo Y91i (Fusion Black, 16 GB)' 'Vivo V15 Pro (Topaz Blue, 128 GB)'\n",
      " 'Vivo Y17 (Mystic Purple, 128 GB)' 'Vivo V15 Pro (Ruby Red, 128 GB)'\n",
      " 'Vivo V17Pro (Midnight Ocean Black, 128 GB)'\n",
      " 'Vivo V17Pro (Glacier Ice White, 128 GB)'\n",
      " 'Vivo U10 (Thunder Black, 64 GB)'\n",
      " 'Vivo V11 Pro (Starry Night Black, 64 GB)' 'Vivo NEX (Black, 128 GB)'\n",
      " 'Vivo Y81 (Black, 32 GB)' 'Vivo V9 Youth (Black, 32 GB)'\n",
      " 'Vivo V15 (Frozen Black, 64 GB)' 'Vivo Y93 (Starry Black, 32 GB)'\n",
      " 'Vivo Y93 (Starry Black, 64 GB)' 'Vivo Y91 (Ocean Blue, 32 GB)'\n",
      " 'Vivo V7 (Matte Black, 32 GB)' 'Vivo V7 (Energetic Blue, 32 GB)'\n",
      " 'Vivo Y83 (Gold, 32 GB)' 'Vivo V9 (Gold, 64 GB)'\n",
      " 'Vivo Y71i (Matte Black, 16 GB)' 'Vivo Y93 (Nebula Purple, 32 GB)'\n",
      " 'Vivo U10 (Electric Blue, 32 GB)' 'Vivo Z1Pro (Sonic Blue, 64 GB)'\n",
      " 'Vivo V9 Pro (Black, 64 GB)' 'Vivo V9 Pro (Nebula Purple, 64 GB)'\n",
      " 'Vivo Y81 (Gold, 32 GB)' 'Vivo V9 Youth (Gold, 32 GB)'\n",
      " 'Vivo Y91 (Starry Black, 32 GB)' 'Vivo Y71 (Gold, 16 GB)'\n",
      " 'Vivo Y71 (Matte Black, 32 GB)' 'Vivo V7+ (Energetic Blue, 64 GB)'\n",
      " 'Vivo Y55S (Matte Black, 16 GB)' 'Vivo Y55S (Grey, 16 GB)'\n",
      " 'Vivo Y81i (Gold, 16 GB)' 'Vivo Y71 (Matte Black, 16 GB)'\n",
      " 'Vivo Y71 (Gold, 32 GB)' 'Vivo Y91i (Black, 32 GB)'\n",
      " 'Vivo Y69 (Gold, 32 GB)' 'Samsung Galaxy M30S (Blue, 128 GB)'\n",
      " 'Samsung Galaxy A21s (Blue, 64 GB)' 'Samsung Galaxy A21s (Black, 64 GB)'\n",
      " 'Samsung Galaxy A21s (White, 64 GB)'\n",
      " 'Samsung Galaxy M21 (Midnight Blue, 64 GB)'\n",
      " 'Samsung Galaxy M21 (Raven Black, 64 GB)'\n",
      " 'Samsung Galaxy J2 Core (Black, 16 GB)'\n",
      " 'Samsung Galaxy M31 (Ocean Blue, 128 GB)'\n",
      " 'Samsung Galaxy S10 Lite (Prism Blue, 512 GB)'\n",
      " 'Samsung Galaxy S10 Lite (Prism Black, 512 GB)'\n",
      " 'Samsung Galaxy J2-2017 (Metallic gold, 8 GB)'\n",
      " 'Samsung Galaxy J7 Pro (Black, 64 GB)'\n",
      " 'Samsung Galaxy J7 Nxt (Black, 16 GB)'\n",
      " 'Samsung Galaxy J7 Nxt (Gold, 16 GB)' 'Infinix Hot 9 Pro (Violet, 64 GB)'\n",
      " 'Infinix Hot 9 Pro (Ocean Wave, 64 GB)' 'Infinix Hot 9 (Violet, 64 GB)'\n",
      " 'Infinix Hot 9 (Ocean Wave, 64 GB)'\n",
      " 'Infinix Note 5 Stylus (Charcoal Blue, 64 GB)'\n",
      " 'Infinix S5 Pro (Forest Green, 64 GB)' 'Infinix S5 Pro (Violet, 64 GB)'\n",
      " 'Infinix Note 5 Stylus (Bordeaux Red, 64 GB)'\n",
      " 'Infinix Hot S3X (Tradew Gray, 32 GB)'\n",
      " 'Infinix Hot S3X (Milan Black, 32 GB)' 'Infinix Note 5 (Ice Blue, 64 GB)'\n",
      " 'Infinix Note 5 (Berlin Gray, 64 GB)'\n",
      " 'Infinix Hot 7 (Midnight Black, 64 GB)'\n",
      " 'Infinix Hot 7 (Mocha Brown, 64 GB)' 'Infinix Hot 7 (Aqua Blue, 64 GB)'\n",
      " 'Infinix Note 5 (Berlin Gray, 32 GB)'\n",
      " 'Infinix Hot S3 (Topaz Blue, 64 GB)'\n",
      " 'Infinix Hot S3 (Sandstone Black, 64 GB)'\n",
      " 'Infinix Hot S3 (Blush Gold, 64 GB)' 'Infinix S5 Lite (Violet, 64 GB)'\n",
      " 'Infinix S5 Lite (Quetzal Cyan, 64 GB)'\n",
      " 'Infinix S5 Lite (Midnight Black, 64 GB)'\n",
      " 'Infinix Note 5 (Milan Black, 32 GB)'\n",
      " 'Infinix Zero 5 Pro (Bronze Gold Black, 128 GB)'\n",
      " 'Infinix S4 (Nebula Blue, 32 GB)' 'Infinix S4 (Twilight Purple, 32 GB)'\n",
      " 'Infinix S4 (Space Gray, 32 GB)' 'Infinix S5 (Quetzal Cyan, 64 GB)'\n",
      " 'Infinix S5 (Violet, 64 GB)' 'Infinix Hot S3 (Blush Gold, 32 GB)'\n",
      " 'Infinix Hot S3 (Sandstone Black, 32 GB)'\n",
      " 'Infinix Hot S3 (Topaz Blue, 32 GB)'\n",
      " 'Infinix Hot S3 (Bordeaux Red, 32 GB)'\n",
      " 'Infinix Note 5 (Milan Black, 64 GB)'\n",
      " 'Infinix Zero 5 (Sandstone Black, 64 GB)'\n",
      " 'Infinix Zero 5 (Bordeaux Red, 64 GB)' 'POCO F1 (Steel Blue, 128 GB)'\n",
      " 'POCO F1 (Steel Blue, 256 GB)' 'POCO F1 (Graphite Black, 256 GB)'\n",
      " 'POCO F1 (Armoured Edition, 256 GB)' 'POCO F1 (Rosso Red, 64 GB)'\n",
      " 'POCO X2 (Matrix Purple, 256 GB)' 'POCO X2 (Matrix Purple, 64 GB)'\n",
      " 'POCO X2 (Atlantis Blue, 64 GB)' 'POCO X2 (Phoenix Red, 128 GB)'\n",
      " 'POCO X2 (Atlantis Blue, 128 GB)' 'POCO X2 (Atlantis Blue, 256 GB)'\n",
      " 'POCO X2 (Phoenix Red, 256 GB)' 'POCO X2 (Phoenix Red, 64 GB)'\n",
      " 'POCO X2 Special Edition (Matrix Purple, 128 GB)'\n",
      " 'POCO F1 (Rosso Red, 128 GB)' 'POCO F1 (Graphite Black, 128 GB)'\n",
      " 'POCO F1 (Rosso Red, 256 GB)' 'POCO F1 (Armoured Edition, 128 GB)'\n",
      " 'POCO X2 Special Edition (Atlantis Blue, 128 GB)'\n",
      " 'POCO X2 Special Edition (Phoenix Red, 128 GB)'\n",
      " 'POCO F1 (Steel Blue, 64 GB)' 'POCO F1 (Graphite Black, 64 GB)'\n",
      " 'POCO M2 Pro (Green and Greener, 64 GB)'\n",
      " 'POCO M2 Pro (Green and Greener, 128 GB)'\n",
      " 'POCO M2 Pro (Out of the Blue, 128 GB)'\n",
      " 'POCO M2 Pro (Two Shades of Black, 128 GB)'\n",
      " 'POCO M2 Pro (Two Shades of Black, 64 GB)'\n",
      " 'POCO M2 Pro (Out of the Blue, 64 GB)' 'OPPO A31 (Fantasy White, 64 GB)'\n",
      " 'OPPO A31 (Fantasy White, 128 GB)' 'OPPO A31 (Mystery Black, 128 GB)'\n",
      " 'OPPO A31 (Mystery Black, 64 GB)' 'OPPO A9 2020 (Marine Green, 128 GB)'\n",
      " 'OPPO A12 (Black, 32 GB)' 'OPPO A12 (Blue, 32 GB)'\n",
      " 'OPPO A5s (Blue, 32 GB)' 'OPPO F15 (Unicorn White, 128 GB)'\n",
      " 'OPPO F15 (Blazing Blue, 128 GB)' 'OPPO A52 (Twilight Black, 128 GB)'\n",
      " 'OPPO A52 (Stream White, 128 GB)' 'OPPO A11K (Deep Blue, 32 GB)'\n",
      " 'OPPO A11K (Flowing Silver, 32 GB)' 'OPPO A5s (Green, 64 GB)'\n",
      " 'OPPO A9 2020 (Space Purple, 128 GB)'\n",
      " 'OPPO F15 (Lightening Black, 128 GB)' 'OPPO A5s (Gold, 64 GB)'\n",
      " 'OPPO Reno3 Pro (Sky White, 128 GB)'\n",
      " 'OPPO Reno3 Pro (Auroral Blue, 128 GB)'\n",
      " 'OPPO Reno3 Pro (Midnight Black, 128 GB)' 'OPPO A5s (Black, 32 GB)'\n",
      " 'OPPO F11 Pro (Thunder Black, 64 GB)'\n",
      " 'OPPO Reno 10x Zoom (Ocean Green, 256 GB)'\n",
      " 'OPPO Reno2 (Ocean Blue, 256 GB)' 'OPPO Find X (Glacier Blue, 256 GB)'\n",
      " 'OPPO Find X (Bordeaux Red, 256 GB)'\n",
      " 'OPPO Reno2 Z (Luminous Black, 256 GB)'\n",
      " 'OPPO A83 (2018 Edition) (Champagne, 64 GB)'\n",
      " 'OPPO A9 2020 (Vanilla Mint, 128 GB)' 'OPPO A5s (Red, 32 GB)'\n",
      " 'OPPO K1 (Piano Black, 64 GB)' 'OPPO F9 Pro (Sunrise Red, 64 GB)'\n",
      " 'OPPO K1 (Astral Blue, 64 GB)' 'OPPO F11 (Marble Green, 128 GB)'\n",
      " 'OPPO A1K (Red, 32 GB)' 'OPPO A7 (Glaring Gold, 64 GB)'\n",
      " 'OPPO F9 Pro (Twilight Blue, 64 GB)' 'OPPO F9 Pro (Starry Purple, 64 GB)'\n",
      " 'OPPO A7 (Glaze Blue, 64 GB)' 'OPPO A3s (Red, 64 GB)'\n",
      " 'OPPO A3s (Red, 16 GB)' 'OPPO A3s (Purple, 16 GB)'\n",
      " 'OPPO A12 (Black, 64 GB)' 'OPPO A12 (Blue, 64 GB)'\n",
      " 'OPPO F11 Pro (Waterfall Grey, 128 GB)'\n",
      " 'OPPO F11 Pro (Thunder Black, 128 GB)'\n",
      " 'OPPO R17 Pro (Radiant Mist, 128 GB)' 'OPPO A83 (Black, 32 GB)'\n",
      " 'OPPO A83 (Red, 16 GB)' 'OPPO F7 (Red, 64 GB)'\n",
      " 'OPPO F11 (Fluorite Purple, 128 GB)' 'OPPO F11 (Jewelry White, 128 GB)'\n",
      " 'OPPO F1S (Rose Gold, 64 GB)' 'OPPO F1S (Grey, 64 GB)'\n",
      " 'OPPO F1S (Gold, 64 GB)' 'OPPO F1S (Grey, 32 GB)'\n",
      " 'OPPO A71k (New Edition) (Blue, 16 GB)' 'OPPO A3s (Purple, 32 GB)'\n",
      " 'OPPO F3 (Rose Gold, 64 GB)' 'OPPO A5 (Diamond Red, 32 GB)'\n",
      " 'OPPO A83 (2018 Edition) (Red, 64 GB)' 'OPPO F9 (Stellar Purple, 64 GB)'\n",
      " 'OPPO A3s (Purple, 64 GB)' 'OPPO Reno 10x Zoom (Jet Black, 256 GB)'\n",
      " 'OPPO Reno 10x Zoom (Jet Black, 128 GB)']\n",
      "\n",
      "\n",
      "mobile_price ['₹8,999' '₹9,999' '₹11,999' '₹14,999' '₹16,999' '₹13,999' '₹35,999'\n",
      " '₹31,999' '₹15,490' '₹41,999' '₹46,999' '₹19,999' '₹6,999' '₹7,499'\n",
      " '₹17,999' '₹10,999' '₹29,999' '₹36,999' '₹20,999' '₹6,499' '₹25,999'\n",
      " '₹24,999' '₹27,999' '₹32,999' '₹8,499' '₹9,499' '₹10,499' '₹9,799'\n",
      " '₹16,939' '₹17,350' '₹21,999' '₹13,495' '₹15,990' '₹55,799' '₹51,800'\n",
      " '₹16,899' '₹12,999' '₹16,998' '₹7,399' '₹11,199' '₹13,261' '₹10,978'\n",
      " '₹11,280' '₹10,100' '₹7,450' '₹55,400' '₹6,700' '₹6,699' '₹7,999'\n",
      " '₹8,369' '₹8,090' '₹8,498' '₹9,990' '₹11,349' '₹14,800' '₹13,990'\n",
      " '₹8,689' '₹11,599' '₹9,900' '₹10,990' '₹10,849' '₹16,990' '₹18,990'\n",
      " '₹12,990' '₹19,990' '₹8,990' '₹11,982' '₹17,990' '₹8,705' '₹8,949'\n",
      " '₹16,375' '₹31,990' '₹27,990' '₹24,990' '₹11,990' '₹9,199' '₹22,399'\n",
      " '₹21,099' '₹29,499' '₹11,490' '₹28,499' '₹28,990' '₹29,990' '₹15,500'\n",
      " '₹14,990' '₹18,900' '₹24,000' '₹8,900' '₹11,500' '₹10,900' '₹12,000'\n",
      " '₹22,325' '₹13,995' '₹13,529' '₹8,998' '₹14,914' '₹14,538' '₹17,490'\n",
      " '₹16,499' '₹18,499' '₹15,999' '₹6,299' '₹19,900' '₹47,999' '₹6,000'\n",
      " '₹20,995' '₹11,995' '₹10,995' '₹11,499' '₹7,699' '₹7,599' '₹9,599'\n",
      " '₹18,999' '₹22,999' '₹21,499' '₹17,499' '₹12,490' '₹15,899' '₹41,990'\n",
      " '₹38,990' '₹60,990' '₹14,499' '₹13,744' '₹9,490' '₹18,989' '₹19,038'\n",
      " '₹8,490' '₹19,600' '₹21,150' '₹17,500' '₹14,495' '₹9,500' '₹31,590'\n",
      " '₹13,490' '₹22,990' '₹18,000' '₹13,500' '₹17,000' '₹15,000']\n",
      "\n",
      "\n",
      "mobile_color ['So White' 'So Blue' 'That Green' 'That White' 'Crystal Green'\n",
      " 'Sparkling Blue' 'Lunar White' 'Neptune Blue' 'Black Sea' 'Pearl Blue'\n",
      " 'Pearl White' 'Rust Red' 'Moss Green' 'Frozen Blue' 'Comet White'\n",
      " 'Lightning Orange' 'Lightning Blue' 'Diamond Black' 'Diamond Blue'\n",
      " 'Diamond Ruby' 'Comet Blue' 'Diamond Sapphire' 'Crystal Red'\n",
      " 'Crystal Blue' 'Crystal Purple' 'Red Brick' 'Concrete' 'Pearl Green'\n",
      " 'That Blue' 'Glacier Blue' 'Arctic White' 'Dynamic Black' 'Diamond Red'\n",
      " 'Radiant Blue' 'Black' 'Sapphire Blue' 'Onyx Black' 'Flame Red'\n",
      " 'Aurora Blue' 'Carbon Black' 'More Than White' 'Space Black'\n",
      " 'Not just Blue' 'Kind of Grey' 'Nebula Red' 'Gold' 'Rose Gold' 'Red'\n",
      " 'Twilight Grey' 'Coral Green' 'Lake Blue' 'Metallic Grey' 'Emerald Green'\n",
      " 'Ruby Red' 'Interstellar Black' 'Sea Blue' 'Midnight Grey'\n",
      " 'Moonlight White' 'Sky White' 'Glacier White' 'Astro Moonlight White'\n",
      " 'Sunset Red' 'Blue/Lake Blue' 'Blue' 'Matte Black' 'Matte Gold'\n",
      " 'Elegant Blue' 'Prime Black' 'Grey' 'Dark Grey' 'Burgundy Red'\n",
      " 'Thunder Black' 'Mineral Blue' 'Fusion Blue' 'Phantom Purple' 'Agate Red'\n",
      " 'Mystic Black' 'Jazzy Blue' 'Dreamy White' 'Fusion Black' 'Ocean Blue'\n",
      " 'Iris Blue' 'Sonic Black' 'Sonic Blue' 'Magnetic Black' 'Mystic Silver'\n",
      " 'Piano Black' 'Glacier ice white' 'Midnight Ocean Black' 'Electric Blue'\n",
      " 'Skyline Blue' 'Topaz Blue' 'Mystic Purple' 'Glacier Ice White'\n",
      " 'Starry Night Black' 'Frozen Black' 'Starry Black' 'Energetic Blue'\n",
      " 'Nebula Purple' 'White' 'Midnight Blue' 'Raven Black' 'Prism Blue'\n",
      " 'Prism Black' 'Metallic gold' 'Violet' 'Ocean Wave' 'Charcoal Blue'\n",
      " 'Forest Green' 'Bordeaux Red' 'Tradew Gray' 'Milan Black' 'Ice Blue'\n",
      " 'Berlin Gray' 'Midnight Black' 'Mocha Brown' 'Aqua Blue'\n",
      " 'Sandstone Black' 'Blush Gold' 'Quetzal Cyan' 'Bronze Gold Black'\n",
      " 'Nebula Blue' 'Twilight Purple' 'Space Gray' 'Steel Blue'\n",
      " 'Graphite Black' 'Armoured Edition' 'Rosso Red' 'Matrix Purple'\n",
      " 'Atlantis Blue' 'Phoenix Red' 'Green and Greener' 'Out of the Blue'\n",
      " 'Two Shades of Black' 'Fantasy White' 'Mystery Black' 'Marine Green'\n",
      " 'Unicorn White' 'Blazing Blue' 'Twilight Black' 'Stream White'\n",
      " 'Deep Blue' 'Flowing Silver' 'Green' 'Space Purple' 'Lightening Black'\n",
      " 'Auroral Blue' 'Ocean Green' 'Luminous Black' 'Champagne' 'Vanilla Mint'\n",
      " 'Sunrise Red' 'Astral Blue' 'Marble Green' 'Glaring Gold' 'Twilight Blue'\n",
      " 'Starry Purple' 'Glaze Blue' 'Purple' 'Waterfall Grey' 'Radiant Mist'\n",
      " 'Fluorite Purple' 'Jewelry White' 'Stellar Purple' 'Jet Black']\n",
      "\n",
      "\n",
      "dual_sim ['Dual Sim' 'Single Sim']\n",
      "\n",
      "\n",
      "disp_size ['16.56 cm (6.52 inch)' '16.51 cm (6.5 inch)' '16.0 cm (6.3 inch)'\n",
      " '16.26 cm (6.4 inch)' '16.36 cm (6.44 inch)' '16.76 cm (6.6 inch)'\n",
      " '15.49 cm (6.1 inch)' '16.69 cm (6.57 inch)' '15.8 cm (6.22 inch)'\n",
      " '16.23 cm (6.39 inch)' '16.94 cm (6.67 inch)' '15.44 cm (6.08 inch)'\n",
      " '15.21 cm (5.99 inch)' '15.9 cm (6.26 inch)' '12.7 cm (5 inch)'\n",
      " '15.46 cm (6.088 inch)' '13.97 cm (5.5 inch)' '13.84 cm (5.45 inch)'\n",
      " '16.13 cm (6.35 inch)' '16.21 cm (6.38 inch)' '16.59 cm (6.53 inch)'\n",
      " '16.28 cm (6.41 inch)' '16.74 cm (6.59 inch)' '14.48 cm (5.7 inch)'\n",
      " '15.24 cm (6 inch)' '13.21 cm (5.2 inch)' '17.02 cm (6.7 inch)'\n",
      " '11.94 cm (4.7 inch)' '15.06 cm (5.93 inch)' '15.75 cm (6.2 inch)'\n",
      " '15.72 cm (6.19 inch)' '14.35 cm (5.65 inch)' '15.19 cm (5.98 inch)'\n",
      " '15.77 cm (6.21 inch)' '15.7 cm (6.18 inch)' '15.82 cm (6.23 inch)']\n",
      "\n",
      "\n",
      "resolution ['1600 x 720 Pixels' '2340 x 1080 pixels' '2400 x 1080 Pixels'\n",
      " '1080 x 2340 Pixels' '1080 x 2400 Pixels' '720 x 1600 Pixels'\n",
      " '1560 x 720 pixels' '2400 × 1080 Pixels' '1520 x 720 pixels'\n",
      " '1520 x 720 Pixels' '2400 x 1080 pixel' '1560 x 720 Pixels'\n",
      " '2160 x 1080 Pixels' '1440 x 720 pixels' '2280 x 1080 pixels'\n",
      " '2160 x 1080 pixels' '2340 x 1080 Pixel' '1920 x 1080 Pixels'\n",
      " '1520 x 720$$Pixels' '1520 x 720$$pixel' '2280 x 1080$$Pixels'\n",
      " '1920 x 1080 pixels' '2400 x 1080 Pixel' '1280 x 720 pixels'\n",
      " '2400 x 1080$$pixel' '1280 x 720 Pixels' '720 x 1544 pixels'\n",
      " '720 x 1544 Pixels' '2340 x 1080 Pixels' '2316 x 1080 pixels'\n",
      " '2280 x 1080 Pixels' '1440 x 720 Pixels' '1440 x 720 Pixel'\n",
      " '1520 x 720$$ pixels' '1520 x 720$pixels' '2340 x 1080$$pixel'\n",
      " '2340 x 1080$$Pixel' '960 x 540 Pixels' '540 x 960 Pixels'\n",
      " '1080 x 2160 pixels' '1500 x 720 pixels' '720 x 1440 Pixels'\n",
      " '720*1440 Pixels' '1080 x 1920 Pixels' '720 x 1520 pixels'\n",
      " '1080 x 2340 pixels' '720 x 1560 pixels' '720 x 1280']\n",
      "\n",
      "\n",
      "os ['Android 10' 'Android Pie 9.0' 'Android Pie 9' 'Android Oreo 8.1'\n",
      " 'Android Pie 10' 'Android Nougat 7.1.1' 'Android Oreo 8.0'\n",
      " 'Android Nougat 7.1.2' 'Android KitKat 4.4.2' 'Android Marshmallow 6.0.1'\n",
      " 'Android Nougat 7.1' 'Android Marshmallow 6' 'Android Nougat 7'\n",
      " 'Android Lollipop 5.4.1' 'Android Oreo 8.1.0' 'Android Oreo 8'\n",
      " 'Android Lollipop 5.1' 'Android Lollipop 5.1.1']\n",
      "\n",
      "\n",
      "num_cores ['Octa Core' 'Quad Core' 'Single Core']\n",
      "\n",
      "\n",
      "mp_speed ['2 GHz' '2.3 GHz' '2.96 GHz' '1.95 GHz' '2.8 GHz' '2.05 GHz' '2.2 GHz'\n",
      " '2.1 GHz' '2.84 GHz' '2.5 GHz' '1.8 GHz' '1.4 GHz' '1.5 GHz' '1.3 GHz'\n",
      " '1.6 GHz' '2.39 GHz' '2.6 GHz' '2.649 GHz']\n",
      "\n",
      "\n",
      "int_memory ['32 GB' '64 GB' '128 GB' '256 GB' '16 GB' '512 GB' '8 GB']\n",
      "\n",
      "\n",
      "ram ['3 GB' '4 GB' '6 GB' '8 GB' '12 GB' '2 GB' '1 GB']\n",
      "\n",
      "\n",
      "p_cam ['12MP + 2MP + 2MP' '48MP + 8MP + 2MP + 2MP'\n",
      " '48MP + 8MP + 2MP + 2MP Quad Camera' '64MP + 13MP + 8MP + 2MP'\n",
      " '16MP + 2MP' '64MP + 8MP + 2MP + 2MP Quad Camera'\n",
      " '64MP + 12MP + 8MP + 2MP' '12MP + 2MP' '64MP + 8MP + 2MP + 2MP'\n",
      " '13MP + 2MP' '64MP + 8MP + 8MP + 2MP' '48MP + 13MP + 8MP'\n",
      " '48MP + 8MP + 5MP + 2MP' '48MP + 8MP + 2MP' '48MP + 5MP'\n",
      " '12MP Rear Camera' '12MP + 5MP' '20MP + 12MP' '108MP Rear Camera'\n",
      " '13MP Rear Camera' '48MP + 8MP' '64MP + 8MP + 5MP + 2MP'\n",
      " '8MP Rear Camera' '13MP + 2MP + 8MP' '13MP + 8MP + 2MP'\n",
      " '13MP + 8MP + 2MP + 2MP' '16MP + 2MP + 8MP' '16MP + 8MP + 2MP'\n",
      " '48MP + 5MP + 8MP'\n",
      " '48 Million Quad Pixel Sensor (12 Million Effective Pixel) + 8MP + 5MP, AI Triple Rear Camera'\n",
      " '48MP + 13MP + 8MP + 2MP' '12MP + 5MP + 8MP' '16MP Rear Camera'\n",
      " '16MP + 5MP' '48MP + 8MP + 5MP' '64MP + 8MP + 5MP + 5MP'\n",
      " '48MP + 12MP + 5MP' '5MP Rear Camera'\n",
      " '48 MP + 2 MP + 2 MP + Low Light Sensor'\n",
      " '13 MP + 2 MP + 2 MP + Low Light Sensor' '48MP + 2MP + Low Light Sensor'\n",
      " '16MP + 2MP + Low Light Sensor' '12MP + 13MP'\n",
      " '13MP + 2MP Depth Sensor + 8MP Wide Angle sensor'\n",
      " '16MP + 5MP + 2MP + Low Light Sensor' '12MP + 8MP + 2MP + 2MP'\n",
      " '48MP + 8MP + 13MP + 2MP' '16MP + 20MP' '12MP + 20MP']\n",
      "\n",
      "\n",
      "f_cam ['5MP Front Camera' '16MP Front Camera' '32MP + 8MP Dual Front Camera'\n",
      " '16MP + 8MP Dual Front Camera' '13MP Front Camera' '32MP Front Camera'\n",
      " '8MP Front Camera' '20MP Front Camera' '20MP + 2MP Dual Front Camera'\n",
      " '2MP Front Camera' '8MP Dual Front Camera' '25MP Front Camera'\n",
      " '24MP Front Camera' '13MP + 2MP Dual Front Camera'\n",
      " '44MP + 2MP Dual Front Camera']\n",
      "\n",
      "\n",
      "network ['4G VOLTE, 4G, 3G, 2G' '3G, 4G VOLTE, 2G' '3G, 4G VOLTE, 4G, 2G'\n",
      " '3G, 4G, 2G' '4G, 2G, 3G' '5G, 4G VOLTE, 4G, 3G, 2G' '4G VOLTE, 3G, 2G'\n",
      " '4G VOLTE, 3G' '4G VOLTE, 4G, 2G, 3G' '4G VOLTE, 5G' '3G, 4G VOLTE, 4G'\n",
      " '3G' '4G VOLTE' '3G, 4G VOLTE' '2G' '4G, 3G, 2G' '3G, 4G' '4G VOLTE, 4G']\n",
      "\n",
      "\n",
      "bluetooth ['Yes']\n",
      "\n",
      "\n",
      "battery_power ['5000 mAh' '4035 mAh' '4000 mAh' '3500 mAh' '4200 mAh' '4300 mAh'\n",
      " '4230 mAh' '5020 mAh' '4030 mAh' '3400 mAh' '3080 mAh' '3010 mAh'\n",
      " '4780 mAh' '3050 mAh' '4100 mAh' '3000 mAh' '4500 mAh' '3700 mAh'\n",
      " '3260 mAh' '3360 mAh' '3225 mAh' '2730 mAh' '6000 mAh' '2600 mAh'\n",
      " '2000 mAh' '3600 mAh' '4350 mAh' '4025 mAh' '4065 mAh' '3730 mAh'\n",
      " '3180 mAh' '4020 mAh' '3075 mAh' '3200 mAh']\n",
      "\n",
      "\n",
      "mob_width ['75 mm' '75.4 mm' '74.2 mm' '75.7 mm' '74 mm' '75.16 mm' '74.24 mm'\n",
      " '74.8 mm' '75.8 mm' '73.7 mm' '75.6 mm' '75.2 mm' '75.41 mm' '74.3 mm'\n",
      " '76.68 mm' '71.85 mm' '75.21 mm' '75.49 mm' '77.26 mm' '76.4 mm'\n",
      " '75.35 mm' '73.6 mm' '9 mm' '8.35 mm' '76 mm' '70.1 mm' '70.4 mm'\n",
      " '71.5 mm' '75.58 mm' '76.2 mm' '76.77 mm' '75.23 mm' '75.19 mm'\n",
      " '75.09 mm' '76.46 mm' '77.33 mm' '76.47 mm' '75.04 mm' '74.17 mm'\n",
      " '74.71 mm' '74.7 mm' '75.08 mm' '77 mm' '75.03 mm' '75.93 mm' '72.8 mm'\n",
      " '75.24 mm' '75.74 mm' '72.9 mm' '159 mm' '75.3 mm' '72.1 mm' '69 mm'\n",
      " '152.4 mm' '76.8 mm' '76.88 mm' '75.25 mm' '72.85 mm' '82.38 mm'\n",
      " '76.6 mm' '75.5 mm' '73.3 mm' '73.4 mm' '76.1 mm' '77.2 mm' '73.1 mm'\n",
      " '77.35 mm' '74.6 mm' '154.5 mm' '73.8 mm']\n",
      "\n",
      "\n",
      "mob_height ['164.4 mm' '157 mm' '161 mm' '156.7 mm' '158.7 mm' '158.96 mm' '162.1 mm'\n",
      " '163.9 mm' '154.3 mm' '163.8 mm' '156.1 mm' '156.48 mm' '165.75 mm'\n",
      " '153.48 mm' '159.21 mm' '151.86 mm' '160.73 mm' '157.9 mm' '162.58 mm'\n",
      " '158.58 mm' '144 mm' '175 mm' '158.3 mm' '151 mm' '165.5 mm' '140.4 mm'\n",
      " '146.3 mm' '147.5 mm' '158.73 mm' '153 mm' '159.43 mm' '159.53 mm'\n",
      " '159.25 mm' '155.11 mm' '162.04 mm' '162.39 mm' '162.15 mm' '159.64 mm'\n",
      " '159.01 mm' '157.25 mm' '159 mm' '157.91 mm' '162 mm' '155.06 mm'\n",
      " '154.81 mm' '161.97 mm' '149.3 mm' '155.21 mm' '155.87 mm' '149.9 mm'\n",
      " '154.6 mm' '9 mm' '163.6 mm' '143.4 mm' '162.5 mm' '136.5 mm' '152.4 mm'\n",
      " '78.6 mm' '165 mm' '158 mm' '158.25 mm' '153.9 mm' '164 mm' '166.38 mm'\n",
      " '156 mm' '155.5 mm' '165.3 mm' '155.9 mm' '160.2 mm' '158.8 mm'\n",
      " '161.3 mm' '160 mm' '161.8 mm' '150.5 mm' '154.4 mm' '156.2 mm'\n",
      " '157.6 mm' '154.5 mm' '7.38 mm' '148.1 mm' '153.3 mm']\n",
      "\n",
      "\n",
      "mob_depth ['8.95 mm' '9 mm' '8.9 mm' '8.7 mm' '8.5 mm' '8.55 mm' '9.65 mm' '9.6 mm'\n",
      " '9.4 mm' '9.3 mm' '8.6 mm' '8.3 mm' '8.8 mm' '8.475 mm' '8.1 mm' '7.7 mm'\n",
      " '8.26 mm' '7.3 mm' '8.96 mm' '8.05 mm' '92 mm' '75.3 mm' '8.4 mm'\n",
      " '8.35 mm' '9.55 mm' '8.47 mm' '8.92 mm' '8.13 mm' '8.68 mm' '8.28 mm'\n",
      " '9.11 mm' '8.85 mm' '8.89 mm' '8.54 mm' '8.21 mm' '9.8 mm' '7.9 mm'\n",
      " '7.98 mm' '7.77 mm' '7.89 mm' '7.8 mm' '7.5 mm' '75 mm' '7.6 mm'\n",
      " '8.65 mm' '7.95 mm' '8.79 mm' '9.1 mm' '8.2 mm' '9.5 mm' '8.67 mm'\n",
      " '7.4 mm' '7.99 mm' '7.38 mm' '76 mm']\n",
      "\n",
      "\n",
      "mob_weight ['195 g' '199 g' '184 g' '174 g' '183 g' '207 g' '191 g' '166 g' '198 g'\n",
      " '182 g' '202 g' '175 g' '188 g' '209 g' '173.8 g' '186 g' '185 g' '168 g'\n",
      " '181 g' '145 g' '190 g' '165 g' '137 g' '146 g' '180 g' '154 g' '190.5 g'\n",
      " '189.6 g' '186.7 g' '163.5 g' '197 g' '201 g' '193 g' '186.5 g' '176 g'\n",
      " '179 g' '201.8 g' '156 g' '148 g' '150 g' '189.5 g' '139 g' '151 g'\n",
      " '160 g' '142 g' '143 g' '162.8 g' '187 g' '130 g' '178 g' '170 g' '194 g'\n",
      " '159 g' '155 g' '208 g' '172 g' '192 g' '215 g' '189 g' '169 g' '158 g'\n",
      " '153 g']\n",
      "\n",
      "\n"
     ]
    }
   ],
   "source": [
    "for col in df.columns:\n",
    "    print(col, df[col].unique())\n",
    "    print('\\n')"
   ]
  },
  {
   "cell_type": "markdown",
   "id": "0112c8d8",
   "metadata": {
    "papermill": {
     "duration": 0.101103,
     "end_time": "2021-11-15T07:59:58.743537",
     "exception": false,
     "start_time": "2021-11-15T07:59:58.642434",
     "status": "completed"
    },
    "tags": []
   },
   "source": [
    "**Observations:**\n",
    "* All values for bluetooth seem to be 'Yes'. No relationship to be found\n",
    "* There are values which have numbers to be used for correlation analysis if unnecessary strings are removed\n",
    "* Mobile name seem to have lot of information but they seem to be covered in other columns separately"
   ]
  },
  {
   "cell_type": "markdown",
   "id": "1c17b10d",
   "metadata": {
    "papermill": {
     "duration": 0.10021,
     "end_time": "2021-11-15T07:59:58.945922",
     "exception": false,
     "start_time": "2021-11-15T07:59:58.845712",
     "status": "completed"
    },
    "tags": []
   },
   "source": [
    "**Check how many numeric columns are present for easily doing a relationship analysis**"
   ]
  },
  {
   "cell_type": "code",
   "execution_count": 6,
   "id": "28b4246f",
   "metadata": {
    "execution": {
     "iopub.execute_input": "2021-11-15T07:59:59.153435Z",
     "iopub.status.busy": "2021-11-15T07:59:59.152793Z",
     "iopub.status.idle": "2021-11-15T07:59:59.161235Z",
     "shell.execute_reply": "2021-11-15T07:59:59.161956Z",
     "shell.execute_reply.started": "2021-11-15T07:56:21.028601Z"
    },
    "papermill": {
     "duration": 0.115096,
     "end_time": "2021-11-15T07:59:59.162151",
     "exception": false,
     "start_time": "2021-11-15T07:59:59.047055",
     "status": "completed"
    },
    "tags": []
   },
   "outputs": [
    {
     "data": {
      "text/html": [
       "<div>\n",
       "<style scoped>\n",
       "    .dataframe tbody tr th:only-of-type {\n",
       "        vertical-align: middle;\n",
       "    }\n",
       "\n",
       "    .dataframe tbody tr th {\n",
       "        vertical-align: top;\n",
       "    }\n",
       "\n",
       "    .dataframe thead th {\n",
       "        text-align: right;\n",
       "    }\n",
       "</style>\n",
       "<table border=\"1\" class=\"dataframe\">\n",
       "  <thead>\n",
       "    <tr style=\"text-align: right;\">\n",
       "      <th></th>\n",
       "    </tr>\n",
       "  </thead>\n",
       "  <tbody>\n",
       "    <tr>\n",
       "      <th>0</th>\n",
       "    </tr>\n",
       "    <tr>\n",
       "      <th>1</th>\n",
       "    </tr>\n",
       "    <tr>\n",
       "      <th>2</th>\n",
       "    </tr>\n",
       "    <tr>\n",
       "      <th>3</th>\n",
       "    </tr>\n",
       "    <tr>\n",
       "      <th>4</th>\n",
       "    </tr>\n",
       "    <tr>\n",
       "      <th>...</th>\n",
       "    </tr>\n",
       "    <tr>\n",
       "      <th>454</th>\n",
       "    </tr>\n",
       "    <tr>\n",
       "      <th>455</th>\n",
       "    </tr>\n",
       "    <tr>\n",
       "      <th>456</th>\n",
       "    </tr>\n",
       "    <tr>\n",
       "      <th>457</th>\n",
       "    </tr>\n",
       "    <tr>\n",
       "      <th>458</th>\n",
       "    </tr>\n",
       "  </tbody>\n",
       "</table>\n",
       "<p>459 rows × 0 columns</p>\n",
       "</div>"
      ],
      "text/plain": [
       "Empty DataFrame\n",
       "Columns: []\n",
       "Index: [0, 1, 2, 3, 4, 5, 6, 7, 8, 9, 10, 11, 12, 13, 14, 15, 16, 17, 18, 19, 20, 21, 22, 23, 24, 25, 26, 27, 28, 29, 30, 31, 32, 33, 34, 35, 36, 37, 38, 39, 40, 41, 42, 43, 44, 45, 46, 47, 48, 49, 50, 51, 52, 53, 54, 55, 56, 57, 58, 59, 60, 61, 62, 63, 64, 65, 66, 67, 68, 69, 70, 71, 72, 73, 74, 75, 76, 77, 78, 79, 80, 81, 82, 83, 84, 85, 86, 87, 88, 89, 90, 91, 92, 93, 94, 95, 96, 97, 98, 99, ...]\n",
       "\n",
       "[459 rows x 0 columns]"
      ]
     },
     "execution_count": 6,
     "metadata": {},
     "output_type": "execute_result"
    }
   ],
   "source": [
    "df._get_numeric_data()"
   ]
  },
  {
   "cell_type": "markdown",
   "id": "d2af0968",
   "metadata": {
    "papermill": {
     "duration": 0.101278,
     "end_time": "2021-11-15T07:59:59.365323",
     "exception": false,
     "start_time": "2021-11-15T07:59:59.264045",
     "status": "completed"
    },
    "tags": []
   },
   "source": [
    "**Maintain a copy of initial data as such for future reference and comparison, if needed**"
   ]
  },
  {
   "cell_type": "code",
   "execution_count": 7,
   "id": "158043b4",
   "metadata": {
    "execution": {
     "iopub.execute_input": "2021-11-15T07:59:59.572391Z",
     "iopub.status.busy": "2021-11-15T07:59:59.571722Z",
     "iopub.status.idle": "2021-11-15T07:59:59.574846Z",
     "shell.execute_reply": "2021-11-15T07:59:59.575338Z",
     "shell.execute_reply.started": "2021-11-15T07:56:21.040182Z"
    },
    "papermill": {
     "duration": 0.108831,
     "end_time": "2021-11-15T07:59:59.575519",
     "exception": false,
     "start_time": "2021-11-15T07:59:59.466688",
     "status": "completed"
    },
    "tags": []
   },
   "outputs": [],
   "source": [
    "initial_df = df"
   ]
  },
  {
   "cell_type": "markdown",
   "id": "eb100cd3",
   "metadata": {
    "papermill": {
     "duration": 0.100966,
     "end_time": "2021-11-15T07:59:59.777410",
     "exception": false,
     "start_time": "2021-11-15T07:59:59.676444",
     "status": "completed"
    },
    "tags": []
   },
   "source": [
    "**Also maintain a dictionary(or mapping) to maintain the list of columns which are cleaned**"
   ]
  },
  {
   "cell_type": "code",
   "execution_count": 8,
   "id": "8d97bbe8",
   "metadata": {
    "execution": {
     "iopub.execute_input": "2021-11-15T07:59:59.984671Z",
     "iopub.status.busy": "2021-11-15T07:59:59.983966Z",
     "iopub.status.idle": "2021-11-15T07:59:59.987619Z",
     "shell.execute_reply": "2021-11-15T07:59:59.988282Z",
     "shell.execute_reply.started": "2021-11-15T07:56:21.053181Z"
    },
    "papermill": {
     "duration": 0.10802,
     "end_time": "2021-11-15T07:59:59.988467",
     "exception": false,
     "start_time": "2021-11-15T07:59:59.880447",
     "status": "completed"
    },
    "tags": []
   },
   "outputs": [],
   "source": [
    "# from collections import defaultdict\n",
    "\n",
    "# status = defaultdict(lambda: 0)\n",
    "\n",
    "status = dict(zip(df.columns,list([0]*len(df.columns))))"
   ]
  },
  {
   "cell_type": "code",
   "execution_count": 9,
   "id": "30fe1526",
   "metadata": {
    "execution": {
     "iopub.execute_input": "2021-11-15T08:00:00.199908Z",
     "iopub.status.busy": "2021-11-15T08:00:00.199222Z",
     "iopub.status.idle": "2021-11-15T08:00:00.204818Z",
     "shell.execute_reply": "2021-11-15T08:00:00.205574Z",
     "shell.execute_reply.started": "2021-11-15T07:56:21.065621Z"
    },
    "papermill": {
     "duration": 0.113166,
     "end_time": "2021-11-15T08:00:00.205839",
     "exception": false,
     "start_time": "2021-11-15T08:00:00.092673",
     "status": "completed"
    },
    "tags": []
   },
   "outputs": [
    {
     "data": {
      "text/plain": [
       "{'mobile_name': 0,\n",
       " 'mobile_price': 0,\n",
       " 'mobile_color': 0,\n",
       " 'dual_sim': 0,\n",
       " 'disp_size': 0,\n",
       " 'resolution': 0,\n",
       " 'os': 0,\n",
       " 'num_cores': 0,\n",
       " 'mp_speed': 0,\n",
       " 'int_memory': 0,\n",
       " 'ram': 0,\n",
       " 'p_cam': 0,\n",
       " 'f_cam': 0,\n",
       " 'network': 0,\n",
       " 'bluetooth': 0,\n",
       " 'battery_power': 0,\n",
       " 'mob_width': 0,\n",
       " 'mob_height': 0,\n",
       " 'mob_depth': 0,\n",
       " 'mob_weight': 0}"
      ]
     },
     "execution_count": 9,
     "metadata": {},
     "output_type": "execute_result"
    }
   ],
   "source": [
    "status"
   ]
  },
  {
   "cell_type": "code",
   "execution_count": 10,
   "id": "934f1977",
   "metadata": {
    "execution": {
     "iopub.execute_input": "2021-11-15T08:00:00.416823Z",
     "iopub.status.busy": "2021-11-15T08:00:00.416057Z",
     "iopub.status.idle": "2021-11-15T08:00:00.419790Z",
     "shell.execute_reply": "2021-11-15T08:00:00.420362Z",
     "shell.execute_reply.started": "2021-11-15T07:56:21.085592Z"
    },
    "papermill": {
     "duration": 0.111159,
     "end_time": "2021-11-15T08:00:00.420575",
     "exception": false,
     "start_time": "2021-11-15T08:00:00.309416",
     "status": "completed"
    },
    "tags": []
   },
   "outputs": [],
   "source": [
    "def print_processed_status(df):\n",
    "    for col in df.columns:\n",
    "        print(col, status[col])"
   ]
  },
  {
   "cell_type": "code",
   "execution_count": 11,
   "id": "2806b820",
   "metadata": {
    "execution": {
     "iopub.execute_input": "2021-11-15T08:00:00.631284Z",
     "iopub.status.busy": "2021-11-15T08:00:00.630447Z",
     "iopub.status.idle": "2021-11-15T08:00:00.641953Z",
     "shell.execute_reply": "2021-11-15T08:00:00.641358Z",
     "shell.execute_reply.started": "2021-11-15T07:56:21.098238Z"
    },
    "papermill": {
     "duration": 0.118733,
     "end_time": "2021-11-15T08:00:00.642107",
     "exception": false,
     "start_time": "2021-11-15T08:00:00.523374",
     "status": "completed"
    },
    "tags": []
   },
   "outputs": [
    {
     "name": "stdout",
     "output_type": "stream",
     "text": [
      "mobile_name 0\n",
      "mobile_price 0\n",
      "mobile_color 0\n",
      "dual_sim 0\n",
      "disp_size 0\n",
      "resolution 0\n",
      "os 0\n",
      "num_cores 0\n",
      "mp_speed 0\n",
      "int_memory 0\n",
      "ram 0\n",
      "p_cam 0\n",
      "f_cam 0\n",
      "network 0\n",
      "bluetooth 0\n",
      "battery_power 0\n",
      "mob_width 0\n",
      "mob_height 0\n",
      "mob_depth 0\n",
      "mob_weight 0\n"
     ]
    }
   ],
   "source": [
    "print_processed_status(df)"
   ]
  },
  {
   "cell_type": "markdown",
   "id": "752e1b63",
   "metadata": {
    "papermill": {
     "duration": 0.10538,
     "end_time": "2021-11-15T08:00:00.853267",
     "exception": false,
     "start_time": "2021-11-15T08:00:00.747887",
     "status": "completed"
    },
    "tags": []
   },
   "source": [
    "**Some columns seem to have data which can easily be made numeric by removing strings from it. For example, Rs.,Pixels,mm,mp etc.\n",
    "Try to remove them and check the correlation(relationship) with mobile_price**\n"
   ]
  },
  {
   "cell_type": "code",
   "execution_count": 12,
   "id": "bbed6a17",
   "metadata": {
    "execution": {
     "iopub.execute_input": "2021-11-15T08:00:01.067624Z",
     "iopub.status.busy": "2021-11-15T08:00:01.066732Z",
     "iopub.status.idle": "2021-11-15T08:00:01.069877Z",
     "shell.execute_reply": "2021-11-15T08:00:01.069189Z",
     "shell.execute_reply.started": "2021-11-15T07:56:21.119867Z"
    },
    "papermill": {
     "duration": 0.111829,
     "end_time": "2021-11-15T08:00:01.070027",
     "exception": false,
     "start_time": "2021-11-15T08:00:00.958198",
     "status": "completed"
    },
    "tags": []
   },
   "outputs": [],
   "source": [
    "def numericize(df,col):\n",
    "    return pd.to_numeric(df[col].str.replace('[a-zA-Z]','',regex=True))"
   ]
  },
  {
   "cell_type": "code",
   "execution_count": 13,
   "id": "28ac68ed",
   "metadata": {
    "execution": {
     "iopub.execute_input": "2021-11-15T08:00:01.313867Z",
     "iopub.status.busy": "2021-11-15T08:00:01.313044Z",
     "iopub.status.idle": "2021-11-15T08:00:01.335721Z",
     "shell.execute_reply": "2021-11-15T08:00:01.336279Z",
     "shell.execute_reply.started": "2021-11-15T07:56:21.128358Z"
    },
    "papermill": {
     "duration": 0.14248,
     "end_time": "2021-11-15T08:00:01.336459",
     "exception": false,
     "start_time": "2021-11-15T08:00:01.193979",
     "status": "completed"
    },
    "tags": []
   },
   "outputs": [
    {
     "data": {
      "text/html": [
       "<div>\n",
       "<style scoped>\n",
       "    .dataframe tbody tr th:only-of-type {\n",
       "        vertical-align: middle;\n",
       "    }\n",
       "\n",
       "    .dataframe tbody tr th {\n",
       "        vertical-align: top;\n",
       "    }\n",
       "\n",
       "    .dataframe thead th {\n",
       "        text-align: right;\n",
       "    }\n",
       "</style>\n",
       "<table border=\"1\" class=\"dataframe\">\n",
       "  <thead>\n",
       "    <tr style=\"text-align: right;\">\n",
       "      <th></th>\n",
       "      <th>mobile_name</th>\n",
       "      <th>mobile_price</th>\n",
       "      <th>mobile_color</th>\n",
       "      <th>dual_sim</th>\n",
       "      <th>disp_size</th>\n",
       "      <th>resolution</th>\n",
       "      <th>os</th>\n",
       "      <th>num_cores</th>\n",
       "      <th>mp_speed</th>\n",
       "      <th>int_memory</th>\n",
       "      <th>ram</th>\n",
       "      <th>p_cam</th>\n",
       "      <th>f_cam</th>\n",
       "      <th>network</th>\n",
       "      <th>bluetooth</th>\n",
       "      <th>battery_power</th>\n",
       "      <th>mob_width</th>\n",
       "      <th>mob_height</th>\n",
       "      <th>mob_depth</th>\n",
       "      <th>mob_weight</th>\n",
       "    </tr>\n",
       "  </thead>\n",
       "  <tbody>\n",
       "    <tr>\n",
       "      <th>0</th>\n",
       "      <td>Realme Narzo 10A (So White, 32 GB)</td>\n",
       "      <td>₹8,999</td>\n",
       "      <td>So White</td>\n",
       "      <td>Dual Sim</td>\n",
       "      <td>16.56 cm (6.52 inch)</td>\n",
       "      <td>1600 x 720 Pixels</td>\n",
       "      <td>Android 10</td>\n",
       "      <td>Octa Core</td>\n",
       "      <td>2 GHz</td>\n",
       "      <td>32 GB</td>\n",
       "      <td>3 GB</td>\n",
       "      <td>12MP + 2MP + 2MP</td>\n",
       "      <td>5MP Front Camera</td>\n",
       "      <td>4G VOLTE, 4G, 3G, 2G</td>\n",
       "      <td>Yes</td>\n",
       "      <td>5000 mAh</td>\n",
       "      <td>75 mm</td>\n",
       "      <td>164.4 mm</td>\n",
       "      <td>8.95 mm</td>\n",
       "      <td>195 g</td>\n",
       "    </tr>\n",
       "    <tr>\n",
       "      <th>1</th>\n",
       "      <td>Realme Narzo 10A (So Blue, 32 GB)</td>\n",
       "      <td>₹8,999</td>\n",
       "      <td>So Blue</td>\n",
       "      <td>Dual Sim</td>\n",
       "      <td>16.56 cm (6.52 inch)</td>\n",
       "      <td>1600 x 720 Pixels</td>\n",
       "      <td>Android 10</td>\n",
       "      <td>Octa Core</td>\n",
       "      <td>2 GHz</td>\n",
       "      <td>32 GB</td>\n",
       "      <td>3 GB</td>\n",
       "      <td>12MP + 2MP + 2MP</td>\n",
       "      <td>5MP Front Camera</td>\n",
       "      <td>4G VOLTE, 4G, 3G, 2G</td>\n",
       "      <td>Yes</td>\n",
       "      <td>5000 mAh</td>\n",
       "      <td>75 mm</td>\n",
       "      <td>164.4 mm</td>\n",
       "      <td>8.95 mm</td>\n",
       "      <td>195 g</td>\n",
       "    </tr>\n",
       "    <tr>\n",
       "      <th>2</th>\n",
       "      <td>Realme Narzo 10A (So Blue, 64 GB)</td>\n",
       "      <td>₹9,999</td>\n",
       "      <td>So Blue</td>\n",
       "      <td>Dual Sim</td>\n",
       "      <td>16.56 cm (6.52 inch)</td>\n",
       "      <td>1600 x 720 Pixels</td>\n",
       "      <td>Android 10</td>\n",
       "      <td>Octa Core</td>\n",
       "      <td>2 GHz</td>\n",
       "      <td>64 GB</td>\n",
       "      <td>4 GB</td>\n",
       "      <td>12MP + 2MP + 2MP</td>\n",
       "      <td>5MP Front Camera</td>\n",
       "      <td>4G VOLTE, 4G, 3G, 2G</td>\n",
       "      <td>Yes</td>\n",
       "      <td>5000 mAh</td>\n",
       "      <td>75 mm</td>\n",
       "      <td>164.4 mm</td>\n",
       "      <td>8.95 mm</td>\n",
       "      <td>195 g</td>\n",
       "    </tr>\n",
       "    <tr>\n",
       "      <th>3</th>\n",
       "      <td>Realme Narzo 10A (So White, 64 GB)</td>\n",
       "      <td>₹9,999</td>\n",
       "      <td>So White</td>\n",
       "      <td>Dual Sim</td>\n",
       "      <td>16.56 cm (6.52 inch)</td>\n",
       "      <td>1600 x 720 Pixels</td>\n",
       "      <td>Android 10</td>\n",
       "      <td>Octa Core</td>\n",
       "      <td>2 GHz</td>\n",
       "      <td>64 GB</td>\n",
       "      <td>4 GB</td>\n",
       "      <td>12MP + 2MP + 2MP</td>\n",
       "      <td>5MP Front Camera</td>\n",
       "      <td>4G VOLTE, 4G, 3G, 2G</td>\n",
       "      <td>Yes</td>\n",
       "      <td>5000 mAh</td>\n",
       "      <td>75 mm</td>\n",
       "      <td>164.4 mm</td>\n",
       "      <td>8.95 mm</td>\n",
       "      <td>195 g</td>\n",
       "    </tr>\n",
       "    <tr>\n",
       "      <th>4</th>\n",
       "      <td>Realme Narzo 10 (That Green, 128 GB)</td>\n",
       "      <td>₹11,999</td>\n",
       "      <td>That Green</td>\n",
       "      <td>Dual Sim</td>\n",
       "      <td>16.51 cm (6.5 inch)</td>\n",
       "      <td>1600 x 720 Pixels</td>\n",
       "      <td>Android 10</td>\n",
       "      <td>Octa Core</td>\n",
       "      <td>2 GHz</td>\n",
       "      <td>128 GB</td>\n",
       "      <td>4 GB</td>\n",
       "      <td>48MP + 8MP + 2MP + 2MP</td>\n",
       "      <td>16MP Front Camera</td>\n",
       "      <td>4G VOLTE, 4G, 3G, 2G</td>\n",
       "      <td>Yes</td>\n",
       "      <td>5000 mAh</td>\n",
       "      <td>75.4 mm</td>\n",
       "      <td>164.4 mm</td>\n",
       "      <td>9 mm</td>\n",
       "      <td>199 g</td>\n",
       "    </tr>\n",
       "  </tbody>\n",
       "</table>\n",
       "</div>"
      ],
      "text/plain": [
       "                            mobile_name mobile_price mobile_color  dual_sim  \\\n",
       "0    Realme Narzo 10A (So White, 32 GB)       ₹8,999     So White  Dual Sim   \n",
       "1     Realme Narzo 10A (So Blue, 32 GB)       ₹8,999      So Blue  Dual Sim   \n",
       "2     Realme Narzo 10A (So Blue, 64 GB)       ₹9,999      So Blue  Dual Sim   \n",
       "3    Realme Narzo 10A (So White, 64 GB)       ₹9,999     So White  Dual Sim   \n",
       "4  Realme Narzo 10 (That Green, 128 GB)      ₹11,999   That Green  Dual Sim   \n",
       "\n",
       "              disp_size         resolution          os  num_cores mp_speed  \\\n",
       "0  16.56 cm (6.52 inch)  1600 x 720 Pixels  Android 10  Octa Core    2 GHz   \n",
       "1  16.56 cm (6.52 inch)  1600 x 720 Pixels  Android 10  Octa Core    2 GHz   \n",
       "2  16.56 cm (6.52 inch)  1600 x 720 Pixels  Android 10  Octa Core    2 GHz   \n",
       "3  16.56 cm (6.52 inch)  1600 x 720 Pixels  Android 10  Octa Core    2 GHz   \n",
       "4   16.51 cm (6.5 inch)  1600 x 720 Pixels  Android 10  Octa Core    2 GHz   \n",
       "\n",
       "  int_memory   ram                   p_cam              f_cam  \\\n",
       "0      32 GB  3 GB        12MP + 2MP + 2MP   5MP Front Camera   \n",
       "1      32 GB  3 GB        12MP + 2MP + 2MP   5MP Front Camera   \n",
       "2      64 GB  4 GB        12MP + 2MP + 2MP   5MP Front Camera   \n",
       "3      64 GB  4 GB        12MP + 2MP + 2MP   5MP Front Camera   \n",
       "4     128 GB  4 GB  48MP + 8MP + 2MP + 2MP  16MP Front Camera   \n",
       "\n",
       "                network bluetooth battery_power mob_width mob_height  \\\n",
       "0  4G VOLTE, 4G, 3G, 2G       Yes      5000 mAh     75 mm   164.4 mm   \n",
       "1  4G VOLTE, 4G, 3G, 2G       Yes      5000 mAh     75 mm   164.4 mm   \n",
       "2  4G VOLTE, 4G, 3G, 2G       Yes      5000 mAh     75 mm   164.4 mm   \n",
       "3  4G VOLTE, 4G, 3G, 2G       Yes      5000 mAh     75 mm   164.4 mm   \n",
       "4  4G VOLTE, 4G, 3G, 2G       Yes      5000 mAh   75.4 mm   164.4 mm   \n",
       "\n",
       "  mob_depth mob_weight  \n",
       "0   8.95 mm      195 g  \n",
       "1   8.95 mm      195 g  \n",
       "2   8.95 mm      195 g  \n",
       "3   8.95 mm      195 g  \n",
       "4      9 mm      199 g  "
      ]
     },
     "execution_count": 13,
     "metadata": {},
     "output_type": "execute_result"
    }
   ],
   "source": [
    "df.head()"
   ]
  },
  {
   "cell_type": "code",
   "execution_count": 14,
   "id": "feac8f57",
   "metadata": {
    "execution": {
     "iopub.execute_input": "2021-11-15T08:00:01.573616Z",
     "iopub.status.busy": "2021-11-15T08:00:01.572573Z",
     "iopub.status.idle": "2021-11-15T08:00:01.580456Z",
     "shell.execute_reply": "2021-11-15T08:00:01.581068Z",
     "shell.execute_reply.started": "2021-11-15T07:56:21.159952Z"
    },
    "papermill": {
     "duration": 0.122972,
     "end_time": "2021-11-15T08:00:01.581248",
     "exception": false,
     "start_time": "2021-11-15T08:00:01.458276",
     "status": "completed"
    },
    "tags": []
   },
   "outputs": [],
   "source": [
    "df['mp_speed'] = numericize(df,'mp_speed')\n",
    "df['mp_speed'].unique()\n",
    "status['mp_speed'] = 1"
   ]
  },
  {
   "cell_type": "code",
   "execution_count": 15,
   "id": "994ebc52",
   "metadata": {
    "execution": {
     "iopub.execute_input": "2021-11-15T08:00:01.802771Z",
     "iopub.status.busy": "2021-11-15T08:00:01.801879Z",
     "iopub.status.idle": "2021-11-15T08:00:01.804966Z",
     "shell.execute_reply": "2021-11-15T08:00:01.805513Z",
     "shell.execute_reply.started": "2021-11-15T07:56:21.169714Z"
    },
    "papermill": {
     "duration": 0.117676,
     "end_time": "2021-11-15T08:00:01.805705",
     "exception": false,
     "start_time": "2021-11-15T08:00:01.688029",
     "status": "completed"
    },
    "tags": []
   },
   "outputs": [],
   "source": [
    "df['int_memory'] = numericize(df,'int_memory')\n",
    "df['int_memory'].unique()\n",
    "status['int_memory'] = 1"
   ]
  },
  {
   "cell_type": "code",
   "execution_count": 16,
   "id": "542b44c8",
   "metadata": {
    "execution": {
     "iopub.execute_input": "2021-11-15T08:00:02.022675Z",
     "iopub.status.busy": "2021-11-15T08:00:02.021623Z",
     "iopub.status.idle": "2021-11-15T08:00:02.029332Z",
     "shell.execute_reply": "2021-11-15T08:00:02.029998Z",
     "shell.execute_reply.started": "2021-11-15T07:56:21.184065Z"
    },
    "papermill": {
     "duration": 0.116008,
     "end_time": "2021-11-15T08:00:02.030181",
     "exception": false,
     "start_time": "2021-11-15T08:00:01.914173",
     "status": "completed"
    },
    "tags": []
   },
   "outputs": [],
   "source": [
    "df['ram'] = numericize(df,'ram')\n",
    "df['ram'].unique()\n",
    "status['ram'] = 1"
   ]
  },
  {
   "cell_type": "code",
   "execution_count": 17,
   "id": "705faf51",
   "metadata": {
    "execution": {
     "iopub.execute_input": "2021-11-15T08:00:02.248051Z",
     "iopub.status.busy": "2021-11-15T08:00:02.247314Z",
     "iopub.status.idle": "2021-11-15T08:00:02.252202Z",
     "shell.execute_reply": "2021-11-15T08:00:02.252793Z",
     "shell.execute_reply.started": "2021-11-15T07:56:21.196511Z"
    },
    "papermill": {
     "duration": 0.118981,
     "end_time": "2021-11-15T08:00:02.252984",
     "exception": false,
     "start_time": "2021-11-15T08:00:02.134003",
     "status": "completed"
    },
    "tags": []
   },
   "outputs": [],
   "source": [
    "\n",
    "df['battery_power'] = numericize(df,'battery_power')\n",
    "df['battery_power'].unique()\n",
    "status['battery_power'] = 1"
   ]
  },
  {
   "cell_type": "code",
   "execution_count": 18,
   "id": "327d6c42",
   "metadata": {
    "execution": {
     "iopub.execute_input": "2021-11-15T08:00:02.467692Z",
     "iopub.status.busy": "2021-11-15T08:00:02.467000Z",
     "iopub.status.idle": "2021-11-15T08:00:02.473400Z",
     "shell.execute_reply": "2021-11-15T08:00:02.474013Z",
     "shell.execute_reply.started": "2021-11-15T07:56:21.210470Z"
    },
    "papermill": {
     "duration": 0.115821,
     "end_time": "2021-11-15T08:00:02.474190",
     "exception": false,
     "start_time": "2021-11-15T08:00:02.358369",
     "status": "completed"
    },
    "tags": []
   },
   "outputs": [],
   "source": [
    "\n",
    "df['mob_width'] = numericize(df,'mob_width')\n",
    "df['mob_width'].unique()\n",
    "status['mob_width'] = 1"
   ]
  },
  {
   "cell_type": "code",
   "execution_count": 19,
   "id": "3ec48f61",
   "metadata": {
    "execution": {
     "iopub.execute_input": "2021-11-15T08:00:02.687198Z",
     "iopub.status.busy": "2021-11-15T08:00:02.686464Z",
     "iopub.status.idle": "2021-11-15T08:00:02.693146Z",
     "shell.execute_reply": "2021-11-15T08:00:02.693933Z",
     "shell.execute_reply.started": "2021-11-15T07:56:21.222171Z"
    },
    "papermill": {
     "duration": 0.115077,
     "end_time": "2021-11-15T08:00:02.694138",
     "exception": false,
     "start_time": "2021-11-15T08:00:02.579061",
     "status": "completed"
    },
    "tags": []
   },
   "outputs": [],
   "source": [
    "df['mob_height'] = numericize(df,'mob_height')\n",
    "df['mob_height'].unique()\n",
    "status['mob_height'] = 1"
   ]
  },
  {
   "cell_type": "code",
   "execution_count": 20,
   "id": "c588599e",
   "metadata": {
    "execution": {
     "iopub.execute_input": "2021-11-15T08:00:02.903855Z",
     "iopub.status.busy": "2021-11-15T08:00:02.903144Z",
     "iopub.status.idle": "2021-11-15T08:00:02.910193Z",
     "shell.execute_reply": "2021-11-15T08:00:02.910771Z",
     "shell.execute_reply.started": "2021-11-15T07:56:21.234880Z"
    },
    "papermill": {
     "duration": 0.113817,
     "end_time": "2021-11-15T08:00:02.910963",
     "exception": false,
     "start_time": "2021-11-15T08:00:02.797146",
     "status": "completed"
    },
    "tags": []
   },
   "outputs": [],
   "source": [
    "df['mob_depth'] = numericize(df,'mob_depth')\n",
    "df['mob_depth'].unique()\n",
    "status['mob_depth'] = 1"
   ]
  },
  {
   "cell_type": "code",
   "execution_count": 21,
   "id": "b393caaf",
   "metadata": {
    "execution": {
     "iopub.execute_input": "2021-11-15T08:00:03.129600Z",
     "iopub.status.busy": "2021-11-15T08:00:03.128860Z",
     "iopub.status.idle": "2021-11-15T08:00:03.135492Z",
     "shell.execute_reply": "2021-11-15T08:00:03.136119Z",
     "shell.execute_reply.started": "2021-11-15T07:56:21.248952Z"
    },
    "papermill": {
     "duration": 0.120182,
     "end_time": "2021-11-15T08:00:03.136301",
     "exception": false,
     "start_time": "2021-11-15T08:00:03.016119",
     "status": "completed"
    },
    "tags": []
   },
   "outputs": [],
   "source": [
    "df['mob_weight'] = numericize(df,'mob_weight')\n",
    "df['mob_weight'].unique()\n",
    "status['mob_weight'] = 1"
   ]
  },
  {
   "cell_type": "markdown",
   "id": "a236982e",
   "metadata": {
    "papermill": {
     "duration": 0.104508,
     "end_time": "2021-11-15T08:00:03.347643",
     "exception": false,
     "start_time": "2021-11-15T08:00:03.243135",
     "status": "completed"
    },
    "tags": []
   },
   "source": [
    "**Check again how many numeric columns are present for easily doing a relationship analysis**"
   ]
  },
  {
   "cell_type": "code",
   "execution_count": 22,
   "id": "d69ee422",
   "metadata": {
    "execution": {
     "iopub.execute_input": "2021-11-15T08:00:03.565269Z",
     "iopub.status.busy": "2021-11-15T08:00:03.564220Z",
     "iopub.status.idle": "2021-11-15T08:00:03.586921Z",
     "shell.execute_reply": "2021-11-15T08:00:03.588042Z",
     "shell.execute_reply.started": "2021-11-15T07:56:21.261660Z"
    },
    "papermill": {
     "duration": 0.132933,
     "end_time": "2021-11-15T08:00:03.588257",
     "exception": false,
     "start_time": "2021-11-15T08:00:03.455324",
     "status": "completed"
    },
    "tags": []
   },
   "outputs": [
    {
     "data": {
      "text/html": [
       "<div>\n",
       "<style scoped>\n",
       "    .dataframe tbody tr th:only-of-type {\n",
       "        vertical-align: middle;\n",
       "    }\n",
       "\n",
       "    .dataframe tbody tr th {\n",
       "        vertical-align: top;\n",
       "    }\n",
       "\n",
       "    .dataframe thead th {\n",
       "        text-align: right;\n",
       "    }\n",
       "</style>\n",
       "<table border=\"1\" class=\"dataframe\">\n",
       "  <thead>\n",
       "    <tr style=\"text-align: right;\">\n",
       "      <th></th>\n",
       "      <th>mp_speed</th>\n",
       "      <th>int_memory</th>\n",
       "      <th>ram</th>\n",
       "      <th>battery_power</th>\n",
       "      <th>mob_width</th>\n",
       "      <th>mob_height</th>\n",
       "      <th>mob_depth</th>\n",
       "      <th>mob_weight</th>\n",
       "    </tr>\n",
       "  </thead>\n",
       "  <tbody>\n",
       "    <tr>\n",
       "      <th>0</th>\n",
       "      <td>2.0</td>\n",
       "      <td>32</td>\n",
       "      <td>3</td>\n",
       "      <td>5000</td>\n",
       "      <td>75.0</td>\n",
       "      <td>164.4</td>\n",
       "      <td>8.95</td>\n",
       "      <td>195.0</td>\n",
       "    </tr>\n",
       "    <tr>\n",
       "      <th>1</th>\n",
       "      <td>2.0</td>\n",
       "      <td>32</td>\n",
       "      <td>3</td>\n",
       "      <td>5000</td>\n",
       "      <td>75.0</td>\n",
       "      <td>164.4</td>\n",
       "      <td>8.95</td>\n",
       "      <td>195.0</td>\n",
       "    </tr>\n",
       "    <tr>\n",
       "      <th>2</th>\n",
       "      <td>2.0</td>\n",
       "      <td>64</td>\n",
       "      <td>4</td>\n",
       "      <td>5000</td>\n",
       "      <td>75.0</td>\n",
       "      <td>164.4</td>\n",
       "      <td>8.95</td>\n",
       "      <td>195.0</td>\n",
       "    </tr>\n",
       "    <tr>\n",
       "      <th>3</th>\n",
       "      <td>2.0</td>\n",
       "      <td>64</td>\n",
       "      <td>4</td>\n",
       "      <td>5000</td>\n",
       "      <td>75.0</td>\n",
       "      <td>164.4</td>\n",
       "      <td>8.95</td>\n",
       "      <td>195.0</td>\n",
       "    </tr>\n",
       "    <tr>\n",
       "      <th>4</th>\n",
       "      <td>2.0</td>\n",
       "      <td>128</td>\n",
       "      <td>4</td>\n",
       "      <td>5000</td>\n",
       "      <td>75.4</td>\n",
       "      <td>164.4</td>\n",
       "      <td>9.00</td>\n",
       "      <td>199.0</td>\n",
       "    </tr>\n",
       "    <tr>\n",
       "      <th>...</th>\n",
       "      <td>...</td>\n",
       "      <td>...</td>\n",
       "      <td>...</td>\n",
       "      <td>...</td>\n",
       "      <td>...</td>\n",
       "      <td>...</td>\n",
       "      <td>...</td>\n",
       "      <td>...</td>\n",
       "    </tr>\n",
       "    <tr>\n",
       "      <th>454</th>\n",
       "      <td>2.5</td>\n",
       "      <td>32</td>\n",
       "      <td>3</td>\n",
       "      <td>3180</td>\n",
       "      <td>73.1</td>\n",
       "      <td>150.5</td>\n",
       "      <td>7.70</td>\n",
       "      <td>143.0</td>\n",
       "    </tr>\n",
       "    <tr>\n",
       "      <th>455</th>\n",
       "      <td>2.5</td>\n",
       "      <td>16</td>\n",
       "      <td>2</td>\n",
       "      <td>3180</td>\n",
       "      <td>73.1</td>\n",
       "      <td>150.5</td>\n",
       "      <td>7.70</td>\n",
       "      <td>143.0</td>\n",
       "    </tr>\n",
       "    <tr>\n",
       "      <th>456</th>\n",
       "      <td>2.0</td>\n",
       "      <td>64</td>\n",
       "      <td>4</td>\n",
       "      <td>3400</td>\n",
       "      <td>75.3</td>\n",
       "      <td>156.0</td>\n",
       "      <td>7.80</td>\n",
       "      <td>158.0</td>\n",
       "    </tr>\n",
       "    <tr>\n",
       "      <th>457</th>\n",
       "      <td>2.1</td>\n",
       "      <td>128</td>\n",
       "      <td>4</td>\n",
       "      <td>4020</td>\n",
       "      <td>76.1</td>\n",
       "      <td>162.0</td>\n",
       "      <td>8.30</td>\n",
       "      <td>188.0</td>\n",
       "    </tr>\n",
       "    <tr>\n",
       "      <th>458</th>\n",
       "      <td>2.1</td>\n",
       "      <td>128</td>\n",
       "      <td>4</td>\n",
       "      <td>4020</td>\n",
       "      <td>76.1</td>\n",
       "      <td>162.0</td>\n",
       "      <td>8.30</td>\n",
       "      <td>188.0</td>\n",
       "    </tr>\n",
       "  </tbody>\n",
       "</table>\n",
       "<p>459 rows × 8 columns</p>\n",
       "</div>"
      ],
      "text/plain": [
       "     mp_speed  int_memory  ram  battery_power  mob_width  mob_height  \\\n",
       "0         2.0          32    3           5000       75.0       164.4   \n",
       "1         2.0          32    3           5000       75.0       164.4   \n",
       "2         2.0          64    4           5000       75.0       164.4   \n",
       "3         2.0          64    4           5000       75.0       164.4   \n",
       "4         2.0         128    4           5000       75.4       164.4   \n",
       "..        ...         ...  ...            ...        ...         ...   \n",
       "454       2.5          32    3           3180       73.1       150.5   \n",
       "455       2.5          16    2           3180       73.1       150.5   \n",
       "456       2.0          64    4           3400       75.3       156.0   \n",
       "457       2.1         128    4           4020       76.1       162.0   \n",
       "458       2.1         128    4           4020       76.1       162.0   \n",
       "\n",
       "     mob_depth  mob_weight  \n",
       "0         8.95       195.0  \n",
       "1         8.95       195.0  \n",
       "2         8.95       195.0  \n",
       "3         8.95       195.0  \n",
       "4         9.00       199.0  \n",
       "..         ...         ...  \n",
       "454       7.70       143.0  \n",
       "455       7.70       143.0  \n",
       "456       7.80       158.0  \n",
       "457       8.30       188.0  \n",
       "458       8.30       188.0  \n",
       "\n",
       "[459 rows x 8 columns]"
      ]
     },
     "execution_count": 22,
     "metadata": {},
     "output_type": "execute_result"
    }
   ],
   "source": [
    "df._get_numeric_data()"
   ]
  },
  {
   "cell_type": "code",
   "execution_count": 23,
   "id": "52b591e2",
   "metadata": {
    "execution": {
     "iopub.execute_input": "2021-11-15T08:00:03.803349Z",
     "iopub.status.busy": "2021-11-15T08:00:03.802340Z",
     "iopub.status.idle": "2021-11-15T08:00:03.825858Z",
     "shell.execute_reply": "2021-11-15T08:00:03.826663Z",
     "shell.execute_reply.started": "2021-11-15T07:56:21.293152Z"
    },
    "papermill": {
     "duration": 0.134407,
     "end_time": "2021-11-15T08:00:03.826913",
     "exception": false,
     "start_time": "2021-11-15T08:00:03.692506",
     "status": "completed"
    },
    "tags": []
   },
   "outputs": [
    {
     "data": {
      "text/html": [
       "<div>\n",
       "<style scoped>\n",
       "    .dataframe tbody tr th:only-of-type {\n",
       "        vertical-align: middle;\n",
       "    }\n",
       "\n",
       "    .dataframe tbody tr th {\n",
       "        vertical-align: top;\n",
       "    }\n",
       "\n",
       "    .dataframe thead th {\n",
       "        text-align: right;\n",
       "    }\n",
       "</style>\n",
       "<table border=\"1\" class=\"dataframe\">\n",
       "  <thead>\n",
       "    <tr style=\"text-align: right;\">\n",
       "      <th></th>\n",
       "      <th>mobile_name</th>\n",
       "      <th>mobile_price</th>\n",
       "      <th>mobile_color</th>\n",
       "      <th>dual_sim</th>\n",
       "      <th>disp_size</th>\n",
       "      <th>resolution</th>\n",
       "      <th>os</th>\n",
       "      <th>num_cores</th>\n",
       "      <th>mp_speed</th>\n",
       "      <th>int_memory</th>\n",
       "      <th>ram</th>\n",
       "      <th>p_cam</th>\n",
       "      <th>f_cam</th>\n",
       "      <th>network</th>\n",
       "      <th>bluetooth</th>\n",
       "      <th>battery_power</th>\n",
       "      <th>mob_width</th>\n",
       "      <th>mob_height</th>\n",
       "      <th>mob_depth</th>\n",
       "      <th>mob_weight</th>\n",
       "    </tr>\n",
       "  </thead>\n",
       "  <tbody>\n",
       "    <tr>\n",
       "      <th>0</th>\n",
       "      <td>Realme Narzo 10A (So White, 32 GB)</td>\n",
       "      <td>₹8,999</td>\n",
       "      <td>So White</td>\n",
       "      <td>Dual Sim</td>\n",
       "      <td>16.56 cm (6.52 inch)</td>\n",
       "      <td>1600 x 720 Pixels</td>\n",
       "      <td>Android 10</td>\n",
       "      <td>Octa Core</td>\n",
       "      <td>2.0</td>\n",
       "      <td>32</td>\n",
       "      <td>3</td>\n",
       "      <td>12MP + 2MP + 2MP</td>\n",
       "      <td>5MP Front Camera</td>\n",
       "      <td>4G VOLTE, 4G, 3G, 2G</td>\n",
       "      <td>Yes</td>\n",
       "      <td>5000</td>\n",
       "      <td>75.0</td>\n",
       "      <td>164.4</td>\n",
       "      <td>8.95</td>\n",
       "      <td>195.0</td>\n",
       "    </tr>\n",
       "    <tr>\n",
       "      <th>1</th>\n",
       "      <td>Realme Narzo 10A (So Blue, 32 GB)</td>\n",
       "      <td>₹8,999</td>\n",
       "      <td>So Blue</td>\n",
       "      <td>Dual Sim</td>\n",
       "      <td>16.56 cm (6.52 inch)</td>\n",
       "      <td>1600 x 720 Pixels</td>\n",
       "      <td>Android 10</td>\n",
       "      <td>Octa Core</td>\n",
       "      <td>2.0</td>\n",
       "      <td>32</td>\n",
       "      <td>3</td>\n",
       "      <td>12MP + 2MP + 2MP</td>\n",
       "      <td>5MP Front Camera</td>\n",
       "      <td>4G VOLTE, 4G, 3G, 2G</td>\n",
       "      <td>Yes</td>\n",
       "      <td>5000</td>\n",
       "      <td>75.0</td>\n",
       "      <td>164.4</td>\n",
       "      <td>8.95</td>\n",
       "      <td>195.0</td>\n",
       "    </tr>\n",
       "    <tr>\n",
       "      <th>2</th>\n",
       "      <td>Realme Narzo 10A (So Blue, 64 GB)</td>\n",
       "      <td>₹9,999</td>\n",
       "      <td>So Blue</td>\n",
       "      <td>Dual Sim</td>\n",
       "      <td>16.56 cm (6.52 inch)</td>\n",
       "      <td>1600 x 720 Pixels</td>\n",
       "      <td>Android 10</td>\n",
       "      <td>Octa Core</td>\n",
       "      <td>2.0</td>\n",
       "      <td>64</td>\n",
       "      <td>4</td>\n",
       "      <td>12MP + 2MP + 2MP</td>\n",
       "      <td>5MP Front Camera</td>\n",
       "      <td>4G VOLTE, 4G, 3G, 2G</td>\n",
       "      <td>Yes</td>\n",
       "      <td>5000</td>\n",
       "      <td>75.0</td>\n",
       "      <td>164.4</td>\n",
       "      <td>8.95</td>\n",
       "      <td>195.0</td>\n",
       "    </tr>\n",
       "    <tr>\n",
       "      <th>3</th>\n",
       "      <td>Realme Narzo 10A (So White, 64 GB)</td>\n",
       "      <td>₹9,999</td>\n",
       "      <td>So White</td>\n",
       "      <td>Dual Sim</td>\n",
       "      <td>16.56 cm (6.52 inch)</td>\n",
       "      <td>1600 x 720 Pixels</td>\n",
       "      <td>Android 10</td>\n",
       "      <td>Octa Core</td>\n",
       "      <td>2.0</td>\n",
       "      <td>64</td>\n",
       "      <td>4</td>\n",
       "      <td>12MP + 2MP + 2MP</td>\n",
       "      <td>5MP Front Camera</td>\n",
       "      <td>4G VOLTE, 4G, 3G, 2G</td>\n",
       "      <td>Yes</td>\n",
       "      <td>5000</td>\n",
       "      <td>75.0</td>\n",
       "      <td>164.4</td>\n",
       "      <td>8.95</td>\n",
       "      <td>195.0</td>\n",
       "    </tr>\n",
       "    <tr>\n",
       "      <th>4</th>\n",
       "      <td>Realme Narzo 10 (That Green, 128 GB)</td>\n",
       "      <td>₹11,999</td>\n",
       "      <td>That Green</td>\n",
       "      <td>Dual Sim</td>\n",
       "      <td>16.51 cm (6.5 inch)</td>\n",
       "      <td>1600 x 720 Pixels</td>\n",
       "      <td>Android 10</td>\n",
       "      <td>Octa Core</td>\n",
       "      <td>2.0</td>\n",
       "      <td>128</td>\n",
       "      <td>4</td>\n",
       "      <td>48MP + 8MP + 2MP + 2MP</td>\n",
       "      <td>16MP Front Camera</td>\n",
       "      <td>4G VOLTE, 4G, 3G, 2G</td>\n",
       "      <td>Yes</td>\n",
       "      <td>5000</td>\n",
       "      <td>75.4</td>\n",
       "      <td>164.4</td>\n",
       "      <td>9.00</td>\n",
       "      <td>199.0</td>\n",
       "    </tr>\n",
       "  </tbody>\n",
       "</table>\n",
       "</div>"
      ],
      "text/plain": [
       "                            mobile_name mobile_price mobile_color  dual_sim  \\\n",
       "0    Realme Narzo 10A (So White, 32 GB)       ₹8,999     So White  Dual Sim   \n",
       "1     Realme Narzo 10A (So Blue, 32 GB)       ₹8,999      So Blue  Dual Sim   \n",
       "2     Realme Narzo 10A (So Blue, 64 GB)       ₹9,999      So Blue  Dual Sim   \n",
       "3    Realme Narzo 10A (So White, 64 GB)       ₹9,999     So White  Dual Sim   \n",
       "4  Realme Narzo 10 (That Green, 128 GB)      ₹11,999   That Green  Dual Sim   \n",
       "\n",
       "              disp_size         resolution          os  num_cores  mp_speed  \\\n",
       "0  16.56 cm (6.52 inch)  1600 x 720 Pixels  Android 10  Octa Core       2.0   \n",
       "1  16.56 cm (6.52 inch)  1600 x 720 Pixels  Android 10  Octa Core       2.0   \n",
       "2  16.56 cm (6.52 inch)  1600 x 720 Pixels  Android 10  Octa Core       2.0   \n",
       "3  16.56 cm (6.52 inch)  1600 x 720 Pixels  Android 10  Octa Core       2.0   \n",
       "4   16.51 cm (6.5 inch)  1600 x 720 Pixels  Android 10  Octa Core       2.0   \n",
       "\n",
       "   int_memory  ram                   p_cam              f_cam  \\\n",
       "0          32    3        12MP + 2MP + 2MP   5MP Front Camera   \n",
       "1          32    3        12MP + 2MP + 2MP   5MP Front Camera   \n",
       "2          64    4        12MP + 2MP + 2MP   5MP Front Camera   \n",
       "3          64    4        12MP + 2MP + 2MP   5MP Front Camera   \n",
       "4         128    4  48MP + 8MP + 2MP + 2MP  16MP Front Camera   \n",
       "\n",
       "                network bluetooth  battery_power  mob_width  mob_height  \\\n",
       "0  4G VOLTE, 4G, 3G, 2G       Yes           5000       75.0       164.4   \n",
       "1  4G VOLTE, 4G, 3G, 2G       Yes           5000       75.0       164.4   \n",
       "2  4G VOLTE, 4G, 3G, 2G       Yes           5000       75.0       164.4   \n",
       "3  4G VOLTE, 4G, 3G, 2G       Yes           5000       75.0       164.4   \n",
       "4  4G VOLTE, 4G, 3G, 2G       Yes           5000       75.4       164.4   \n",
       "\n",
       "   mob_depth  mob_weight  \n",
       "0       8.95       195.0  \n",
       "1       8.95       195.0  \n",
       "2       8.95       195.0  \n",
       "3       8.95       195.0  \n",
       "4       9.00       199.0  "
      ]
     },
     "execution_count": 23,
     "metadata": {},
     "output_type": "execute_result"
    }
   ],
   "source": [
    "df.head()"
   ]
  },
  {
   "cell_type": "markdown",
   "id": "92ad5983",
   "metadata": {
    "papermill": {
     "duration": 0.104835,
     "end_time": "2021-11-15T08:00:04.038943",
     "exception": false,
     "start_time": "2021-11-15T08:00:03.934108",
     "status": "completed"
    },
    "tags": []
   },
   "source": []
  },
  {
   "cell_type": "markdown",
   "id": "c38e3402",
   "metadata": {
    "papermill": {
     "duration": 0.106018,
     "end_time": "2021-11-15T08:00:04.251810",
     "exception": false,
     "start_time": "2021-11-15T08:00:04.145792",
     "status": "completed"
    },
    "tags": []
   },
   "source": [
    "**Clean the mobile price column also so that we can compare it as a number with other columns**"
   ]
  },
  {
   "cell_type": "code",
   "execution_count": 24,
   "id": "e5066c5e",
   "metadata": {
    "execution": {
     "iopub.execute_input": "2021-11-15T08:00:04.471018Z",
     "iopub.status.busy": "2021-11-15T08:00:04.469997Z",
     "iopub.status.idle": "2021-11-15T08:00:04.475021Z",
     "shell.execute_reply": "2021-11-15T08:00:04.475629Z",
     "shell.execute_reply.started": "2021-11-15T07:56:21.325044Z"
    },
    "papermill": {
     "duration": 0.113689,
     "end_time": "2021-11-15T08:00:04.475820",
     "exception": false,
     "start_time": "2021-11-15T08:00:04.362131",
     "status": "completed"
    },
    "tags": []
   },
   "outputs": [],
   "source": [
    "def edit_numericize(df,col,strs_to_remove):\n",
    "    processed = df[col]\n",
    "    for string in strs_to_remove:\n",
    "        processed = processed.str.replace(string,'',regex=False)\n",
    "    return pd.to_numeric(processed)"
   ]
  },
  {
   "cell_type": "code",
   "execution_count": 25,
   "id": "3d7b7da4",
   "metadata": {
    "execution": {
     "iopub.execute_input": "2021-11-15T08:00:04.696679Z",
     "iopub.status.busy": "2021-11-15T08:00:04.695978Z",
     "iopub.status.idle": "2021-11-15T08:00:04.700933Z",
     "shell.execute_reply": "2021-11-15T08:00:04.700332Z",
     "shell.execute_reply.started": "2021-11-15T07:56:21.333539Z"
    },
    "papermill": {
     "duration": 0.118408,
     "end_time": "2021-11-15T08:00:04.701090",
     "exception": false,
     "start_time": "2021-11-15T08:00:04.582682",
     "status": "completed"
    },
    "tags": []
   },
   "outputs": [],
   "source": [
    "df['mobile_price'] = edit_numericize(df,'mobile_price',['₹',','])\n",
    "df['mobile_price'].unique()\n",
    "status['mobile_price'] = 1"
   ]
  },
  {
   "cell_type": "markdown",
   "id": "047424d5",
   "metadata": {
    "papermill": {
     "duration": 0.105547,
     "end_time": "2021-11-15T08:00:04.914580",
     "exception": false,
     "start_time": "2021-11-15T08:00:04.809033",
     "status": "completed"
    },
    "tags": []
   },
   "source": [
    "**Try to plot a correlation map**"
   ]
  },
  {
   "cell_type": "code",
   "execution_count": 26,
   "id": "c7c8d26f",
   "metadata": {
    "execution": {
     "iopub.execute_input": "2021-11-15T08:00:05.133227Z",
     "iopub.status.busy": "2021-11-15T08:00:05.131944Z",
     "iopub.status.idle": "2021-11-15T08:00:06.860499Z",
     "shell.execute_reply": "2021-11-15T08:00:06.859908Z",
     "shell.execute_reply.started": "2021-11-15T07:56:21.350697Z"
    },
    "papermill": {
     "duration": 1.840341,
     "end_time": "2021-11-15T08:00:06.860646",
     "exception": false,
     "start_time": "2021-11-15T08:00:05.020305",
     "status": "completed"
    },
    "tags": []
   },
   "outputs": [
    {
     "data": {
      "text/plain": [
       "<AxesSubplot:>"
      ]
     },
     "execution_count": 26,
     "metadata": {},
     "output_type": "execute_result"
    },
    {
     "data": {
      "image/png": "[encoded data removed]",
      "text/plain": [
       "<Figure size 432x288 with 2 Axes>"
      ]
     },
     "metadata": {
      "needs_background": "light"
     },
     "output_type": "display_data"
    }
   ],
   "source": [
    "import seaborn as sns\n",
    "import numpy as np\n",
    "\n",
    "mask = np.zeros_like(df.corr())\n",
    "mask[np.triu_indices_from(mask)] = True\n",
    "\n",
    "sns.heatmap(df.corr(),mask=mask, annot=True)\n"
   ]
  },
  {
   "cell_type": "markdown",
   "id": "e3c4d0b3",
   "metadata": {
    "papermill": {
     "duration": 0.111717,
     "end_time": "2021-11-15T08:00:07.079287",
     "exception": false,
     "start_time": "2021-11-15T08:00:06.967570",
     "status": "completed"
    },
    "tags": []
   },
   "source": [
    "**View it as a sorted list of factors with increasing order of correlation**"
   ]
  },
  {
   "cell_type": "code",
   "execution_count": 27,
   "id": "5f94893a",
   "metadata": {
    "execution": {
     "iopub.execute_input": "2021-11-15T08:00:07.302937Z",
     "iopub.status.busy": "2021-11-15T08:00:07.301954Z",
     "iopub.status.idle": "2021-11-15T08:00:07.304940Z",
     "shell.execute_reply": "2021-11-15T08:00:07.304275Z",
     "shell.execute_reply.started": "2021-11-15T07:56:21.984891Z"
    },
    "papermill": {
     "duration": 0.117395,
     "end_time": "2021-11-15T08:00:07.305086",
     "exception": false,
     "start_time": "2021-11-15T08:00:07.187691",
     "status": "completed"
    },
    "tags": []
   },
   "outputs": [],
   "source": [
    "def plot_correlation_with_col(df, col):\n",
    "    sorted_corr = df.corr().sort_values(col)[col][:-1]\n",
    "    sorted_corr.plot(kind='bar',figsize = (10,5))"
   ]
  },
  {
   "cell_type": "code",
   "execution_count": null,
   "id": "f2ef4436",
   "metadata": {
    "execution": {
     "iopub.execute_input": "2021-11-15T08:00:07.555419Z",
     "iopub.status.busy": "2021-11-15T08:00:07.554433Z",
     "iopub.status.idle": "2021-11-15T08:00:07.822384Z",
     "shell.execute_reply": "2021-11-15T08:00:07.821838Z",
     "shell.execute_reply.started": "2021-11-15T07:56:21.993383Z"
    },
    "papermill": {
     "duration": 0.384417,
     "end_time": "2021-11-15T08:00:07.822553",
     "exception": false,
     "start_time": "2021-11-15T08:00:07.438136",
     "status": "completed"
    },
    "tags": []
   },
   "outputs": [],
   "source": []
  },
  {
   "cell_type": "markdown",
   "id": "eed3183b",
   "metadata": {
    "papermill": {
     "duration": 0.111538,
     "end_time": "2021-11-15T08:00:08.042700",
     "exception": false,
     "start_time": "2021-11-15T08:00:07.931162",
     "status": "completed"
    },
    "tags": []
   },
   "source": []
  },
  {
   "cell_type": "markdown",
   "id": "c6a40e27",
   "metadata": {
    "papermill": {
     "duration": 0.112425,
     "end_time": "2021-11-15T08:00:08.267611",
     "exception": false,
     "start_time": "2021-11-15T08:00:08.155186",
     "status": "completed"
    },
    "tags": []
   },
   "source": [
    "**Ram, internal memory, mp speed, mob weight seem to be related to some extend in the same order**"
   ]
  },
  {
   "cell_type": "code",
   "execution_count": 29,
   "id": "a94a117a",
   "metadata": {
    "execution": {
     "iopub.execute_input": "2021-11-15T08:00:08.495434Z",
     "iopub.status.busy": "2021-11-15T08:00:08.494437Z",
     "iopub.status.idle": "2021-11-15T08:00:08.519146Z",
     "shell.execute_reply": "2021-11-15T08:00:08.519708Z",
     "shell.execute_reply.started": "2021-11-15T07:56:22.435797Z"
    },
    "papermill": {
     "duration": 0.141719,
     "end_time": "2021-11-15T08:00:08.519895",
     "exception": false,
     "start_time": "2021-11-15T08:00:08.378176",
     "status": "completed"
    },
    "tags": []
   },
   "outputs": [
    {
     "data": {
      "text/html": [
       "<div>\n",
       "<style scoped>\n",
       "    .dataframe tbody tr th:only-of-type {\n",
       "        vertical-align: middle;\n",
       "    }\n",
       "\n",
       "    .dataframe tbody tr th {\n",
       "        vertical-align: top;\n",
       "    }\n",
       "\n",
       "    .dataframe thead th {\n",
       "        text-align: right;\n",
       "    }\n",
       "</style>\n",
       "<table border=\"1\" class=\"dataframe\">\n",
       "  <thead>\n",
       "    <tr style=\"text-align: right;\">\n",
       "      <th></th>\n",
       "      <th>mobile_name</th>\n",
       "      <th>mobile_price</th>\n",
       "      <th>mobile_color</th>\n",
       "      <th>dual_sim</th>\n",
       "      <th>disp_size</th>\n",
       "      <th>resolution</th>\n",
       "      <th>os</th>\n",
       "      <th>num_cores</th>\n",
       "      <th>mp_speed</th>\n",
       "      <th>int_memory</th>\n",
       "      <th>ram</th>\n",
       "      <th>p_cam</th>\n",
       "      <th>f_cam</th>\n",
       "      <th>network</th>\n",
       "      <th>bluetooth</th>\n",
       "      <th>battery_power</th>\n",
       "      <th>mob_width</th>\n",
       "      <th>mob_height</th>\n",
       "      <th>mob_depth</th>\n",
       "      <th>mob_weight</th>\n",
       "    </tr>\n",
       "  </thead>\n",
       "  <tbody>\n",
       "    <tr>\n",
       "      <th>0</th>\n",
       "      <td>Realme Narzo 10A (So White, 32 GB)</td>\n",
       "      <td>8999</td>\n",
       "      <td>So White</td>\n",
       "      <td>Dual Sim</td>\n",
       "      <td>16.56 cm (6.52 inch)</td>\n",
       "      <td>1600 x 720 Pixels</td>\n",
       "      <td>Android 10</td>\n",
       "      <td>Octa Core</td>\n",
       "      <td>2.0</td>\n",
       "      <td>32</td>\n",
       "      <td>3</td>\n",
       "      <td>12MP + 2MP + 2MP</td>\n",
       "      <td>5MP Front Camera</td>\n",
       "      <td>4G VOLTE, 4G, 3G, 2G</td>\n",
       "      <td>Yes</td>\n",
       "      <td>5000</td>\n",
       "      <td>75.0</td>\n",
       "      <td>164.4</td>\n",
       "      <td>8.95</td>\n",
       "      <td>195.0</td>\n",
       "    </tr>\n",
       "    <tr>\n",
       "      <th>1</th>\n",
       "      <td>Realme Narzo 10A (So Blue, 32 GB)</td>\n",
       "      <td>8999</td>\n",
       "      <td>So Blue</td>\n",
       "      <td>Dual Sim</td>\n",
       "      <td>16.56 cm (6.52 inch)</td>\n",
       "      <td>1600 x 720 Pixels</td>\n",
       "      <td>Android 10</td>\n",
       "      <td>Octa Core</td>\n",
       "      <td>2.0</td>\n",
       "      <td>32</td>\n",
       "      <td>3</td>\n",
       "      <td>12MP + 2MP + 2MP</td>\n",
       "      <td>5MP Front Camera</td>\n",
       "      <td>4G VOLTE, 4G, 3G, 2G</td>\n",
       "      <td>Yes</td>\n",
       "      <td>5000</td>\n",
       "      <td>75.0</td>\n",
       "      <td>164.4</td>\n",
       "      <td>8.95</td>\n",
       "      <td>195.0</td>\n",
       "    </tr>\n",
       "    <tr>\n",
       "      <th>2</th>\n",
       "      <td>Realme Narzo 10A (So Blue, 64 GB)</td>\n",
       "      <td>9999</td>\n",
       "      <td>So Blue</td>\n",
       "      <td>Dual Sim</td>\n",
       "      <td>16.56 cm (6.52 inch)</td>\n",
       "      <td>1600 x 720 Pixels</td>\n",
       "      <td>Android 10</td>\n",
       "      <td>Octa Core</td>\n",
       "      <td>2.0</td>\n",
       "      <td>64</td>\n",
       "      <td>4</td>\n",
       "      <td>12MP + 2MP + 2MP</td>\n",
       "      <td>5MP Front Camera</td>\n",
       "      <td>4G VOLTE, 4G, 3G, 2G</td>\n",
       "      <td>Yes</td>\n",
       "      <td>5000</td>\n",
       "      <td>75.0</td>\n",
       "      <td>164.4</td>\n",
       "      <td>8.95</td>\n",
       "      <td>195.0</td>\n",
       "    </tr>\n",
       "    <tr>\n",
       "      <th>3</th>\n",
       "      <td>Realme Narzo 10A (So White, 64 GB)</td>\n",
       "      <td>9999</td>\n",
       "      <td>So White</td>\n",
       "      <td>Dual Sim</td>\n",
       "      <td>16.56 cm (6.52 inch)</td>\n",
       "      <td>1600 x 720 Pixels</td>\n",
       "      <td>Android 10</td>\n",
       "      <td>Octa Core</td>\n",
       "      <td>2.0</td>\n",
       "      <td>64</td>\n",
       "      <td>4</td>\n",
       "      <td>12MP + 2MP + 2MP</td>\n",
       "      <td>5MP Front Camera</td>\n",
       "      <td>4G VOLTE, 4G, 3G, 2G</td>\n",
       "      <td>Yes</td>\n",
       "      <td>5000</td>\n",
       "      <td>75.0</td>\n",
       "      <td>164.4</td>\n",
       "      <td>8.95</td>\n",
       "      <td>195.0</td>\n",
       "    </tr>\n",
       "    <tr>\n",
       "      <th>4</th>\n",
       "      <td>Realme Narzo 10 (That Green, 128 GB)</td>\n",
       "      <td>11999</td>\n",
       "      <td>That Green</td>\n",
       "      <td>Dual Sim</td>\n",
       "      <td>16.51 cm (6.5 inch)</td>\n",
       "      <td>1600 x 720 Pixels</td>\n",
       "      <td>Android 10</td>\n",
       "      <td>Octa Core</td>\n",
       "      <td>2.0</td>\n",
       "      <td>128</td>\n",
       "      <td>4</td>\n",
       "      <td>48MP + 8MP + 2MP + 2MP</td>\n",
       "      <td>16MP Front Camera</td>\n",
       "      <td>4G VOLTE, 4G, 3G, 2G</td>\n",
       "      <td>Yes</td>\n",
       "      <td>5000</td>\n",
       "      <td>75.4</td>\n",
       "      <td>164.4</td>\n",
       "      <td>9.00</td>\n",
       "      <td>199.0</td>\n",
       "    </tr>\n",
       "  </tbody>\n",
       "</table>\n",
       "</div>"
      ],
      "text/plain": [
       "                            mobile_name  mobile_price mobile_color  dual_sim  \\\n",
       "0    Realme Narzo 10A (So White, 32 GB)          8999     So White  Dual Sim   \n",
       "1     Realme Narzo 10A (So Blue, 32 GB)          8999      So Blue  Dual Sim   \n",
       "2     Realme Narzo 10A (So Blue, 64 GB)          9999      So Blue  Dual Sim   \n",
       "3    Realme Narzo 10A (So White, 64 GB)          9999     So White  Dual Sim   \n",
       "4  Realme Narzo 10 (That Green, 128 GB)         11999   That Green  Dual Sim   \n",
       "\n",
       "              disp_size         resolution          os  num_cores  mp_speed  \\\n",
       "0  16.56 cm (6.52 inch)  1600 x 720 Pixels  Android 10  Octa Core       2.0   \n",
       "1  16.56 cm (6.52 inch)  1600 x 720 Pixels  Android 10  Octa Core       2.0   \n",
       "2  16.56 cm (6.52 inch)  1600 x 720 Pixels  Android 10  Octa Core       2.0   \n",
       "3  16.56 cm (6.52 inch)  1600 x 720 Pixels  Android 10  Octa Core       2.0   \n",
       "4   16.51 cm (6.5 inch)  1600 x 720 Pixels  Android 10  Octa Core       2.0   \n",
       "\n",
       "   int_memory  ram                   p_cam              f_cam  \\\n",
       "0          32    3        12MP + 2MP + 2MP   5MP Front Camera   \n",
       "1          32    3        12MP + 2MP + 2MP   5MP Front Camera   \n",
       "2          64    4        12MP + 2MP + 2MP   5MP Front Camera   \n",
       "3          64    4        12MP + 2MP + 2MP   5MP Front Camera   \n",
       "4         128    4  48MP + 8MP + 2MP + 2MP  16MP Front Camera   \n",
       "\n",
       "                network bluetooth  battery_power  mob_width  mob_height  \\\n",
       "0  4G VOLTE, 4G, 3G, 2G       Yes           5000       75.0       164.4   \n",
       "1  4G VOLTE, 4G, 3G, 2G       Yes           5000       75.0       164.4   \n",
       "2  4G VOLTE, 4G, 3G, 2G       Yes           5000       75.0       164.4   \n",
       "3  4G VOLTE, 4G, 3G, 2G       Yes           5000       75.0       164.4   \n",
       "4  4G VOLTE, 4G, 3G, 2G       Yes           5000       75.4       164.4   \n",
       "\n",
       "   mob_depth  mob_weight  \n",
       "0       8.95       195.0  \n",
       "1       8.95       195.0  \n",
       "2       8.95       195.0  \n",
       "3       8.95       195.0  \n",
       "4       9.00       199.0  "
      ]
     },
     "execution_count": 29,
     "metadata": {},
     "output_type": "execute_result"
    }
   ],
   "source": [
    "df.head()"
   ]
  },
  {
   "cell_type": "markdown",
   "id": "9eb20e90",
   "metadata": {
    "papermill": {
     "duration": 0.107927,
     "end_time": "2021-11-15T08:00:08.737950",
     "exception": false,
     "start_time": "2021-11-15T08:00:08.630023",
     "status": "completed"
    },
    "tags": []
   },
   "source": [
    "**disp_size seems to have both cm and inch info. Choose one among them and numericize it**"
   ]
  },
  {
   "cell_type": "code",
   "execution_count": 30,
   "id": "7f2514f6",
   "metadata": {
    "execution": {
     "iopub.execute_input": "2021-11-15T08:00:08.957082Z",
     "iopub.status.busy": "2021-11-15T08:00:08.956320Z",
     "iopub.status.idle": "2021-11-15T08:00:08.960624Z",
     "shell.execute_reply": "2021-11-15T08:00:08.961245Z",
     "shell.execute_reply.started": "2021-11-15T07:56:22.462973Z"
    },
    "papermill": {
     "duration": 0.116751,
     "end_time": "2021-11-15T08:00:08.961423",
     "exception": false,
     "start_time": "2021-11-15T08:00:08.844672",
     "status": "completed"
    },
    "tags": []
   },
   "outputs": [],
   "source": [
    "def replace_regex_numericize(df,col,chars_to_remove):\n",
    "    processed = df[col]\n",
    "    for char in chars_to_remove:\n",
    "        processed = processed.str.replace(char,'',regex=True)\n",
    "    return pd.to_numeric(processed)"
   ]
  },
  {
   "cell_type": "code",
   "execution_count": 31,
   "id": "302c83c0",
   "metadata": {
    "execution": {
     "iopub.execute_input": "2021-11-15T08:00:09.182832Z",
     "iopub.status.busy": "2021-11-15T08:00:09.182203Z",
     "iopub.status.idle": "2021-11-15T08:00:09.188694Z",
     "shell.execute_reply": "2021-11-15T08:00:09.189249Z",
     "shell.execute_reply.started": "2021-11-15T07:56:22.475299Z"
    },
    "papermill": {
     "duration": 0.117432,
     "end_time": "2021-11-15T08:00:09.189423",
     "exception": false,
     "start_time": "2021-11-15T08:00:09.071991",
     "status": "completed"
    },
    "tags": []
   },
   "outputs": [],
   "source": [
    "# edit_numericize\n",
    "df['disp_size'] = replace_regex_numericize(df,'disp_size',[' cm .*'])\n",
    "df['disp_size'].unique()\n",
    "status['disp_size'] = 1"
   ]
  },
  {
   "cell_type": "code",
   "execution_count": null,
   "id": "0919eaaf",
   "metadata": {
    "execution": {
     "iopub.execute_input": "2021-11-15T08:00:09.408318Z",
     "iopub.status.busy": "2021-11-15T08:00:09.407634Z",
     "iopub.status.idle": "2021-11-15T08:00:09.654013Z",
     "shell.execute_reply": "2021-11-15T08:00:09.653467Z",
     "shell.execute_reply.started": "2021-11-15T07:56:22.494324Z"
    },
    "papermill": {
     "duration": 0.356596,
     "end_time": "2021-11-15T08:00:09.654157",
     "exception": false,
     "start_time": "2021-11-15T08:00:09.297561",
     "status": "completed"
    },
    "tags": []
   },
   "outputs": [],
   "source": []
  },
  {
   "cell_type": "code",
   "execution_count": 33,
   "id": "dafda801",
   "metadata": {
    "execution": {
     "iopub.execute_input": "2021-11-15T08:00:09.877884Z",
     "iopub.status.busy": "2021-11-15T08:00:09.877099Z",
     "iopub.status.idle": "2021-11-15T08:00:09.896766Z",
     "shell.execute_reply": "2021-11-15T08:00:09.897334Z",
     "shell.execute_reply.started": "2021-11-15T07:56:22.752486Z"
    },
    "papermill": {
     "duration": 0.135213,
     "end_time": "2021-11-15T08:00:09.897531",
     "exception": false,
     "start_time": "2021-11-15T08:00:09.762318",
     "status": "completed"
    },
    "tags": []
   },
   "outputs": [
    {
     "data": {
      "text/html": [
       "<div>\n",
       "<style scoped>\n",
       "    .dataframe tbody tr th:only-of-type {\n",
       "        vertical-align: middle;\n",
       "    }\n",
       "\n",
       "    .dataframe tbody tr th {\n",
       "        vertical-align: top;\n",
       "    }\n",
       "\n",
       "    .dataframe thead th {\n",
       "        text-align: right;\n",
       "    }\n",
       "</style>\n",
       "<table border=\"1\" class=\"dataframe\">\n",
       "  <thead>\n",
       "    <tr style=\"text-align: right;\">\n",
       "      <th></th>\n",
       "      <th>mobile_name</th>\n",
       "      <th>mobile_price</th>\n",
       "      <th>mobile_color</th>\n",
       "      <th>dual_sim</th>\n",
       "      <th>disp_size</th>\n",
       "      <th>resolution</th>\n",
       "      <th>os</th>\n",
       "      <th>num_cores</th>\n",
       "      <th>mp_speed</th>\n",
       "      <th>int_memory</th>\n",
       "      <th>ram</th>\n",
       "      <th>p_cam</th>\n",
       "      <th>f_cam</th>\n",
       "      <th>network</th>\n",
       "      <th>bluetooth</th>\n",
       "      <th>battery_power</th>\n",
       "      <th>mob_width</th>\n",
       "      <th>mob_height</th>\n",
       "      <th>mob_depth</th>\n",
       "      <th>mob_weight</th>\n",
       "    </tr>\n",
       "  </thead>\n",
       "  <tbody>\n",
       "    <tr>\n",
       "      <th>0</th>\n",
       "      <td>Realme Narzo 10A (So White, 32 GB)</td>\n",
       "      <td>8999</td>\n",
       "      <td>So White</td>\n",
       "      <td>Dual Sim</td>\n",
       "      <td>16.56</td>\n",
       "      <td>1600 x 720 Pixels</td>\n",
       "      <td>Android 10</td>\n",
       "      <td>Octa Core</td>\n",
       "      <td>2.0</td>\n",
       "      <td>32</td>\n",
       "      <td>3</td>\n",
       "      <td>12MP + 2MP + 2MP</td>\n",
       "      <td>5MP Front Camera</td>\n",
       "      <td>4G VOLTE, 4G, 3G, 2G</td>\n",
       "      <td>Yes</td>\n",
       "      <td>5000</td>\n",
       "      <td>75.0</td>\n",
       "      <td>164.4</td>\n",
       "      <td>8.95</td>\n",
       "      <td>195.0</td>\n",
       "    </tr>\n",
       "    <tr>\n",
       "      <th>1</th>\n",
       "      <td>Realme Narzo 10A (So Blue, 32 GB)</td>\n",
       "      <td>8999</td>\n",
       "      <td>So Blue</td>\n",
       "      <td>Dual Sim</td>\n",
       "      <td>16.56</td>\n",
       "      <td>1600 x 720 Pixels</td>\n",
       "      <td>Android 10</td>\n",
       "      <td>Octa Core</td>\n",
       "      <td>2.0</td>\n",
       "      <td>32</td>\n",
       "      <td>3</td>\n",
       "      <td>12MP + 2MP + 2MP</td>\n",
       "      <td>5MP Front Camera</td>\n",
       "      <td>4G VOLTE, 4G, 3G, 2G</td>\n",
       "      <td>Yes</td>\n",
       "      <td>5000</td>\n",
       "      <td>75.0</td>\n",
       "      <td>164.4</td>\n",
       "      <td>8.95</td>\n",
       "      <td>195.0</td>\n",
       "    </tr>\n",
       "    <tr>\n",
       "      <th>2</th>\n",
       "      <td>Realme Narzo 10A (So Blue, 64 GB)</td>\n",
       "      <td>9999</td>\n",
       "      <td>So Blue</td>\n",
       "      <td>Dual Sim</td>\n",
       "      <td>16.56</td>\n",
       "      <td>1600 x 720 Pixels</td>\n",
       "      <td>Android 10</td>\n",
       "      <td>Octa Core</td>\n",
       "      <td>2.0</td>\n",
       "      <td>64</td>\n",
       "      <td>4</td>\n",
       "      <td>12MP + 2MP + 2MP</td>\n",
       "      <td>5MP Front Camera</td>\n",
       "      <td>4G VOLTE, 4G, 3G, 2G</td>\n",
       "      <td>Yes</td>\n",
       "      <td>5000</td>\n",
       "      <td>75.0</td>\n",
       "      <td>164.4</td>\n",
       "      <td>8.95</td>\n",
       "      <td>195.0</td>\n",
       "    </tr>\n",
       "    <tr>\n",
       "      <th>3</th>\n",
       "      <td>Realme Narzo 10A (So White, 64 GB)</td>\n",
       "      <td>9999</td>\n",
       "      <td>So White</td>\n",
       "      <td>Dual Sim</td>\n",
       "      <td>16.56</td>\n",
       "      <td>1600 x 720 Pixels</td>\n",
       "      <td>Android 10</td>\n",
       "      <td>Octa Core</td>\n",
       "      <td>2.0</td>\n",
       "      <td>64</td>\n",
       "      <td>4</td>\n",
       "      <td>12MP + 2MP + 2MP</td>\n",
       "      <td>5MP Front Camera</td>\n",
       "      <td>4G VOLTE, 4G, 3G, 2G</td>\n",
       "      <td>Yes</td>\n",
       "      <td>5000</td>\n",
       "      <td>75.0</td>\n",
       "      <td>164.4</td>\n",
       "      <td>8.95</td>\n",
       "      <td>195.0</td>\n",
       "    </tr>\n",
       "    <tr>\n",
       "      <th>4</th>\n",
       "      <td>Realme Narzo 10 (That Green, 128 GB)</td>\n",
       "      <td>11999</td>\n",
       "      <td>That Green</td>\n",
       "      <td>Dual Sim</td>\n",
       "      <td>16.51</td>\n",
       "      <td>1600 x 720 Pixels</td>\n",
       "      <td>Android 10</td>\n",
       "      <td>Octa Core</td>\n",
       "      <td>2.0</td>\n",
       "      <td>128</td>\n",
       "      <td>4</td>\n",
       "      <td>48MP + 8MP + 2MP + 2MP</td>\n",
       "      <td>16MP Front Camera</td>\n",
       "      <td>4G VOLTE, 4G, 3G, 2G</td>\n",
       "      <td>Yes</td>\n",
       "      <td>5000</td>\n",
       "      <td>75.4</td>\n",
       "      <td>164.4</td>\n",
       "      <td>9.00</td>\n",
       "      <td>199.0</td>\n",
       "    </tr>\n",
       "  </tbody>\n",
       "</table>\n",
       "</div>"
      ],
      "text/plain": [
       "                            mobile_name  mobile_price mobile_color  dual_sim  \\\n",
       "0    Realme Narzo 10A (So White, 32 GB)          8999     So White  Dual Sim   \n",
       "1     Realme Narzo 10A (So Blue, 32 GB)          8999      So Blue  Dual Sim   \n",
       "2     Realme Narzo 10A (So Blue, 64 GB)          9999      So Blue  Dual Sim   \n",
       "3    Realme Narzo 10A (So White, 64 GB)          9999     So White  Dual Sim   \n",
       "4  Realme Narzo 10 (That Green, 128 GB)         11999   That Green  Dual Sim   \n",
       "\n",
       "   disp_size         resolution          os  num_cores  mp_speed  int_memory  \\\n",
       "0      16.56  1600 x 720 Pixels  Android 10  Octa Core       2.0          32   \n",
       "1      16.56  1600 x 720 Pixels  Android 10  Octa Core       2.0          32   \n",
       "2      16.56  1600 x 720 Pixels  Android 10  Octa Core       2.0          64   \n",
       "3      16.56  1600 x 720 Pixels  Android 10  Octa Core       2.0          64   \n",
       "4      16.51  1600 x 720 Pixels  Android 10  Octa Core       2.0         128   \n",
       "\n",
       "   ram                   p_cam              f_cam               network  \\\n",
       "0    3        12MP + 2MP + 2MP   5MP Front Camera  4G VOLTE, 4G, 3G, 2G   \n",
       "1    3        12MP + 2MP + 2MP   5MP Front Camera  4G VOLTE, 4G, 3G, 2G   \n",
       "2    4        12MP + 2MP + 2MP   5MP Front Camera  4G VOLTE, 4G, 3G, 2G   \n",
       "3    4        12MP + 2MP + 2MP   5MP Front Camera  4G VOLTE, 4G, 3G, 2G   \n",
       "4    4  48MP + 8MP + 2MP + 2MP  16MP Front Camera  4G VOLTE, 4G, 3G, 2G   \n",
       "\n",
       "  bluetooth  battery_power  mob_width  mob_height  mob_depth  mob_weight  \n",
       "0       Yes           5000       75.0       164.4       8.95       195.0  \n",
       "1       Yes           5000       75.0       164.4       8.95       195.0  \n",
       "2       Yes           5000       75.0       164.4       8.95       195.0  \n",
       "3       Yes           5000       75.0       164.4       8.95       195.0  \n",
       "4       Yes           5000       75.4       164.4       9.00       199.0  "
      ]
     },
     "execution_count": 33,
     "metadata": {},
     "output_type": "execute_result"
    }
   ],
   "source": [
    "df.head()"
   ]
  },
  {
   "cell_type": "code",
   "execution_count": 34,
   "id": "796108ae",
   "metadata": {
    "execution": {
     "iopub.execute_input": "2021-11-15T08:00:10.121688Z",
     "iopub.status.busy": "2021-11-15T08:00:10.120917Z",
     "iopub.status.idle": "2021-11-15T08:00:10.125942Z",
     "shell.execute_reply": "2021-11-15T08:00:10.125344Z",
     "shell.execute_reply.started": "2021-11-15T07:56:22.782072Z"
    },
    "papermill": {
     "duration": 0.117746,
     "end_time": "2021-11-15T08:00:10.126111",
     "exception": false,
     "start_time": "2021-11-15T08:00:10.008365",
     "status": "completed"
    },
    "tags": []
   },
   "outputs": [],
   "source": [
    "def replace_regex(df,col,chars_to_remove):\n",
    "    processed = df[col]\n",
    "    for char in chars_to_remove:\n",
    "        processed = processed.str.replace(char,'',regex=True)\n",
    "    return processed"
   ]
  },
  {
   "cell_type": "code",
   "execution_count": 35,
   "id": "ac9f5ceb",
   "metadata": {
    "execution": {
     "iopub.execute_input": "2021-11-15T08:00:10.357941Z",
     "iopub.status.busy": "2021-11-15T08:00:10.357142Z",
     "iopub.status.idle": "2021-11-15T08:00:10.361992Z",
     "shell.execute_reply": "2021-11-15T08:00:10.362543Z",
     "shell.execute_reply.started": "2021-11-15T07:56:22.792048Z"
    },
    "papermill": {
     "duration": 0.123583,
     "end_time": "2021-11-15T08:00:10.362725",
     "exception": false,
     "start_time": "2021-11-15T08:00:10.239142",
     "status": "completed"
    },
    "tags": []
   },
   "outputs": [
    {
     "data": {
      "text/plain": [
       "array(['Realme Narzo 10A', 'Realme Narzo 10', 'Realme 5 Pro',\n",
       "       'Realme X2 Pro', 'Realme 2 Pro', 'Realme XT', 'Realme X50 Pro',\n",
       "       'Realme C3', 'Realme 6', 'Realme 6 Pro', 'Realme C2', 'Realme 5s',\n",
       "       'Realme X2', 'Realme X3', 'Realme X3 SuperZoom', 'Realme 3',\n",
       "       'Redmi 8', 'Redmi K20 Pro', 'Redmi Note 9 Pro', 'Mi A3',\n",
       "       'Redmi Note 7 Pro', 'Mi Mix 2', 'Redmi K20', 'Redmi Y2',\n",
       "       'Redmi Note 6 Pro', 'Mi A2', 'Mi 10', 'Redmi Note 5 Pro', 'MI3',\n",
       "       'Redmi 8A Dual', 'Redmi Note 8', 'Redmi Note 4',\n",
       "       'Redmi Note 9 Pro Max', 'Redmi 8A', 'Redmi Go', 'Redmi Note 7S',\n",
       "       'Redmi 7A', 'Redmi Note 7', 'Redmi 6', 'Redmi Y3', 'Redmi Y1',\n",
       "       'Vivo Y12', 'Vivo U10', 'Vivo Y11', 'Vivo Z1x', 'Vivo Y15',\n",
       "       'Vivo S1 Pro', 'Vivo Y91i', 'Vivo Y50', 'Vivo Z1Pro', 'Vivo Y19',\n",
       "       'Vivo V19', 'Vivo V17', 'Vivo S1', 'Vivo V15 Pro', 'Vivo Y17',\n",
       "       'Vivo V17Pro', 'Vivo V11 Pro', 'Vivo NEX', 'Vivo Y81',\n",
       "       'Vivo V9 Youth', 'Vivo V15', 'Vivo Y93', 'Vivo Y91', 'Vivo V7',\n",
       "       'Vivo Y83', 'Vivo V9', 'Vivo Y71i', 'Vivo V9 Pro', 'Vivo Y71',\n",
       "       'Vivo V7+', 'Vivo Y55S', 'Vivo Y81i', 'Vivo Y69',\n",
       "       'Samsung Galaxy M30S', 'Samsung Galaxy A21s', 'Samsung Galaxy M21',\n",
       "       'Samsung Galaxy J2 Core', 'Samsung Galaxy M31',\n",
       "       'Samsung Galaxy S10 Lite', 'Samsung Galaxy J2-2017',\n",
       "       'Samsung Galaxy J7 Pro', 'Samsung Galaxy J7 Nxt',\n",
       "       'Infinix Hot 9 Pro', 'Infinix Hot 9', 'Infinix Note 5 Stylus',\n",
       "       'Infinix S5 Pro', 'Infinix Hot S3X', 'Infinix Note 5',\n",
       "       'Infinix Hot 7', 'Infinix Hot S3', 'Infinix S5 Lite',\n",
       "       'Infinix Zero 5 Pro', 'Infinix S4', 'Infinix S5', 'Infinix Zero 5',\n",
       "       'POCO F1', 'POCO X2', 'POCO X2 Special Edition', 'POCO M2 Pro',\n",
       "       'OPPO A31', 'OPPO A9 2020', 'OPPO A12', 'OPPO A5s', 'OPPO F15',\n",
       "       'OPPO A52', 'OPPO A11K', 'OPPO Reno3 Pro', 'OPPO F11 Pro',\n",
       "       'OPPO Reno 10x Zoom', 'OPPO Reno2', 'OPPO Find X', 'OPPO Reno2 Z',\n",
       "       'OPPO A83', 'OPPO K1', 'OPPO F9 Pro', 'OPPO F11', 'OPPO A1K',\n",
       "       'OPPO A7', 'OPPO A3s', 'OPPO R17 Pro', 'OPPO F7', 'OPPO F1S',\n",
       "       'OPPO A71k', 'OPPO F3', 'OPPO A5', 'OPPO F9'], dtype=object)"
      ]
     },
     "execution_count": 35,
     "metadata": {},
     "output_type": "execute_result"
    }
   ],
   "source": [
    "df['mobile_name_brand'] = replace_regex(df, 'mobile_name', [' \\(.*\\)'])\n",
    "df['mobile_name_brand'].unique()"
   ]
  },
  {
   "cell_type": "code",
   "execution_count": 36,
   "id": "e60535db",
   "metadata": {
    "execution": {
     "iopub.execute_input": "2021-11-15T08:00:10.594140Z",
     "iopub.status.busy": "2021-11-15T08:00:10.593412Z",
     "iopub.status.idle": "2021-11-15T08:00:10.595951Z",
     "shell.execute_reply": "2021-11-15T08:00:10.596816Z",
     "shell.execute_reply.started": "2021-11-15T07:56:22.810307Z"
    },
    "papermill": {
     "duration": 0.12427,
     "end_time": "2021-11-15T08:00:10.597063",
     "exception": false,
     "start_time": "2021-11-15T08:00:10.472793",
     "status": "completed"
    },
    "tags": []
   },
   "outputs": [
    {
     "data": {
      "text/plain": [
       "array(['Realme', 'Redmi', 'Mi', 'MI3', 'Vivo', 'Samsung', 'Infinix',\n",
       "       'POCO', 'OPPO'], dtype=object)"
      ]
     },
     "execution_count": 36,
     "metadata": {},
     "output_type": "execute_result"
    }
   ],
   "source": [
    "df['mobile_name_brand_short'] = replace_regex(df, 'mobile_name', [' .*'])\n",
    "df['mobile_name_brand_short'].unique()"
   ]
  },
  {
   "cell_type": "code",
   "execution_count": 37,
   "id": "3259fb62",
   "metadata": {
    "execution": {
     "iopub.execute_input": "2021-11-15T08:00:10.822600Z",
     "iopub.status.busy": "2021-11-15T08:00:10.821911Z",
     "iopub.status.idle": "2021-11-15T08:00:10.825637Z",
     "shell.execute_reply": "2021-11-15T08:00:10.826173Z",
     "shell.execute_reply.started": "2021-11-15T07:56:22.826890Z"
    },
    "papermill": {
     "duration": 0.11743,
     "end_time": "2021-11-15T08:00:10.826358",
     "exception": false,
     "start_time": "2021-11-15T08:00:10.708928",
     "status": "completed"
    },
    "tags": []
   },
   "outputs": [],
   "source": [
    "def convert_words_to_num(df,cat_col):\n",
    "    return df[cat_col].astype('category').cat.codes"
   ]
  },
  {
   "cell_type": "code",
   "execution_count": 38,
   "id": "8eb8915f",
   "metadata": {
    "execution": {
     "iopub.execute_input": "2021-11-15T08:00:11.057912Z",
     "iopub.status.busy": "2021-11-15T08:00:11.053659Z",
     "iopub.status.idle": "2021-11-15T08:00:11.062611Z",
     "shell.execute_reply": "2021-11-15T08:00:11.062005Z",
     "shell.execute_reply.started": "2021-11-15T07:56:22.838983Z"
    },
    "papermill": {
     "duration": 0.125349,
     "end_time": "2021-11-15T08:00:11.062925",
     "exception": false,
     "start_time": "2021-11-15T08:00:10.937576",
     "status": "completed"
    },
    "tags": []
   },
   "outputs": [],
   "source": [
    "df['mobile_name_brand_new'] = convert_words_to_num(df,'mobile_name_brand')\n",
    "df['mobile_name_brand_short_new'] = convert_words_to_num(df,'mobile_name_brand')"
   ]
  },
  {
   "cell_type": "code",
   "execution_count": null,
   "id": "733c77e4",
   "metadata": {
    "execution": {
     "iopub.execute_input": "2021-11-15T08:00:11.291437Z",
     "iopub.status.busy": "2021-11-15T08:00:11.290741Z",
     "iopub.status.idle": "2021-11-15T08:00:11.516764Z",
     "shell.execute_reply": "2021-11-15T08:00:11.517267Z",
     "shell.execute_reply.started": "2021-11-15T07:56:22.856312Z"
    },
    "papermill": {
     "duration": 0.340129,
     "end_time": "2021-11-15T08:00:11.517458",
     "exception": false,
     "start_time": "2021-11-15T08:00:11.177329",
     "status": "completed"
    },
    "tags": []
   },
   "outputs": [],
   "source": []
  },
  {
   "cell_type": "code",
   "execution_count": 40,
   "id": "bc01d261",
   "metadata": {
    "execution": {
     "iopub.execute_input": "2021-11-15T08:00:11.748415Z",
     "iopub.status.busy": "2021-11-15T08:00:11.747684Z",
     "iopub.status.idle": "2021-11-15T08:00:11.749359Z",
     "shell.execute_reply": "2021-11-15T08:00:11.749930Z",
     "shell.execute_reply.started": "2021-11-15T07:56:23.141231Z"
    },
    "papermill": {
     "duration": 0.118839,
     "end_time": "2021-11-15T08:00:11.750116",
     "exception": false,
     "start_time": "2021-11-15T08:00:11.631277",
     "status": "completed"
    },
    "tags": []
   },
   "outputs": [],
   "source": [
    "status['mobile_name'] = 1"
   ]
  },
  {
   "cell_type": "code",
   "execution_count": 41,
   "id": "30dfffd5",
   "metadata": {
    "execution": {
     "iopub.execute_input": "2021-11-15T08:00:11.983962Z",
     "iopub.status.busy": "2021-11-15T08:00:11.983244Z",
     "iopub.status.idle": "2021-11-15T08:00:12.013666Z",
     "shell.execute_reply": "2021-11-15T08:00:12.013006Z",
     "shell.execute_reply.started": "2021-11-15T07:56:23.149636Z"
    },
    "papermill": {
     "duration": 0.149784,
     "end_time": "2021-11-15T08:00:12.013817",
     "exception": false,
     "start_time": "2021-11-15T08:00:11.864033",
     "status": "completed"
    },
    "tags": []
   },
   "outputs": [
    {
     "data": {
      "text/html": [
       "<div>\n",
       "<style scoped>\n",
       "    .dataframe tbody tr th:only-of-type {\n",
       "        vertical-align: middle;\n",
       "    }\n",
       "\n",
       "    .dataframe tbody tr th {\n",
       "        vertical-align: top;\n",
       "    }\n",
       "\n",
       "    .dataframe thead th {\n",
       "        text-align: right;\n",
       "    }\n",
       "</style>\n",
       "<table border=\"1\" class=\"dataframe\">\n",
       "  <thead>\n",
       "    <tr style=\"text-align: right;\">\n",
       "      <th></th>\n",
       "      <th>mobile_name</th>\n",
       "      <th>mobile_price</th>\n",
       "      <th>mobile_color</th>\n",
       "      <th>dual_sim</th>\n",
       "      <th>disp_size</th>\n",
       "      <th>resolution</th>\n",
       "      <th>os</th>\n",
       "      <th>num_cores</th>\n",
       "      <th>mp_speed</th>\n",
       "      <th>int_memory</th>\n",
       "      <th>...</th>\n",
       "      <th>bluetooth</th>\n",
       "      <th>battery_power</th>\n",
       "      <th>mob_width</th>\n",
       "      <th>mob_height</th>\n",
       "      <th>mob_depth</th>\n",
       "      <th>mob_weight</th>\n",
       "      <th>mobile_name_brand</th>\n",
       "      <th>mobile_name_brand_short</th>\n",
       "      <th>mobile_name_brand_new</th>\n",
       "      <th>mobile_name_brand_short_new</th>\n",
       "    </tr>\n",
       "  </thead>\n",
       "  <tbody>\n",
       "    <tr>\n",
       "      <th>0</th>\n",
       "      <td>Realme Narzo 10A (So White, 32 GB)</td>\n",
       "      <td>8999</td>\n",
       "      <td>So White</td>\n",
       "      <td>Dual Sim</td>\n",
       "      <td>16.56</td>\n",
       "      <td>1600 x 720 Pixels</td>\n",
       "      <td>Android 10</td>\n",
       "      <td>Octa Core</td>\n",
       "      <td>2.0</td>\n",
       "      <td>32</td>\n",
       "      <td>...</td>\n",
       "      <td>Yes</td>\n",
       "      <td>5000</td>\n",
       "      <td>75.0</td>\n",
       "      <td>164.4</td>\n",
       "      <td>8.95</td>\n",
       "      <td>195.0</td>\n",
       "      <td>Realme Narzo 10A</td>\n",
       "      <td>Realme</td>\n",
       "      <td>58</td>\n",
       "      <td>58</td>\n",
       "    </tr>\n",
       "    <tr>\n",
       "      <th>1</th>\n",
       "      <td>Realme Narzo 10A (So Blue, 32 GB)</td>\n",
       "      <td>8999</td>\n",
       "      <td>So Blue</td>\n",
       "      <td>Dual Sim</td>\n",
       "      <td>16.56</td>\n",
       "      <td>1600 x 720 Pixels</td>\n",
       "      <td>Android 10</td>\n",
       "      <td>Octa Core</td>\n",
       "      <td>2.0</td>\n",
       "      <td>32</td>\n",
       "      <td>...</td>\n",
       "      <td>Yes</td>\n",
       "      <td>5000</td>\n",
       "      <td>75.0</td>\n",
       "      <td>164.4</td>\n",
       "      <td>8.95</td>\n",
       "      <td>195.0</td>\n",
       "      <td>Realme Narzo 10A</td>\n",
       "      <td>Realme</td>\n",
       "      <td>58</td>\n",
       "      <td>58</td>\n",
       "    </tr>\n",
       "    <tr>\n",
       "      <th>2</th>\n",
       "      <td>Realme Narzo 10A (So Blue, 64 GB)</td>\n",
       "      <td>9999</td>\n",
       "      <td>So Blue</td>\n",
       "      <td>Dual Sim</td>\n",
       "      <td>16.56</td>\n",
       "      <td>1600 x 720 Pixels</td>\n",
       "      <td>Android 10</td>\n",
       "      <td>Octa Core</td>\n",
       "      <td>2.0</td>\n",
       "      <td>64</td>\n",
       "      <td>...</td>\n",
       "      <td>Yes</td>\n",
       "      <td>5000</td>\n",
       "      <td>75.0</td>\n",
       "      <td>164.4</td>\n",
       "      <td>8.95</td>\n",
       "      <td>195.0</td>\n",
       "      <td>Realme Narzo 10A</td>\n",
       "      <td>Realme</td>\n",
       "      <td>58</td>\n",
       "      <td>58</td>\n",
       "    </tr>\n",
       "    <tr>\n",
       "      <th>3</th>\n",
       "      <td>Realme Narzo 10A (So White, 64 GB)</td>\n",
       "      <td>9999</td>\n",
       "      <td>So White</td>\n",
       "      <td>Dual Sim</td>\n",
       "      <td>16.56</td>\n",
       "      <td>1600 x 720 Pixels</td>\n",
       "      <td>Android 10</td>\n",
       "      <td>Octa Core</td>\n",
       "      <td>2.0</td>\n",
       "      <td>64</td>\n",
       "      <td>...</td>\n",
       "      <td>Yes</td>\n",
       "      <td>5000</td>\n",
       "      <td>75.0</td>\n",
       "      <td>164.4</td>\n",
       "      <td>8.95</td>\n",
       "      <td>195.0</td>\n",
       "      <td>Realme Narzo 10A</td>\n",
       "      <td>Realme</td>\n",
       "      <td>58</td>\n",
       "      <td>58</td>\n",
       "    </tr>\n",
       "    <tr>\n",
       "      <th>4</th>\n",
       "      <td>Realme Narzo 10 (That Green, 128 GB)</td>\n",
       "      <td>11999</td>\n",
       "      <td>That Green</td>\n",
       "      <td>Dual Sim</td>\n",
       "      <td>16.51</td>\n",
       "      <td>1600 x 720 Pixels</td>\n",
       "      <td>Android 10</td>\n",
       "      <td>Octa Core</td>\n",
       "      <td>2.0</td>\n",
       "      <td>128</td>\n",
       "      <td>...</td>\n",
       "      <td>Yes</td>\n",
       "      <td>5000</td>\n",
       "      <td>75.4</td>\n",
       "      <td>164.4</td>\n",
       "      <td>9.00</td>\n",
       "      <td>199.0</td>\n",
       "      <td>Realme Narzo 10</td>\n",
       "      <td>Realme</td>\n",
       "      <td>57</td>\n",
       "      <td>57</td>\n",
       "    </tr>\n",
       "  </tbody>\n",
       "</table>\n",
       "<p>5 rows × 24 columns</p>\n",
       "</div>"
      ],
      "text/plain": [
       "                            mobile_name  mobile_price mobile_color  dual_sim  \\\n",
       "0    Realme Narzo 10A (So White, 32 GB)          8999     So White  Dual Sim   \n",
       "1     Realme Narzo 10A (So Blue, 32 GB)          8999      So Blue  Dual Sim   \n",
       "2     Realme Narzo 10A (So Blue, 64 GB)          9999      So Blue  Dual Sim   \n",
       "3    Realme Narzo 10A (So White, 64 GB)          9999     So White  Dual Sim   \n",
       "4  Realme Narzo 10 (That Green, 128 GB)         11999   That Green  Dual Sim   \n",
       "\n",
       "   disp_size         resolution          os  num_cores  mp_speed  int_memory  \\\n",
       "0      16.56  1600 x 720 Pixels  Android 10  Octa Core       2.0          32   \n",
       "1      16.56  1600 x 720 Pixels  Android 10  Octa Core       2.0          32   \n",
       "2      16.56  1600 x 720 Pixels  Android 10  Octa Core       2.0          64   \n",
       "3      16.56  1600 x 720 Pixels  Android 10  Octa Core       2.0          64   \n",
       "4      16.51  1600 x 720 Pixels  Android 10  Octa Core       2.0         128   \n",
       "\n",
       "   ...  bluetooth battery_power mob_width mob_height mob_depth  mob_weight  \\\n",
       "0  ...        Yes          5000      75.0      164.4      8.95       195.0   \n",
       "1  ...        Yes          5000      75.0      164.4      8.95       195.0   \n",
       "2  ...        Yes          5000      75.0      164.4      8.95       195.0   \n",
       "3  ...        Yes          5000      75.0      164.4      8.95       195.0   \n",
       "4  ...        Yes          5000      75.4      164.4      9.00       199.0   \n",
       "\n",
       "   mobile_name_brand  mobile_name_brand_short  mobile_name_brand_new  \\\n",
       "0   Realme Narzo 10A                   Realme                     58   \n",
       "1   Realme Narzo 10A                   Realme                     58   \n",
       "2   Realme Narzo 10A                   Realme                     58   \n",
       "3   Realme Narzo 10A                   Realme                     58   \n",
       "4    Realme Narzo 10                   Realme                     57   \n",
       "\n",
       "   mobile_name_brand_short_new  \n",
       "0                           58  \n",
       "1                           58  \n",
       "2                           58  \n",
       "3                           58  \n",
       "4                           57  \n",
       "\n",
       "[5 rows x 24 columns]"
      ]
     },
     "execution_count": 41,
     "metadata": {},
     "output_type": "execute_result"
    }
   ],
   "source": [
    "df.head()"
   ]
  },
  {
   "cell_type": "code",
   "execution_count": 42,
   "id": "cfef9dd2",
   "metadata": {
    "execution": {
     "iopub.execute_input": "2021-11-15T08:00:12.246106Z",
     "iopub.status.busy": "2021-11-15T08:00:12.245105Z",
     "iopub.status.idle": "2021-11-15T08:00:12.260179Z",
     "shell.execute_reply": "2021-11-15T08:00:12.260769Z",
     "shell.execute_reply.started": "2021-11-15T07:56:23.190851Z"
    },
    "papermill": {
     "duration": 0.13292,
     "end_time": "2021-11-15T08:00:12.260967",
     "exception": false,
     "start_time": "2021-11-15T08:00:12.128047",
     "status": "completed"
    },
    "tags": []
   },
   "outputs": [],
   "source": [
    "df['mobile_color_cat'] = convert_words_to_num(df,'mobile_color')\n",
    "df['dual_sim_cat'] = convert_words_to_num(df,'dual_sim')\n",
    "df['resolution_cat'] = convert_words_to_num(df,'resolution')\n",
    "df['os_cat'] = convert_words_to_num(df,'os')\n",
    "df['num_cores_cat'] = convert_words_to_num(df,'num_cores')\n",
    "df['f_cam_cat'] = convert_words_to_num(df,'f_cam')\n",
    "df['network_cat'] = convert_words_to_num(df,'network')\n"
   ]
  },
  {
   "cell_type": "code",
   "execution_count": 43,
   "id": "743847fd",
   "metadata": {
    "execution": {
     "iopub.execute_input": "2021-11-15T08:00:12.490243Z",
     "iopub.status.busy": "2021-11-15T08:00:12.489274Z",
     "iopub.status.idle": "2021-11-15T08:00:12.494019Z",
     "shell.execute_reply": "2021-11-15T08:00:12.494585Z",
     "shell.execute_reply.started": "2021-11-15T07:56:23.208817Z"
    },
    "papermill": {
     "duration": 0.119769,
     "end_time": "2021-11-15T08:00:12.494755",
     "exception": false,
     "start_time": "2021-11-15T08:00:12.374986",
     "status": "completed"
    },
    "tags": []
   },
   "outputs": [],
   "source": [
    "status['mobile_color'] = 1\n",
    "status['dual_sim'] = 1\n",
    "status['resolution'] = 1\n",
    "status['os'] = 1\n",
    "status['num_cores'] = 1\n",
    "status['f_cam'] = 1\n",
    "status['network'] = 1"
   ]
  },
  {
   "cell_type": "code",
   "execution_count": 44,
   "id": "48a20fe4",
   "metadata": {
    "execution": {
     "iopub.execute_input": "2021-11-15T08:00:12.723616Z",
     "iopub.status.busy": "2021-11-15T08:00:12.722606Z",
     "iopub.status.idle": "2021-11-15T08:00:12.726207Z",
     "shell.execute_reply": "2021-11-15T08:00:12.726843Z",
     "shell.execute_reply.started": "2021-11-15T07:56:23.215370Z"
    },
    "papermill": {
     "duration": 0.119953,
     "end_time": "2021-11-15T08:00:12.727020",
     "exception": false,
     "start_time": "2021-11-15T08:00:12.607067",
     "status": "completed"
    },
    "tags": []
   },
   "outputs": [],
   "source": [
    "# status['mobile_color'] = 1 Let us see the result and values to be sure\n",
    "# status['dual_sim'] = 1 Let us see the result and values to be sure\n",
    "# status['resolution'] = 1 Let us see the result and values to be sure\n",
    "# status['os'] = 1 Let us see the result and values to be sure\n",
    "# status['num_cores'] = 1 Let us see the result and values to be sure\n",
    "# status['f_cam'] = 1 Let us see the result and values to be sure\n",
    "# status['network'] = 1 Let us see the result and values to be sure"
   ]
  },
  {
   "cell_type": "code",
   "execution_count": 45,
   "id": "95d96157",
   "metadata": {
    "execution": {
     "iopub.execute_input": "2021-11-15T08:00:12.953553Z",
     "iopub.status.busy": "2021-11-15T08:00:12.952506Z",
     "iopub.status.idle": "2021-11-15T08:00:12.958721Z",
     "shell.execute_reply": "2021-11-15T08:00:12.959334Z",
     "shell.execute_reply.started": "2021-11-15T07:56:23.228715Z"
    },
    "papermill": {
     "duration": 0.121133,
     "end_time": "2021-11-15T08:00:12.959523",
     "exception": false,
     "start_time": "2021-11-15T08:00:12.838390",
     "status": "completed"
    },
    "tags": []
   },
   "outputs": [
    {
     "data": {
      "text/plain": [
       "{'mobile_name': 1,\n",
       " 'mobile_price': 1,\n",
       " 'mobile_color': 1,\n",
       " 'dual_sim': 1,\n",
       " 'disp_size': 1,\n",
       " 'resolution': 1,\n",
       " 'os': 1,\n",
       " 'num_cores': 1,\n",
       " 'mp_speed': 1,\n",
       " 'int_memory': 1,\n",
       " 'ram': 1,\n",
       " 'p_cam': 0,\n",
       " 'f_cam': 1,\n",
       " 'network': 1,\n",
       " 'bluetooth': 0,\n",
       " 'battery_power': 1,\n",
       " 'mob_width': 1,\n",
       " 'mob_height': 1,\n",
       " 'mob_depth': 1,\n",
       " 'mob_weight': 1}"
      ]
     },
     "execution_count": 45,
     "metadata": {},
     "output_type": "execute_result"
    }
   ],
   "source": [
    "status"
   ]
  },
  {
   "cell_type": "code",
   "execution_count": 50,
   "id": "cd0cf455",
   "metadata": {
    "execution": {
     "iopub.execute_input": "2021-11-15T08:00:13.187990Z",
     "iopub.status.busy": "2021-11-15T08:00:13.186976Z",
     "iopub.status.idle": "2021-11-15T08:00:13.486541Z",
     "shell.execute_reply": "2021-11-15T08:00:13.485966Z",
     "shell.execute_reply.started": "2021-11-15T07:56:23.248040Z"
    },
    "papermill": {
     "duration": 0.414748,
     "end_time": "2021-11-15T08:00:13.486709",
     "exception": false,
     "start_time": "2021-11-15T08:00:13.071961",
     "status": "completed"
    },
    "tags": []
   },
   "outputs": [],
   "source": [
    "#plot_correlation_with_col(df,'mobile_price')"
   ]
  },
  {
   "cell_type": "markdown",
   "id": "c9a2d925",
   "metadata": {
    "papermill": {
     "duration": 0.113005,
     "end_time": "2021-11-15T08:00:13.713824",
     "exception": false,
     "start_time": "2021-11-15T08:00:13.600819",
     "status": "completed"
    },
    "tags": []
   },
   "source": [
    "**Some columns seem to have values which are in words, but represents a number. Convert them**"
   ]
  },
  {
   "cell_type": "code",
   "execution_count": 47,
   "id": "59d766c0",
   "metadata": {
    "execution": {
     "iopub.execute_input": "2021-11-15T08:00:13.949452Z",
     "iopub.status.busy": "2021-11-15T08:00:13.948704Z",
     "iopub.status.idle": "2021-11-15T08:00:13.951313Z",
     "shell.execute_reply": "2021-11-15T08:00:13.951842Z",
     "shell.execute_reply.started": "2021-11-15T07:56:23.597401Z"
    },
    "papermill": {
     "duration": 0.12404,
     "end_time": "2021-11-15T08:00:13.952012",
     "exception": false,
     "start_time": "2021-11-15T08:00:13.827972",
     "status": "completed"
    },
    "tags": []
   },
   "outputs": [
    {
     "data": {
      "text/plain": [
       "array(['Dual Sim', 'Single Sim'], dtype=object)"
      ]
     },
     "execution_count": 47,
     "metadata": {},
     "output_type": "execute_result"
    }
   ],
   "source": [
    "df['dual_sim'].unique()"
   ]
  },
  {
   "cell_type": "code",
   "execution_count": 48,
   "id": "3b1d77f2",
   "metadata": {
    "execution": {
     "iopub.execute_input": "2021-11-15T08:00:14.184060Z",
     "iopub.status.busy": "2021-11-15T08:00:14.183315Z",
     "iopub.status.idle": "2021-11-15T08:00:14.188808Z",
     "shell.execute_reply": "2021-11-15T08:00:14.189341Z",
     "shell.execute_reply.started": "2021-11-15T07:56:23.604941Z"
    },
    "papermill": {
     "duration": 0.122586,
     "end_time": "2021-11-15T08:00:14.189532",
     "exception": false,
     "start_time": "2021-11-15T08:00:14.066946",
     "status": "completed"
    },
    "tags": []
   },
   "outputs": [],
   "source": [
    "df['dual_sim_ord'] = df['dual_sim'].replace('Dual Sim',2).replace('Single Sim',1)"
   ]
  },
  {
   "cell_type": "code",
   "execution_count": 49,
   "id": "5db0ba70",
   "metadata": {
    "execution": {
     "iopub.execute_input": "2021-11-15T08:00:14.424115Z",
     "iopub.status.busy": "2021-11-15T08:00:14.423416Z",
     "iopub.status.idle": "2021-11-15T08:00:14.428904Z",
     "shell.execute_reply": "2021-11-15T08:00:14.429499Z",
     "shell.execute_reply.started": "2021-11-15T07:56:23.619135Z"
    },
    "papermill": {
     "duration": 0.125847,
     "end_time": "2021-11-15T08:00:14.429681",
     "exception": false,
     "start_time": "2021-11-15T08:00:14.303834",
     "status": "completed"
    },
    "tags": []
   },
   "outputs": [
    {
     "data": {
      "text/plain": [
       "array(['Octa Core', 'Quad Core', 'Single Core'], dtype=object)"
      ]
     },
     "execution_count": 49,
     "metadata": {},
     "output_type": "execute_result"
    }
   ],
   "source": [
    "df['num_cores'].unique()"
   ]
  },
  {
   "cell_type": "code",
   "execution_count": 50,
   "id": "3c391a1e",
   "metadata": {
    "execution": {
     "iopub.execute_input": "2021-11-15T08:00:14.665873Z",
     "iopub.status.busy": "2021-11-15T08:00:14.665141Z",
     "iopub.status.idle": "2021-11-15T08:00:14.667135Z",
     "shell.execute_reply": "2021-11-15T08:00:14.667668Z",
     "shell.execute_reply.started": "2021-11-15T07:56:23.635854Z"
    },
    "papermill": {
     "duration": 0.124671,
     "end_time": "2021-11-15T08:00:14.667835",
     "exception": false,
     "start_time": "2021-11-15T08:00:14.543164",
     "status": "completed"
    },
    "tags": []
   },
   "outputs": [],
   "source": [
    "df['num_cores_ord'] = df['num_cores'].replace('Octa Core',8).replace('Quad Core',4).replace('Single Core',1)"
   ]
  },
  {
   "cell_type": "code",
   "execution_count": 51,
   "id": "1dc3e27c",
   "metadata": {
    "execution": {
     "iopub.execute_input": "2021-11-15T08:00:14.899285Z",
     "iopub.status.busy": "2021-11-15T08:00:14.898601Z",
     "iopub.status.idle": "2021-11-15T08:00:15.208534Z",
     "shell.execute_reply": "2021-11-15T08:00:15.209157Z",
     "shell.execute_reply.started": "2021-11-15T07:56:23.647870Z"
    },
    "papermill": {
     "duration": 0.428956,
     "end_time": "2021-11-15T08:00:15.209337",
     "exception": false,
     "start_time": "2021-11-15T08:00:14.780381",
     "status": "completed"
    },
    "tags": []
   },
   "outputs": [],
   "source": [
    "#plot_correlation_with_col(df,'mobile_price')"
   ]
  },
  {
   "cell_type": "code",
   "execution_count": 52,
   "id": "537f9ada",
   "metadata": {
    "execution": {
     "iopub.execute_input": "2021-11-15T08:00:15.445456Z",
     "iopub.status.busy": "2021-11-15T08:00:15.444768Z",
     "iopub.status.idle": "2021-11-15T08:00:15.450718Z",
     "shell.execute_reply": "2021-11-15T08:00:15.451261Z",
     "shell.execute_reply.started": "2021-11-15T07:56:24.022145Z"
    },
    "papermill": {
     "duration": 0.125941,
     "end_time": "2021-11-15T08:00:15.451435",
     "exception": false,
     "start_time": "2021-11-15T08:00:15.325494",
     "status": "completed"
    },
    "tags": []
   },
   "outputs": [],
   "source": [
    "def plot_grouped_correlation_with_col(df, col):\n",
    "    sorted_corr = df.corr().sort_values(col)[col][:-1]\n",
    "    sorted_corr.sort_index().plot(kind='bar',figsize = (10,5))"
   ]
  },
  {
   "cell_type": "code",
   "execution_count": 52,
   "id": "79e6bc01",
   "metadata": {
    "execution": {
     "iopub.execute_input": "2021-11-15T08:00:15.690032Z",
     "iopub.status.busy": "2021-11-15T08:00:15.689336Z",
     "iopub.status.idle": "2021-11-15T08:00:15.999979Z",
     "shell.execute_reply": "2021-11-15T08:00:15.999298Z",
     "shell.execute_reply.started": "2021-11-15T07:56:24.030784Z"
    },
    "papermill": {
     "duration": 0.430818,
     "end_time": "2021-11-15T08:00:16.000125",
     "exception": false,
     "start_time": "2021-11-15T08:00:15.569307",
     "status": "completed"
    },
    "tags": []
   },
   "outputs": [],
   "source": [
    "#plot_grouped_correlation_with_col(df,'mobile_price')"
   ]
  },
  {
   "cell_type": "markdown",
   "id": "f43a80a8",
   "metadata": {
    "papermill": {
     "duration": 0.115901,
     "end_time": "2021-11-15T08:00:16.234985",
     "exception": false,
     "start_time": "2021-11-15T08:00:16.119084",
     "status": "completed"
    },
    "tags": []
   },
   "source": [
    "**Checking rest of the columns one by one. Probably there is more scope of cleaning in the negatively correlated ones**"
   ]
  },
  {
   "cell_type": "code",
   "execution_count": 54,
   "id": "b179bc0d",
   "metadata": {
    "execution": {
     "iopub.execute_input": "2021-11-15T08:00:16.472918Z",
     "iopub.status.busy": "2021-11-15T08:00:16.472172Z",
     "iopub.status.idle": "2021-11-15T08:00:16.474764Z",
     "shell.execute_reply": "2021-11-15T08:00:16.475315Z",
     "shell.execute_reply.started": "2021-11-15T07:56:24.412689Z"
    },
    "papermill": {
     "duration": 0.124244,
     "end_time": "2021-11-15T08:00:16.475520",
     "exception": false,
     "start_time": "2021-11-15T08:00:16.351276",
     "status": "completed"
    },
    "tags": []
   },
   "outputs": [
    {
     "data": {
      "text/plain": [
       "array([5000, 4035, 4000, 3500, 4200, 4300, 4230, 5020, 4030, 3400, 3080,\n",
       "       3010, 4780, 3050, 4100, 3000, 4500, 3700, 3260, 3360, 3225, 2730,\n",
       "       6000, 2600, 2000, 3600, 4350, 4025, 4065, 3730, 3180, 4020, 3075,\n",
       "       3200])"
      ]
     },
     "execution_count": 54,
     "metadata": {},
     "output_type": "execute_result"
    }
   ],
   "source": [
    "df['battery_power'].unique()"
   ]
  },
  {
   "cell_type": "code",
   "execution_count": 55,
   "id": "3e9885fd",
   "metadata": {
    "execution": {
     "iopub.execute_input": "2021-11-15T08:00:16.713660Z",
     "iopub.status.busy": "2021-11-15T08:00:16.712955Z",
     "iopub.status.idle": "2021-11-15T08:00:16.718377Z",
     "shell.execute_reply": "2021-11-15T08:00:16.718955Z",
     "shell.execute_reply.started": "2021-11-15T07:56:24.421420Z"
    },
    "papermill": {
     "duration": 0.127393,
     "end_time": "2021-11-15T08:00:16.719143",
     "exception": false,
     "start_time": "2021-11-15T08:00:16.591750",
     "status": "completed"
    },
    "tags": []
   },
   "outputs": [
    {
     "data": {
      "text/plain": [
       "array([16.56, 16.51, 16.  , 16.26, 16.36, 16.76, 15.49, 16.69, 15.8 ,\n",
       "       16.23, 16.94, 15.44, 15.21, 15.9 , 12.7 , 15.46, 13.97, 13.84,\n",
       "       16.13, 16.21, 16.59, 16.28, 16.74, 14.48, 15.24, 13.21, 17.02,\n",
       "       11.94, 15.06, 15.75, 15.72, 14.35, 15.19, 15.77, 15.7 , 15.82])"
      ]
     },
     "execution_count": 55,
     "metadata": {},
     "output_type": "execute_result"
    }
   ],
   "source": [
    "df['disp_size'].unique()"
   ]
  },
  {
   "cell_type": "code",
   "execution_count": 56,
   "id": "b55b5568",
   "metadata": {
    "execution": {
     "iopub.execute_input": "2021-11-15T08:00:16.955539Z",
     "iopub.status.busy": "2021-11-15T08:00:16.954846Z",
     "iopub.status.idle": "2021-11-15T08:00:16.960343Z",
     "shell.execute_reply": "2021-11-15T08:00:16.960950Z",
     "shell.execute_reply.started": "2021-11-15T07:56:24.437849Z"
    },
    "papermill": {
     "duration": 0.125144,
     "end_time": "2021-11-15T08:00:16.961126",
     "exception": false,
     "start_time": "2021-11-15T08:00:16.835982",
     "status": "completed"
    },
    "tags": []
   },
   "outputs": [
    {
     "data": {
      "text/plain": [
       "array(['5MP Front Camera', '16MP Front Camera',\n",
       "       '32MP + 8MP Dual Front Camera', '16MP + 8MP Dual Front Camera',\n",
       "       '13MP Front Camera', '32MP Front Camera', '8MP Front Camera',\n",
       "       '20MP Front Camera', '20MP + 2MP Dual Front Camera',\n",
       "       '2MP Front Camera', '8MP Dual Front Camera', '25MP Front Camera',\n",
       "       '24MP Front Camera', '13MP + 2MP Dual Front Camera',\n",
       "       '44MP + 2MP Dual Front Camera'], dtype=object)"
      ]
     },
     "execution_count": 56,
     "metadata": {},
     "output_type": "execute_result"
    }
   ],
   "source": [
    "df['f_cam'].unique()"
   ]
  },
  {
   "cell_type": "markdown",
   "id": "c7dde369",
   "metadata": {
    "papermill": {
     "duration": 0.118372,
     "end_time": "2021-11-15T08:00:17.198529",
     "exception": false,
     "start_time": "2021-11-15T08:00:17.080157",
     "status": "completed"
    },
    "tags": []
   },
   "source": [
    "**More cleaning should be possible for f_cam if we represent main/overall f_cam MP as a number**"
   ]
  },
  {
   "cell_type": "code",
   "execution_count": 57,
   "id": "95ff89bc",
   "metadata": {
    "execution": {
     "iopub.execute_input": "2021-11-15T08:00:17.442661Z",
     "iopub.status.busy": "2021-11-15T08:00:17.441990Z",
     "iopub.status.idle": "2021-11-15T08:00:17.449424Z",
     "shell.execute_reply": "2021-11-15T08:00:17.448830Z",
     "shell.execute_reply.started": "2021-11-15T07:56:24.454080Z"
    },
    "papermill": {
     "duration": 0.129948,
     "end_time": "2021-11-15T08:00:17.449588",
     "exception": false,
     "start_time": "2021-11-15T08:00:17.319640",
     "status": "completed"
    },
    "tags": []
   },
   "outputs": [],
   "source": [
    "df['f_cam_ord'] = replace_regex_numericize(df,'f_cam',['MP.*'])"
   ]
  },
  {
   "cell_type": "code",
   "execution_count": 53,
   "id": "ec00c4a8",
   "metadata": {
    "execution": {
     "iopub.execute_input": "2021-11-15T08:00:17.692243Z",
     "iopub.status.busy": "2021-11-15T08:00:17.691547Z",
     "iopub.status.idle": "2021-11-15T08:00:18.017422Z",
     "shell.execute_reply": "2021-11-15T08:00:18.018055Z",
     "shell.execute_reply.started": "2021-11-15T07:56:24.466702Z"
    },
    "papermill": {
     "duration": 0.449994,
     "end_time": "2021-11-15T08:00:18.018246",
     "exception": false,
     "start_time": "2021-11-15T08:00:17.568252",
     "status": "completed"
    },
    "tags": []
   },
   "outputs": [],
   "source": [
    "#plot_grouped_correlation_with_col(df,'mobile_price')"
   ]
  },
  {
   "cell_type": "code",
   "execution_count": 59,
   "id": "49440d2d",
   "metadata": {
    "execution": {
     "iopub.execute_input": "2021-11-15T08:00:18.266215Z",
     "iopub.status.busy": "2021-11-15T08:00:18.265549Z",
     "iopub.status.idle": "2021-11-15T08:00:18.272086Z",
     "shell.execute_reply": "2021-11-15T08:00:18.272683Z",
     "shell.execute_reply.started": "2021-11-15T07:56:24.844315Z"
    },
    "papermill": {
     "duration": 0.132197,
     "end_time": "2021-11-15T08:00:18.272876",
     "exception": false,
     "start_time": "2021-11-15T08:00:18.140679",
     "status": "completed"
    },
    "tags": []
   },
   "outputs": [
    {
     "data": {
      "text/plain": [
       "array([ 8.95 ,  9.   ,  8.9  ,  8.7  ,  8.5  ,  8.55 ,  9.65 ,  9.6  ,\n",
       "        9.4  ,  9.3  ,  8.6  ,  8.3  ,  8.8  ,  8.475,  8.1  ,  7.7  ,\n",
       "        8.26 ,  7.3  ,  8.96 ,  8.05 , 92.   , 75.3  ,  8.4  ,  8.35 ,\n",
       "        9.55 ,  8.47 ,  8.92 ,  8.13 ,  8.68 ,  8.28 ,  9.11 ,  8.85 ,\n",
       "        8.89 ,  8.54 ,  8.21 ,  9.8  ,  7.9  ,  7.98 ,  7.77 ,  7.89 ,\n",
       "        7.8  ,  7.5  , 75.   ,  7.6  ,  8.65 ,  7.95 ,  8.79 ,  9.1  ,\n",
       "        8.2  ,  9.5  ,  8.67 ,  7.4  ,  7.99 ,  7.38 , 76.   ])"
      ]
     },
     "execution_count": 59,
     "metadata": {},
     "output_type": "execute_result"
    }
   ],
   "source": [
    "df['mob_depth'].unique()"
   ]
  },
  {
   "cell_type": "markdown",
   "id": "f2b53c8d",
   "metadata": {
    "papermill": {
     "duration": 0.125903,
     "end_time": "2021-11-15T08:00:18.529940",
     "exception": false,
     "start_time": "2021-11-15T08:00:18.404037",
     "status": "completed"
    },
    "tags": []
   },
   "source": [
    "**Some values seem to be 92 and 75 which are outliers or out of the general range.\n",
    "Something has gone wrong in this data collection. \n",
    "So check mob height and width too for confirmation.**"
   ]
  },
  {
   "cell_type": "code",
   "execution_count": 60,
   "id": "ab3828fb",
   "metadata": {
    "execution": {
     "iopub.execute_input": "2021-11-15T08:00:18.776184Z",
     "iopub.status.busy": "2021-11-15T08:00:18.775512Z",
     "iopub.status.idle": "2021-11-15T08:00:18.782211Z",
     "shell.execute_reply": "2021-11-15T08:00:18.782794Z",
     "shell.execute_reply.started": "2021-11-15T07:56:24.855117Z"
    },
    "papermill": {
     "duration": 0.130818,
     "end_time": "2021-11-15T08:00:18.782965",
     "exception": false,
     "start_time": "2021-11-15T08:00:18.652147",
     "status": "completed"
    },
    "tags": []
   },
   "outputs": [
    {
     "data": {
      "text/plain": [
       "array([ 75.  ,  75.4 ,  74.2 ,  75.7 ,  74.  ,  75.16,  74.24,  74.8 ,\n",
       "        75.8 ,  73.7 ,  75.6 ,  75.2 ,  75.41,  74.3 ,  76.68,  71.85,\n",
       "        75.21,  75.49,  77.26,  76.4 ,  75.35,  73.6 ,   9.  ,   8.35,\n",
       "        76.  ,  70.1 ,  70.4 ,  71.5 ,  75.58,  76.2 ,  76.77,  75.23,\n",
       "        75.19,  75.09,  76.46,  77.33,  76.47,  75.04,  74.17,  74.71,\n",
       "        74.7 ,  75.08,  77.  ,  75.03,  75.93,  72.8 ,  75.24,  75.74,\n",
       "        72.9 , 159.  ,  75.3 ,  72.1 ,  69.  , 152.4 ,  76.8 ,  76.88,\n",
       "        75.25,  72.85,  82.38,  76.6 ,  75.5 ,  73.3 ,  73.4 ,  76.1 ,\n",
       "        77.2 ,  73.1 ,  77.35,  74.6 , 154.5 ,  73.8 ])"
      ]
     },
     "execution_count": 60,
     "metadata": {},
     "output_type": "execute_result"
    }
   ],
   "source": [
    "df['mob_width'].unique()"
   ]
  },
  {
   "cell_type": "code",
   "execution_count": 61,
   "id": "ccfe9adf",
   "metadata": {
    "execution": {
     "iopub.execute_input": "2021-11-15T08:00:19.023879Z",
     "iopub.status.busy": "2021-11-15T08:00:19.023179Z",
     "iopub.status.idle": "2021-11-15T08:00:19.029500Z",
     "shell.execute_reply": "2021-11-15T08:00:19.030088Z",
     "shell.execute_reply.started": "2021-11-15T07:56:24.872208Z"
    },
    "papermill": {
     "duration": 0.128522,
     "end_time": "2021-11-15T08:00:19.030267",
     "exception": false,
     "start_time": "2021-11-15T08:00:18.901745",
     "status": "completed"
    },
    "tags": []
   },
   "outputs": [
    {
     "data": {
      "text/plain": [
       "array([164.4 , 157.  , 161.  , 156.7 , 158.7 , 158.96, 162.1 , 163.9 ,\n",
       "       154.3 , 163.8 , 156.1 , 156.48, 165.75, 153.48, 159.21, 151.86,\n",
       "       160.73, 157.9 , 162.58, 158.58, 144.  , 175.  , 158.3 , 151.  ,\n",
       "       165.5 , 140.4 , 146.3 , 147.5 , 158.73, 153.  , 159.43, 159.53,\n",
       "       159.25, 155.11, 162.04, 162.39, 162.15, 159.64, 159.01, 157.25,\n",
       "       159.  , 157.91, 162.  , 155.06, 154.81, 161.97, 149.3 , 155.21,\n",
       "       155.87, 149.9 , 154.6 ,   9.  , 163.6 , 143.4 , 162.5 , 136.5 ,\n",
       "       152.4 ,  78.6 , 165.  , 158.  , 158.25, 153.9 , 164.  , 166.38,\n",
       "       156.  , 155.5 , 165.3 , 155.9 , 160.2 , 158.8 , 161.3 , 160.  ,\n",
       "       161.8 , 150.5 , 154.4 , 156.2 , 157.6 , 154.5 ,   7.38, 148.1 ,\n",
       "       153.3 ])"
      ]
     },
     "execution_count": 61,
     "metadata": {},
     "output_type": "execute_result"
    }
   ],
   "source": [
    "df['mob_height'].unique()"
   ]
  },
  {
   "cell_type": "markdown",
   "id": "32d99b26",
   "metadata": {
    "papermill": {
     "duration": 0.117613,
     "end_time": "2021-11-15T08:00:19.267913",
     "exception": false,
     "start_time": "2021-11-15T08:00:19.150300",
     "status": "completed"
    },
    "tags": []
   },
   "source": [
    "**Looks like the mobile dimensions were retrieved from some string and the order of height, weight, depth was not the same everywhere.\n",
    "Sort it to get it right**"
   ]
  },
  {
   "cell_type": "code",
   "execution_count": 62,
   "id": "4707dd32",
   "metadata": {
    "execution": {
     "iopub.execute_input": "2021-11-15T08:00:19.514706Z",
     "iopub.status.busy": "2021-11-15T08:00:19.513988Z",
     "iopub.status.idle": "2021-11-15T08:00:19.571847Z",
     "shell.execute_reply": "2021-11-15T08:00:19.571173Z",
     "shell.execute_reply.started": "2021-11-15T07:56:24.884726Z"
    },
    "papermill": {
     "duration": 0.181059,
     "end_time": "2021-11-15T08:00:19.571995",
     "exception": false,
     "start_time": "2021-11-15T08:00:19.390936",
     "status": "completed"
    },
    "tags": []
   },
   "outputs": [],
   "source": [
    "for rownum, row in df.iterrows():\n",
    "    ordered_dim = sorted([row['mob_depth'],row['mob_width'],row['mob_height']])\n",
    "#     print(row['mob_depth'],row['mob_width'],row['mob_height'])\n",
    "#     print(ordered_dim)\n",
    "    df.at[rownum,'mob_depth_rearr'] = ordered_dim[0]\n",
    "    df.at[rownum,'mob_width_rearr'] = ordered_dim[1]\n",
    "    df.at[rownum,'mob_height_rearr'] = ordered_dim[2]"
   ]
  },
  {
   "cell_type": "code",
   "execution_count": 63,
   "id": "ae1e8ee6",
   "metadata": {
    "execution": {
     "iopub.execute_input": "2021-11-15T08:00:19.814017Z",
     "iopub.status.busy": "2021-11-15T08:00:19.813250Z",
     "iopub.status.idle": "2021-11-15T08:00:19.819457Z",
     "shell.execute_reply": "2021-11-15T08:00:19.820061Z",
     "shell.execute_reply.started": "2021-11-15T07:56:24.948313Z"
    },
    "papermill": {
     "duration": 0.128427,
     "end_time": "2021-11-15T08:00:19.820247",
     "exception": false,
     "start_time": "2021-11-15T08:00:19.691820",
     "status": "completed"
    },
    "tags": []
   },
   "outputs": [
    {
     "data": {
      "text/plain": [
       "array([164.4 , 157.  , 161.  , 156.7 , 158.7 , 158.96, 162.1 , 163.9 ,\n",
       "       154.3 , 163.8 , 156.1 , 156.48, 165.75, 153.48, 159.21, 151.86,\n",
       "       160.73, 157.9 , 162.58, 158.58, 144.  , 175.  , 158.3 , 151.  ,\n",
       "       165.5 , 140.4 , 146.3 , 147.5 , 158.73, 153.  , 159.43, 159.53,\n",
       "       159.25, 155.11, 162.04, 162.39, 162.15, 159.64, 159.01, 157.25,\n",
       "       159.  , 157.91, 162.  , 155.06, 154.81, 161.97, 149.3 , 155.21,\n",
       "       155.87, 149.9 , 154.6 , 163.6 , 143.4 , 162.5 , 136.5 , 152.4 ,\n",
       "       165.  , 158.  , 158.25, 153.9 , 164.  , 166.38, 156.  , 155.5 ,\n",
       "       165.3 , 155.9 , 160.2 , 158.8 , 161.3 , 160.  , 161.8 , 150.5 ,\n",
       "       154.4 , 156.2 , 157.6 , 154.5 , 148.1 , 153.3 ])"
      ]
     },
     "execution_count": 63,
     "metadata": {},
     "output_type": "execute_result"
    }
   ],
   "source": [
    "df['mob_height_rearr'].unique()"
   ]
  },
  {
   "cell_type": "code",
   "execution_count": 64,
   "id": "c2f195b7",
   "metadata": {
    "execution": {
     "iopub.execute_input": "2021-11-15T08:00:20.065550Z",
     "iopub.status.busy": "2021-11-15T08:00:20.061650Z",
     "iopub.status.idle": "2021-11-15T08:00:20.068641Z",
     "shell.execute_reply": "2021-11-15T08:00:20.069194Z",
     "shell.execute_reply.started": "2021-11-15T07:56:24.960550Z"
    },
    "papermill": {
     "duration": 0.12999,
     "end_time": "2021-11-15T08:00:20.069370",
     "exception": false,
     "start_time": "2021-11-15T08:00:19.939380",
     "status": "completed"
    },
    "tags": []
   },
   "outputs": [
    {
     "data": {
      "text/plain": [
       "array([75.  , 75.4 , 74.2 , 75.7 , 74.  , 75.16, 74.24, 74.8 , 75.8 ,\n",
       "       73.7 , 75.6 , 75.2 , 75.41, 74.3 , 76.68, 71.85, 75.21, 75.49,\n",
       "       77.26, 76.4 , 75.35, 73.6 , 92.  , 75.3 , 76.  , 70.1 , 70.4 ,\n",
       "       71.5 , 75.58, 76.2 , 76.77, 75.23, 75.19, 75.09, 76.46, 77.33,\n",
       "       76.47, 75.04, 74.17, 74.71, 74.7 , 75.08, 77.  , 75.03, 75.93,\n",
       "       72.8 , 75.24, 75.74, 72.9 , 72.1 , 69.  , 78.6 , 76.8 , 76.88,\n",
       "       75.25, 72.85, 82.38, 76.6 , 75.5 , 73.3 , 73.4 , 76.1 , 77.2 ,\n",
       "       73.1 , 77.35, 74.6 , 73.8 ])"
      ]
     },
     "execution_count": 64,
     "metadata": {},
     "output_type": "execute_result"
    }
   ],
   "source": [
    "df['mob_width_rearr'].unique()"
   ]
  },
  {
   "cell_type": "code",
   "execution_count": 65,
   "id": "ec3ab4fb",
   "metadata": {
    "execution": {
     "iopub.execute_input": "2021-11-15T08:00:20.311830Z",
     "iopub.status.busy": "2021-11-15T08:00:20.311139Z",
     "iopub.status.idle": "2021-11-15T08:00:20.318395Z",
     "shell.execute_reply": "2021-11-15T08:00:20.317749Z",
     "shell.execute_reply.started": "2021-11-15T07:56:24.973957Z"
    },
    "papermill": {
     "duration": 0.128647,
     "end_time": "2021-11-15T08:00:20.318572",
     "exception": false,
     "start_time": "2021-11-15T08:00:20.189925",
     "status": "completed"
    },
    "tags": []
   },
   "outputs": [
    {
     "data": {
      "text/plain": [
       "array([8.95 , 9.   , 8.9  , 8.7  , 8.5  , 8.55 , 9.65 , 9.6  , 9.4  ,\n",
       "       9.3  , 8.6  , 8.3  , 8.8  , 8.475, 8.1  , 7.7  , 8.26 , 7.3  ,\n",
       "       8.96 , 8.05 , 8.35 , 8.4  , 9.55 , 8.47 , 8.92 , 8.13 , 8.68 ,\n",
       "       8.28 , 9.11 , 8.85 , 8.89 , 8.54 , 8.21 , 9.8  , 7.9  , 7.98 ,\n",
       "       7.77 , 7.89 , 7.8  , 7.5  , 7.6  , 8.65 , 7.95 , 8.79 , 9.1  ,\n",
       "       8.2  , 9.5  , 8.67 , 7.4  , 7.99 , 7.38 ])"
      ]
     },
     "execution_count": 65,
     "metadata": {},
     "output_type": "execute_result"
    }
   ],
   "source": [
    "df['mob_depth_rearr'].unique()"
   ]
  },
  {
   "cell_type": "code",
   "execution_count": 54,
   "id": "e407ef32",
   "metadata": {
    "execution": {
     "iopub.execute_input": "2021-11-15T08:00:20.588718Z",
     "iopub.status.busy": "2021-11-15T08:00:20.569915Z",
     "iopub.status.idle": "2021-11-15T08:00:20.918640Z",
     "shell.execute_reply": "2021-11-15T08:00:20.917979Z",
     "shell.execute_reply.started": "2021-11-15T07:56:24.988436Z"
    },
    "papermill": {
     "duration": 0.47793,
     "end_time": "2021-11-15T08:00:20.918826",
     "exception": false,
     "start_time": "2021-11-15T08:00:20.440896",
     "status": "completed"
    },
    "tags": []
   },
   "outputs": [],
   "source": [
    "#plot_grouped_correlation_with_col(df,'mobile_price')"
   ]
  },
  {
   "cell_type": "code",
   "execution_count": 67,
   "id": "df736414",
   "metadata": {
    "execution": {
     "iopub.execute_input": "2021-11-15T08:00:21.170584Z",
     "iopub.status.busy": "2021-11-15T08:00:21.169890Z",
     "iopub.status.idle": "2021-11-15T08:00:21.174677Z",
     "shell.execute_reply": "2021-11-15T08:00:21.174103Z",
     "shell.execute_reply.started": "2021-11-15T07:56:25.407160Z"
    },
    "papermill": {
     "duration": 0.133384,
     "end_time": "2021-11-15T08:00:21.174826",
     "exception": false,
     "start_time": "2021-11-15T08:00:21.041442",
     "status": "completed"
    },
    "tags": []
   },
   "outputs": [
    {
     "data": {
      "text/plain": [
       "array([195. , 199. , 184. , 174. , 183. , 207. , 191. , 166. , 198. ,\n",
       "       182. , 202. , 175. , 188. , 209. , 173.8, 186. , 185. , 168. ,\n",
       "       181. , 145. , 190. , 165. , 137. , 146. , 180. , 154. , 190.5,\n",
       "       189.6, 186.7, 163.5, 197. , 201. , 193. , 186.5, 176. , 179. ,\n",
       "       201.8, 156. , 148. , 150. , 189.5, 139. , 151. , 160. , 142. ,\n",
       "       143. , 162.8, 187. , 130. , 178. , 170. , 194. , 159. , 155. ,\n",
       "       208. , 172. , 192. , 215. , 189. , 169. , 158. , 153. ])"
      ]
     },
     "execution_count": 67,
     "metadata": {},
     "output_type": "execute_result"
    }
   ],
   "source": [
    "df['mob_weight'].unique()"
   ]
  },
  {
   "cell_type": "code",
   "execution_count": 68,
   "id": "f777702e",
   "metadata": {
    "execution": {
     "iopub.execute_input": "2021-11-15T08:00:21.427602Z",
     "iopub.status.busy": "2021-11-15T08:00:21.426928Z",
     "iopub.status.idle": "2021-11-15T08:00:21.430982Z",
     "shell.execute_reply": "2021-11-15T08:00:21.430417Z",
     "shell.execute_reply.started": "2021-11-15T07:56:25.416647Z"
    },
    "papermill": {
     "duration": 0.133102,
     "end_time": "2021-11-15T08:00:21.431130",
     "exception": false,
     "start_time": "2021-11-15T08:00:21.298028",
     "status": "completed"
    },
    "tags": []
   },
   "outputs": [
    {
     "data": {
      "text/plain": [
       "array(['So White', 'So Blue', 'That Green', 'That White', 'Crystal Green',\n",
       "       'Sparkling Blue', 'Lunar White', 'Neptune Blue', 'Black Sea',\n",
       "       'Pearl Blue', 'Pearl White', 'Rust Red', 'Moss Green',\n",
       "       'Frozen Blue', 'Comet White', 'Lightning Orange', 'Lightning Blue',\n",
       "       'Diamond Black', 'Diamond Blue', 'Diamond Ruby', 'Comet Blue',\n",
       "       'Diamond Sapphire', 'Crystal Red', 'Crystal Blue',\n",
       "       'Crystal Purple', 'Red Brick', 'Concrete', 'Pearl Green',\n",
       "       'That Blue', 'Glacier Blue', 'Arctic White', 'Dynamic Black',\n",
       "       'Diamond Red', 'Radiant Blue', 'Black', 'Sapphire Blue',\n",
       "       'Onyx Black', 'Flame Red', 'Aurora Blue', 'Carbon Black',\n",
       "       'More Than White', 'Space Black', 'Not just Blue', 'Kind of Grey',\n",
       "       'Nebula Red', 'Gold', 'Rose Gold', 'Red', 'Twilight Grey',\n",
       "       'Coral Green', 'Lake Blue', 'Metallic Grey', 'Emerald Green',\n",
       "       'Ruby Red', 'Interstellar Black', 'Sea Blue', 'Midnight Grey',\n",
       "       'Moonlight White', 'Sky White', 'Glacier White',\n",
       "       'Astro Moonlight White', 'Sunset Red', 'Blue/Lake Blue', 'Blue',\n",
       "       'Matte Black', 'Matte Gold', 'Elegant Blue', 'Prime Black', 'Grey',\n",
       "       'Dark Grey', 'Burgundy Red', 'Thunder Black', 'Mineral Blue',\n",
       "       'Fusion Blue', 'Phantom Purple', 'Agate Red', 'Mystic Black',\n",
       "       'Jazzy Blue', 'Dreamy White', 'Fusion Black', 'Ocean Blue',\n",
       "       'Iris Blue', 'Sonic Black', 'Sonic Blue', 'Magnetic Black',\n",
       "       'Mystic Silver', 'Piano Black', 'Glacier ice white',\n",
       "       'Midnight Ocean Black', 'Electric Blue', 'Skyline Blue',\n",
       "       'Topaz Blue', 'Mystic Purple', 'Glacier Ice White',\n",
       "       'Starry Night Black', 'Frozen Black', 'Starry Black',\n",
       "       'Energetic Blue', 'Nebula Purple', 'White', 'Midnight Blue',\n",
       "       'Raven Black', 'Prism Blue', 'Prism Black', 'Metallic gold',\n",
       "       'Violet', 'Ocean Wave', 'Charcoal Blue', 'Forest Green',\n",
       "       'Bordeaux Red', 'Tradew Gray', 'Milan Black', 'Ice Blue',\n",
       "       'Berlin Gray', 'Midnight Black', 'Mocha Brown', 'Aqua Blue',\n",
       "       'Sandstone Black', 'Blush Gold', 'Quetzal Cyan',\n",
       "       'Bronze Gold Black', 'Nebula Blue', 'Twilight Purple',\n",
       "       'Space Gray', 'Steel Blue', 'Graphite Black', 'Armoured Edition',\n",
       "       'Rosso Red', 'Matrix Purple', 'Atlantis Blue', 'Phoenix Red',\n",
       "       'Green and Greener', 'Out of the Blue', 'Two Shades of Black',\n",
       "       'Fantasy White', 'Mystery Black', 'Marine Green', 'Unicorn White',\n",
       "       'Blazing Blue', 'Twilight Black', 'Stream White', 'Deep Blue',\n",
       "       'Flowing Silver', 'Green', 'Space Purple', 'Lightening Black',\n",
       "       'Auroral Blue', 'Ocean Green', 'Luminous Black', 'Champagne',\n",
       "       'Vanilla Mint', 'Sunrise Red', 'Astral Blue', 'Marble Green',\n",
       "       'Glaring Gold', 'Twilight Blue', 'Starry Purple', 'Glaze Blue',\n",
       "       'Purple', 'Waterfall Grey', 'Radiant Mist', 'Fluorite Purple',\n",
       "       'Jewelry White', 'Stellar Purple', 'Jet Black'], dtype=object)"
      ]
     },
     "execution_count": 68,
     "metadata": {},
     "output_type": "execute_result"
    }
   ],
   "source": [
    "df['mobile_color'].unique()"
   ]
  },
  {
   "cell_type": "code",
   "execution_count": 69,
   "id": "b172d991",
   "metadata": {
    "execution": {
     "iopub.execute_input": "2021-11-15T08:00:21.683165Z",
     "iopub.status.busy": "2021-11-15T08:00:21.682447Z",
     "iopub.status.idle": "2021-11-15T08:00:21.685884Z",
     "shell.execute_reply": "2021-11-15T08:00:21.685215Z",
     "shell.execute_reply.started": "2021-11-15T07:56:25.436394Z"
    },
    "papermill": {
     "duration": 0.131001,
     "end_time": "2021-11-15T08:00:21.686030",
     "exception": false,
     "start_time": "2021-11-15T08:00:21.555029",
     "status": "completed"
    },
    "tags": []
   },
   "outputs": [
    {
     "data": {
      "text/plain": [
       "165"
      ]
     },
     "execution_count": 69,
     "metadata": {},
     "output_type": "execute_result"
    }
   ],
   "source": [
    "len(df['mobile_color'].unique())"
   ]
  },
  {
   "cell_type": "code",
   "execution_count": 70,
   "id": "60062da5",
   "metadata": {
    "execution": {
     "iopub.execute_input": "2021-11-15T08:00:21.937225Z",
     "iopub.status.busy": "2021-11-15T08:00:21.936527Z",
     "iopub.status.idle": "2021-11-15T08:00:21.941927Z",
     "shell.execute_reply": "2021-11-15T08:00:21.942469Z",
     "shell.execute_reply.started": "2021-11-15T07:56:25.450722Z"
    },
    "papermill": {
     "duration": 0.135018,
     "end_time": "2021-11-15T08:00:21.942670",
     "exception": false,
     "start_time": "2021-11-15T08:00:21.807652",
     "status": "completed"
    },
    "tags": []
   },
   "outputs": [
    {
     "data": {
      "text/plain": [
       "array(['White', 'Blue', 'Green', 'Sea', 'Red', 'Orange', 'Black', 'Ruby',\n",
       "       'Sapphire', 'Purple', 'Brick', 'Concrete', 'Grey', 'Gold',\n",
       "       'Silver', 'white', 'gold', 'Violet', 'Wave', 'Gray', 'Brown',\n",
       "       'Cyan', 'Edition', 'Greener', 'Champagne', 'Mint', 'Mist'],\n",
       "      dtype=object)"
      ]
     },
     "execution_count": 70,
     "metadata": {},
     "output_type": "execute_result"
    }
   ],
   "source": [
    "df['mobile_color_basic'] = replace_regex(df,'mobile_color',['.* '])\n",
    "df['mobile_color_basic'].unique()"
   ]
  },
  {
   "cell_type": "code",
   "execution_count": 71,
   "id": "efaa97ec",
   "metadata": {
    "execution": {
     "iopub.execute_input": "2021-11-15T08:00:22.199918Z",
     "iopub.status.busy": "2021-11-15T08:00:22.199131Z",
     "iopub.status.idle": "2021-11-15T08:00:22.205538Z",
     "shell.execute_reply": "2021-11-15T08:00:22.204535Z",
     "shell.execute_reply.started": "2021-11-15T07:56:25.465559Z"
    },
    "papermill": {
     "duration": 0.136786,
     "end_time": "2021-11-15T08:00:22.205710",
     "exception": false,
     "start_time": "2021-11-15T08:00:22.068924",
     "status": "completed"
    },
    "tags": []
   },
   "outputs": [],
   "source": [
    "df['mobile_color_basic_cat'] = convert_words_to_num(df,'mobile_color_basic')"
   ]
  },
  {
   "cell_type": "code",
   "execution_count": 55,
   "id": "4905a044",
   "metadata": {
    "execution": {
     "iopub.execute_input": "2021-11-15T08:00:22.462228Z",
     "iopub.status.busy": "2021-11-15T08:00:22.461508Z",
     "iopub.status.idle": "2021-11-15T08:00:22.826855Z",
     "shell.execute_reply": "2021-11-15T08:00:22.825918Z",
     "shell.execute_reply.started": "2021-11-15T07:56:25.479982Z"
    },
    "papermill": {
     "duration": 0.494344,
     "end_time": "2021-11-15T08:00:22.827030",
     "exception": false,
     "start_time": "2021-11-15T08:00:22.332686",
     "status": "completed"
    },
    "tags": []
   },
   "outputs": [],
   "source": [
    "#plot_grouped_correlation_with_col(df,'mobile_price')"
   ]
  },
  {
   "cell_type": "code",
   "execution_count": 73,
   "id": "5b071d1c",
   "metadata": {
    "execution": {
     "iopub.execute_input": "2021-11-15T08:00:23.083660Z",
     "iopub.status.busy": "2021-11-15T08:00:23.082663Z",
     "iopub.status.idle": "2021-11-15T08:00:23.089206Z",
     "shell.execute_reply": "2021-11-15T08:00:23.089823Z",
     "shell.execute_reply.started": "2021-11-15T07:56:25.957841Z"
    },
    "papermill": {
     "duration": 0.136949,
     "end_time": "2021-11-15T08:00:23.090013",
     "exception": false,
     "start_time": "2021-11-15T08:00:22.953064",
     "status": "completed"
    },
    "tags": []
   },
   "outputs": [
    {
     "data": {
      "text/plain": [
       "array([2.   , 2.3  , 2.96 , 1.95 , 2.8  , 2.05 , 2.2  , 2.1  , 2.84 ,\n",
       "       2.5  , 1.8  , 1.4  , 1.5  , 1.3  , 1.6  , 2.39 , 2.6  , 2.649])"
      ]
     },
     "execution_count": 73,
     "metadata": {},
     "output_type": "execute_result"
    }
   ],
   "source": [
    "df['mp_speed'].unique()"
   ]
  },
  {
   "cell_type": "code",
   "execution_count": 74,
   "id": "38e148c4",
   "metadata": {
    "execution": {
     "iopub.execute_input": "2021-11-15T08:00:23.342585Z",
     "iopub.status.busy": "2021-11-15T08:00:23.341577Z",
     "iopub.status.idle": "2021-11-15T08:00:23.347600Z",
     "shell.execute_reply": "2021-11-15T08:00:23.348148Z",
     "shell.execute_reply.started": "2021-11-15T07:56:25.967547Z"
    },
    "papermill": {
     "duration": 0.134346,
     "end_time": "2021-11-15T08:00:23.348317",
     "exception": false,
     "start_time": "2021-11-15T08:00:23.213971",
     "status": "completed"
    },
    "tags": []
   },
   "outputs": [
    {
     "data": {
      "text/plain": [
       "array(['4G VOLTE, 4G, 3G, 2G', '3G, 4G VOLTE, 2G', '3G, 4G VOLTE, 4G, 2G',\n",
       "       '3G, 4G, 2G', '4G, 2G, 3G', '5G, 4G VOLTE, 4G, 3G, 2G',\n",
       "       '4G VOLTE, 3G, 2G', '4G VOLTE, 3G', '4G VOLTE, 4G, 2G, 3G',\n",
       "       '4G VOLTE, 5G', '3G, 4G VOLTE, 4G', '3G', '4G VOLTE',\n",
       "       '3G, 4G VOLTE', '2G', '4G, 3G, 2G', '3G, 4G', '4G VOLTE, 4G'],\n",
       "      dtype=object)"
      ]
     },
     "execution_count": 74,
     "metadata": {},
     "output_type": "execute_result"
    }
   ],
   "source": [
    "df['network'].unique()"
   ]
  },
  {
   "cell_type": "code",
   "execution_count": 75,
   "id": "52659fba",
   "metadata": {
    "execution": {
     "iopub.execute_input": "2021-11-15T08:00:23.606934Z",
     "iopub.status.busy": "2021-11-15T08:00:23.605920Z",
     "iopub.status.idle": "2021-11-15T08:00:23.613646Z",
     "shell.execute_reply": "2021-11-15T08:00:23.614243Z",
     "shell.execute_reply.started": "2021-11-15T07:56:25.982614Z"
    },
    "papermill": {
     "duration": 0.135291,
     "end_time": "2021-11-15T08:00:23.614406",
     "exception": false,
     "start_time": "2021-11-15T08:00:23.479115",
     "status": "completed"
    },
    "tags": []
   },
   "outputs": [
    {
     "data": {
      "text/plain": [
       "array([4, 3, 5, 2, 1])"
      ]
     },
     "execution_count": 75,
     "metadata": {},
     "output_type": "execute_result"
    }
   ],
   "source": [
    "df['network_count'] = [len(x.split(',')) for x in df['network']]\n",
    "df['network_count'].unique()"
   ]
  },
  {
   "cell_type": "code",
   "execution_count": 56,
   "id": "0055307c",
   "metadata": {
    "execution": {
     "iopub.execute_input": "2021-11-15T08:00:23.866350Z",
     "iopub.status.busy": "2021-11-15T08:00:23.865376Z",
     "iopub.status.idle": "2021-11-15T08:00:24.237827Z",
     "shell.execute_reply": "2021-11-15T08:00:24.237115Z",
     "shell.execute_reply.started": "2021-11-15T07:56:25.995669Z"
    },
    "papermill": {
     "duration": 0.499241,
     "end_time": "2021-11-15T08:00:24.237991",
     "exception": false,
     "start_time": "2021-11-15T08:00:23.738750",
     "status": "completed"
    },
    "tags": []
   },
   "outputs": [],
   "source": [
    "#plot_grouped_correlation_with_col(df,'mobile_price')"
   ]
  },
  {
   "cell_type": "code",
   "execution_count": 77,
   "id": "fdfcb700",
   "metadata": {
    "execution": {
     "iopub.execute_input": "2021-11-15T08:00:24.501105Z",
     "iopub.status.busy": "2021-11-15T08:00:24.500290Z",
     "iopub.status.idle": "2021-11-15T08:00:24.701160Z",
     "shell.execute_reply": "2021-11-15T08:00:24.700614Z",
     "shell.execute_reply.started": "2021-11-15T07:56:26.432337Z"
    },
    "papermill": {
     "duration": 0.333105,
     "end_time": "2021-11-15T08:00:24.701302",
     "exception": false,
     "start_time": "2021-11-15T08:00:24.368197",
     "status": "completed"
    },
    "tags": []
   },
   "outputs": [
    {
     "data": {
      "text/plain": [
       "<AxesSubplot:ylabel='Frequency'>"
      ]
     },
     "execution_count": 77,
     "metadata": {},
     "output_type": "execute_result"
    },
    {
     "data": {
      "image/png": "[encoded data removed]",
      "text/plain": [
       "<Figure size 432x288 with 1 Axes>"
      ]
     },
     "metadata": {
      "needs_background": "light"
     },
     "output_type": "display_data"
    }
   ],
   "source": [
    "df['network_count'].plot(kind='hist')"
   ]
  },
  {
   "cell_type": "code",
   "execution_count": 78,
   "id": "b7d26f68",
   "metadata": {
    "execution": {
     "iopub.execute_input": "2021-11-15T08:00:24.961134Z",
     "iopub.status.busy": "2021-11-15T08:00:24.960407Z",
     "iopub.status.idle": "2021-11-15T08:00:24.965895Z",
     "shell.execute_reply": "2021-11-15T08:00:24.966443Z",
     "shell.execute_reply.started": "2021-11-15T07:56:26.679052Z"
    },
    "papermill": {
     "duration": 0.137029,
     "end_time": "2021-11-15T08:00:24.966652",
     "exception": false,
     "start_time": "2021-11-15T08:00:24.829623",
     "status": "completed"
    },
    "tags": []
   },
   "outputs": [
    {
     "data": {
      "text/plain": [
       "array(['Android 10', 'Android Pie 9.0', 'Android Pie 9',\n",
       "       'Android Oreo 8.1', 'Android Pie 10', 'Android Nougat 7.1.1',\n",
       "       'Android Oreo 8.0', 'Android Nougat 7.1.2', 'Android KitKat 4.4.2',\n",
       "       'Android Marshmallow 6.0.1', 'Android Nougat 7.1',\n",
       "       'Android Marshmallow 6', 'Android Nougat 7',\n",
       "       'Android Lollipop 5.4.1', 'Android Oreo 8.1.0', 'Android Oreo 8',\n",
       "       'Android Lollipop 5.1', 'Android Lollipop 5.1.1'], dtype=object)"
      ]
     },
     "execution_count": 78,
     "metadata": {},
     "output_type": "execute_result"
    }
   ],
   "source": [
    "df['os'].unique()"
   ]
  },
  {
   "cell_type": "code",
   "execution_count": 79,
   "id": "f7265b0e",
   "metadata": {
    "execution": {
     "iopub.execute_input": "2021-11-15T08:00:25.226688Z",
     "iopub.status.busy": "2021-11-15T08:00:25.225942Z",
     "iopub.status.idle": "2021-11-15T08:00:25.234048Z",
     "shell.execute_reply": "2021-11-15T08:00:25.234602Z",
     "shell.execute_reply.started": "2021-11-15T07:56:26.689033Z"
    },
    "papermill": {
     "duration": 0.139517,
     "end_time": "2021-11-15T08:00:25.234862",
     "exception": false,
     "start_time": "2021-11-15T08:00:25.095345",
     "status": "completed"
    },
    "tags": []
   },
   "outputs": [],
   "source": [
    "df['os_version'] = replace_regex(df,'os',['[a-zA-z]* '])\n",
    "df['os_version_cat'] = convert_words_to_num(df,'os_version')"
   ]
  },
  {
   "cell_type": "code",
   "execution_count": 80,
   "id": "4b62cd26",
   "metadata": {
    "execution": {
     "iopub.execute_input": "2021-11-15T08:00:25.498351Z",
     "iopub.status.busy": "2021-11-15T08:00:25.497665Z",
     "iopub.status.idle": "2021-11-15T08:00:25.503303Z",
     "shell.execute_reply": "2021-11-15T08:00:25.503878Z",
     "shell.execute_reply.started": "2021-11-15T07:56:26.705328Z"
    },
    "papermill": {
     "duration": 0.139055,
     "end_time": "2021-11-15T08:00:25.504049",
     "exception": false,
     "start_time": "2021-11-15T08:00:25.364994",
     "status": "completed"
    },
    "tags": []
   },
   "outputs": [
    {
     "data": {
      "text/plain": [
       "array(['10', '9.0', '9', '8.1', '7.1.1', '8.0', '7.1.2', '4.4.2', '6.0.1',\n",
       "       '7.1', '6', '7', '5.4.1', '8.1.0', '8', '5.1', '5.1.1'],\n",
       "      dtype=object)"
      ]
     },
     "execution_count": 80,
     "metadata": {},
     "output_type": "execute_result"
    }
   ],
   "source": [
    "df['os_version'].unique()"
   ]
  },
  {
   "cell_type": "code",
   "execution_count": 81,
   "id": "fca0cfef",
   "metadata": {
    "execution": {
     "iopub.execute_input": "2021-11-15T08:00:25.771644Z",
     "iopub.status.busy": "2021-11-15T08:00:25.770935Z",
     "iopub.status.idle": "2021-11-15T08:00:25.779050Z",
     "shell.execute_reply": "2021-11-15T08:00:25.779546Z",
     "shell.execute_reply.started": "2021-11-15T07:56:26.716141Z"
    },
    "papermill": {
     "duration": 0.142606,
     "end_time": "2021-11-15T08:00:25.779725",
     "exception": false,
     "start_time": "2021-11-15T08:00:25.637119",
     "status": "completed"
    },
    "tags": []
   },
   "outputs": [
    {
     "data": {
      "text/plain": [
       "array([10,  9,  8,  7,  4,  6,  5])"
      ]
     },
     "execution_count": 81,
     "metadata": {},
     "output_type": "execute_result"
    }
   ],
   "source": [
    "df['os_version_new'] = replace_regex_numericize(df,'os_version',['\\..*'])\n",
    "df['os_version_new'].unique()"
   ]
  },
  {
   "cell_type": "code",
   "execution_count": 57,
   "id": "00801e63",
   "metadata": {
    "execution": {
     "iopub.execute_input": "2021-11-15T08:00:26.039154Z",
     "iopub.status.busy": "2021-11-15T08:00:26.038451Z",
     "iopub.status.idle": "2021-11-15T08:00:26.429844Z",
     "shell.execute_reply": "2021-11-15T08:00:26.430347Z",
     "shell.execute_reply.started": "2021-11-15T07:56:26.732379Z"
    },
    "papermill": {
     "duration": 0.522266,
     "end_time": "2021-11-15T08:00:26.430549",
     "exception": false,
     "start_time": "2021-11-15T08:00:25.908283",
     "status": "completed"
    },
    "tags": []
   },
   "outputs": [],
   "source": [
    "#plot_grouped_correlation_with_col(df, 'mobile_price')"
   ]
  },
  {
   "cell_type": "code",
   "execution_count": 83,
   "id": "dda4672b",
   "metadata": {
    "execution": {
     "iopub.execute_input": "2021-11-15T08:00:26.698659Z",
     "iopub.status.busy": "2021-11-15T08:00:26.697958Z",
     "iopub.status.idle": "2021-11-15T08:00:26.703260Z",
     "shell.execute_reply": "2021-11-15T08:00:26.703839Z",
     "shell.execute_reply.started": "2021-11-15T07:56:27.189134Z"
    },
    "papermill": {
     "duration": 0.142263,
     "end_time": "2021-11-15T08:00:26.704029",
     "exception": false,
     "start_time": "2021-11-15T08:00:26.561766",
     "status": "completed"
    },
    "tags": []
   },
   "outputs": [
    {
     "data": {
      "text/plain": [
       "array([ 3,  4,  6,  8, 12,  2,  1])"
      ]
     },
     "execution_count": 83,
     "metadata": {},
     "output_type": "execute_result"
    }
   ],
   "source": [
    "df['ram'].unique()"
   ]
  },
  {
   "cell_type": "code",
   "execution_count": 84,
   "id": "8e2d4359",
   "metadata": {
    "execution": {
     "iopub.execute_input": "2021-11-15T08:00:26.978005Z",
     "iopub.status.busy": "2021-11-15T08:00:26.977175Z",
     "iopub.status.idle": "2021-11-15T08:00:26.984353Z",
     "shell.execute_reply": "2021-11-15T08:00:26.983783Z",
     "shell.execute_reply.started": "2021-11-15T07:56:27.200118Z"
    },
    "papermill": {
     "duration": 0.147432,
     "end_time": "2021-11-15T08:00:26.984531",
     "exception": false,
     "start_time": "2021-11-15T08:00:26.837099",
     "status": "completed"
    },
    "tags": []
   },
   "outputs": [
    {
     "data": {
      "text/plain": [
       "array(['1600 x 720 Pixels', '2340 x 1080 pixels', '2400 x 1080 Pixels',\n",
       "       '1080 x 2340 Pixels', '1080 x 2400 Pixels', '720 x 1600 Pixels',\n",
       "       '1560 x 720 pixels', '2400 × 1080 Pixels', '1520 x 720 pixels',\n",
       "       '1520 x 720 Pixels', '2400 x 1080 pixel', '1560 x 720 Pixels',\n",
       "       '2160 x 1080 Pixels', '1440 x 720 pixels', '2280 x 1080 pixels',\n",
       "       '2160 x 1080 pixels', '2340 x 1080 Pixel', '1920 x 1080 Pixels',\n",
       "       '1520 x 720$$Pixels', '1520 x 720$$pixel', '2280 x 1080$$Pixels',\n",
       "       '1920 x 1080 pixels', '2400 x 1080 Pixel', '1280 x 720 pixels',\n",
       "       '2400 x 1080$$pixel', '1280 x 720 Pixels', '720 x 1544 pixels',\n",
       "       '720 x 1544 Pixels', '2340 x 1080 Pixels', '2316 x 1080 pixels',\n",
       "       '2280 x 1080 Pixels', '1440 x 720 Pixels', '1440 x 720 Pixel',\n",
       "       '1520 x 720$$ pixels', '1520 x 720$pixels', '2340 x 1080$$pixel',\n",
       "       '2340 x 1080$$Pixel', '960 x 540 Pixels', '540 x 960 Pixels',\n",
       "       '1080 x 2160 pixels', '1500 x 720 pixels', '720 x 1440 Pixels',\n",
       "       '720*1440 Pixels', '1080 x 1920 Pixels', '720 x 1520 pixels',\n",
       "       '1080 x 2340 pixels', '720 x 1560 pixels', '720 x 1280'],\n",
       "      dtype=object)"
      ]
     },
     "execution_count": 84,
     "metadata": {},
     "output_type": "execute_result"
    }
   ],
   "source": [
    "df['resolution'].unique()"
   ]
  },
  {
   "cell_type": "code",
   "execution_count": 85,
   "id": "1057de0f",
   "metadata": {
    "execution": {
     "iopub.execute_input": "2021-11-15T08:00:27.268731Z",
     "iopub.status.busy": "2021-11-15T08:00:27.267790Z",
     "iopub.status.idle": "2021-11-15T08:00:27.271097Z",
     "shell.execute_reply": "2021-11-15T08:00:27.271615Z",
     "shell.execute_reply.started": "2021-11-15T07:56:27.212527Z"
    },
    "papermill": {
     "duration": 0.15248,
     "end_time": "2021-11-15T08:00:27.271793",
     "exception": false,
     "start_time": "2021-11-15T08:00:27.119313",
     "status": "completed"
    },
    "tags": []
   },
   "outputs": [
    {
     "data": {
      "text/plain": [
       "array(['1600 x 720 ', '2340 x 1080 ', '2400 x 1080 ', '1080 x 2340 ',\n",
       "       '1080 x 2400 ', '720 x 1600 ', '1560 x 720 ', '2400  x  1080 ',\n",
       "       '1520 x 720 ', '2160 x 1080 ', '1440 x 720 ', '2280 x 1080 ',\n",
       "       '1920 x 1080 ', '1520 x 720', '2280 x 1080', '1280 x 720 ',\n",
       "       '2400 x 1080', '720 x 1544 ', '2316 x 1080 ', '2340 x 1080',\n",
       "       '960 x 540 ', '540 x 960 ', '1080 x 2160 ', '1500 x 720 ',\n",
       "       '720 x 1440 ', '1080 x 1920 ', '720 x 1520 ', '720 x 1560 ',\n",
       "       '720 x 1280'], dtype=object)"
      ]
     },
     "execution_count": 85,
     "metadata": {},
     "output_type": "execute_result"
    }
   ],
   "source": [
    "df['res_dim'] = df['resolution'].replace('[pP]ixel.*','',regex=True).replace('\\$','',regex=True).replace('[×*]',' x ',regex=True)\n",
    "df['res_dim'].unique()"
   ]
  },
  {
   "cell_type": "code",
   "execution_count": 86,
   "id": "f7b902ca",
   "metadata": {
    "execution": {
     "iopub.execute_input": "2021-11-15T08:00:27.544826Z",
     "iopub.status.busy": "2021-11-15T08:00:27.543840Z",
     "iopub.status.idle": "2021-11-15T08:00:27.552772Z",
     "shell.execute_reply": "2021-11-15T08:00:27.553343Z",
     "shell.execute_reply.started": "2021-11-15T07:56:27.232041Z"
    },
    "papermill": {
     "duration": 0.146189,
     "end_time": "2021-11-15T08:00:27.553535",
     "exception": false,
     "start_time": "2021-11-15T08:00:27.407346",
     "status": "completed"
    },
    "scrolled": true,
    "tags": []
   },
   "outputs": [
    {
     "data": {
      "text/plain": [
       "0       [1600 ,  720 ]\n",
       "1       [1600 ,  720 ]\n",
       "2       [1600 ,  720 ]\n",
       "3       [1600 ,  720 ]\n",
       "4       [1600 ,  720 ]\n",
       "            ...       \n",
       "454     [1440 ,  720 ]\n",
       "455     [1440 ,  720 ]\n",
       "456    [2280 ,  1080 ]\n",
       "457    [1080 ,  2340 ]\n",
       "458    [1080 ,  2340 ]\n",
       "Name: res_dims, Length: 459, dtype: object"
      ]
     },
     "execution_count": 86,
     "metadata": {},
     "output_type": "execute_result"
    }
   ],
   "source": [
    "df['res_dims'] = [x.rsplit('x') for x in df['res_dim']]\n",
    "df['res_dims']"
   ]
  },
  {
   "cell_type": "code",
   "execution_count": 87,
   "id": "4c47e5e4",
   "metadata": {
    "execution": {
     "iopub.execute_input": "2021-11-15T08:00:27.823432Z",
     "iopub.status.busy": "2021-11-15T08:00:27.822418Z",
     "iopub.status.idle": "2021-11-15T08:00:27.994701Z",
     "shell.execute_reply": "2021-11-15T08:00:27.994044Z",
     "shell.execute_reply.started": "2021-11-15T07:56:27.247964Z"
    },
    "papermill": {
     "duration": 0.307007,
     "end_time": "2021-11-15T08:00:27.994857",
     "exception": false,
     "start_time": "2021-11-15T08:00:27.687850",
     "status": "completed"
    },
    "tags": []
   },
   "outputs": [],
   "source": [
    "temp_df = pd.DataFrame(df['res_dims'].to_list(), columns=['res1','res2'])\n",
    "df['res_dim_1'] = pd.to_numeric(temp_df['res1'])\n",
    "df['res_dim_2'] = pd.to_numeric(temp_df['res2'])\n"
   ]
  },
  {
   "cell_type": "code",
   "execution_count": 88,
   "id": "5a6b68f1",
   "metadata": {
    "execution": {
     "iopub.execute_input": "2021-11-15T08:00:28.262853Z",
     "iopub.status.busy": "2021-11-15T08:00:28.261885Z",
     "iopub.status.idle": "2021-11-15T08:00:28.267910Z",
     "shell.execute_reply": "2021-11-15T08:00:28.268406Z",
     "shell.execute_reply.started": "2021-11-15T07:56:27.261378Z"
    },
    "papermill": {
     "duration": 0.140756,
     "end_time": "2021-11-15T08:00:28.268635",
     "exception": false,
     "start_time": "2021-11-15T08:00:28.127879",
     "status": "completed"
    },
    "tags": []
   },
   "outputs": [
    {
     "data": {
      "text/plain": [
       "array([1600, 2340, 2400, 1080,  720, 1560, 1520, 2160, 1440, 2280, 1920,\n",
       "       1280, 2316,  960,  540, 1500])"
      ]
     },
     "execution_count": 88,
     "metadata": {},
     "output_type": "execute_result"
    }
   ],
   "source": [
    "df['res_dim_1'].unique()"
   ]
  },
  {
   "cell_type": "code",
   "execution_count": 89,
   "id": "110fd1d8",
   "metadata": {
    "execution": {
     "iopub.execute_input": "2021-11-15T08:00:28.539883Z",
     "iopub.status.busy": "2021-11-15T08:00:28.538923Z",
     "iopub.status.idle": "2021-11-15T08:00:28.544825Z",
     "shell.execute_reply": "2021-11-15T08:00:28.545408Z",
     "shell.execute_reply.started": "2021-11-15T07:56:27.272936Z"
    },
    "papermill": {
     "duration": 0.143643,
     "end_time": "2021-11-15T08:00:28.545594",
     "exception": false,
     "start_time": "2021-11-15T08:00:28.401951",
     "status": "completed"
    },
    "tags": []
   },
   "outputs": [
    {
     "data": {
      "text/plain": [
       "array([ 720, 1080, 2340, 2400, 1600, 1544,  540,  960, 2160, 1440, 1920,\n",
       "       1520, 1560, 1280])"
      ]
     },
     "execution_count": 89,
     "metadata": {},
     "output_type": "execute_result"
    }
   ],
   "source": [
    "df['res_dim_2'].unique()"
   ]
  },
  {
   "cell_type": "code",
   "execution_count": 90,
   "id": "7a2258b7",
   "metadata": {
    "execution": {
     "iopub.execute_input": "2021-11-15T08:00:28.812384Z",
     "iopub.status.busy": "2021-11-15T08:00:28.811402Z",
     "iopub.status.idle": "2021-11-15T08:00:28.856923Z",
     "shell.execute_reply": "2021-11-15T08:00:28.857447Z",
     "shell.execute_reply.started": "2021-11-15T07:56:27.288780Z"
    },
    "papermill": {
     "duration": 0.181649,
     "end_time": "2021-11-15T08:00:28.857632",
     "exception": false,
     "start_time": "2021-11-15T08:00:28.675983",
     "status": "completed"
    },
    "tags": []
   },
   "outputs": [],
   "source": [
    "for rownum, row in df.iterrows():\n",
    "    sorted_vals = sorted([row['res_dim_1'],row['res_dim_2']])\n",
    "    df.at[rownum, 'res_dim_1'] = sorted_vals[0]\n",
    "    df.at[rownum, 'res_dim_2'] = sorted_vals[1]"
   ]
  },
  {
   "cell_type": "code",
   "execution_count": 58,
   "id": "2cc4f438",
   "metadata": {
    "execution": {
     "iopub.execute_input": "2021-11-15T08:00:29.125349Z",
     "iopub.status.busy": "2021-11-15T08:00:29.124140Z",
     "iopub.status.idle": "2021-11-15T08:00:29.567061Z",
     "shell.execute_reply": "2021-11-15T08:00:29.567716Z",
     "shell.execute_reply.started": "2021-11-15T07:56:27.342322Z"
    },
    "papermill": {
     "duration": 0.579399,
     "end_time": "2021-11-15T08:00:29.567907",
     "exception": false,
     "start_time": "2021-11-15T08:00:28.988508",
     "status": "completed"
    },
    "tags": []
   },
   "outputs": [],
   "source": [
    "#plot_grouped_correlation_with_col(df,'mobile_price')"
   ]
  },
  {
   "cell_type": "code",
   "execution_count": 92,
   "id": "93cfbb5d",
   "metadata": {
    "execution": {
     "iopub.execute_input": "2021-11-15T08:00:29.840536Z",
     "iopub.status.busy": "2021-11-15T08:00:29.839870Z",
     "iopub.status.idle": "2021-11-15T08:00:29.846461Z",
     "shell.execute_reply": "2021-11-15T08:00:29.847065Z",
     "shell.execute_reply.started": "2021-11-15T07:56:27.809340Z"
    },
    "papermill": {
     "duration": 0.144809,
     "end_time": "2021-11-15T08:00:29.847244",
     "exception": false,
     "start_time": "2021-11-15T08:00:29.702435",
     "status": "completed"
    },
    "tags": []
   },
   "outputs": [
    {
     "data": {
      "text/plain": [
       "array([1152000, 2527200, 2592000, 1123200, 1094400, 2332800, 1036800,\n",
       "       2462400, 2073600,  921600, 1111680, 2501280,  518400, 1080000])"
      ]
     },
     "execution_count": 92,
     "metadata": {},
     "output_type": "execute_result"
    }
   ],
   "source": [
    "df['resolution_new'] = df['res_dim_1']*df['res_dim_2']\n",
    "df['resolution_new'].unique()"
   ]
  },
  {
   "cell_type": "code",
   "execution_count": 93,
   "id": "aa4a521f",
   "metadata": {
    "execution": {
     "iopub.execute_input": "2021-11-15T08:00:30.119555Z",
     "iopub.status.busy": "2021-11-15T08:00:30.118842Z",
     "iopub.status.idle": "2021-11-15T08:00:30.126869Z",
     "shell.execute_reply": "2021-11-15T08:00:30.127401Z",
     "shell.execute_reply.started": "2021-11-15T07:56:27.819942Z"
    },
    "papermill": {
     "duration": 0.146555,
     "end_time": "2021-11-15T08:00:30.127592",
     "exception": false,
     "start_time": "2021-11-15T08:00:29.981037",
     "status": "completed"
    },
    "tags": []
   },
   "outputs": [
    {
     "data": {
      "text/plain": [
       "array([12330.    , 12395.76  , 11649.4   , 12187.7   , 11595.8   ,\n",
       "       11927.892 , 11801.1904, 12125.08  , 12423.62  , 11371.91  ,\n",
       "       12428.64  , 11934.24  , 12416.04  , 11801.16  , 11800.1568,\n",
       "       11642.81  , 12709.71  , 11027.538 , 11974.1841, 11463.9114,\n",
       "       12417.9998, 12063.56  , 11965.98  , 12160.984 , 11949.003 ,\n",
       "       10598.4   ,  1575.    ,  1321.805 , 11476.    , 12690.54  ,\n",
       "        9842.04  , 10299.52  , 10546.25  , 11996.8134, 11658.6   ,\n",
       "       12239.4411, 12001.4419, 11974.0075, 11647.2099, 12389.5784,\n",
       "       12557.6187, 12399.6105, 11979.3856, 11793.7717, 11748.1475,\n",
       "       11877.3   , 11855.8828, 12474.    , 11629.5   , 11615.3943,\n",
       "       12298.3821, 10869.04  , 11678.0004, 11805.5938, 10927.71  ,\n",
       "       11703.22  ,  1431.    , 12319.08  , 11925.    , 10339.14  ,\n",
       "       12285.    ,  9418.5   , 11384.28  , 11978.64  , 12672.    ,\n",
       "       11850.    , 12493.    , 11799.51  , 11908.3125, 11511.72  ,\n",
       "       11146.05  , 12464.    , 13706.3844, 11700.    , 11709.15  ,\n",
       "       12661.98  , 12374.45  , 12368.16  , 11770.45  , 11754.86  ,\n",
       "       11742.66  , 12231.    , 11655.92  , 12274.93  , 12506.4   ,\n",
       "       11888.    , 11627.14  , 12264.44  , 11001.55  , 11951.65  ,\n",
       "       12328.2   , 11942.84  , 11808.72  , 11756.96  , 11746.8   ,\n",
       "       11742.    ,  1140.21  , 10929.78  , 11528.16  ])"
      ]
     },
     "execution_count": 93,
     "metadata": {},
     "output_type": "execute_result"
    }
   ],
   "source": [
    "df['mob_screen_dimension'] = df['mob_width']*df['mob_height']\n",
    "df['mob_screen_dimension'].unique()"
   ]
  },
  {
   "cell_type": "code",
   "execution_count": 94,
   "id": "3a7617dd",
   "metadata": {
    "execution": {
     "iopub.execute_input": "2021-11-15T08:00:30.400082Z",
     "iopub.status.busy": "2021-11-15T08:00:30.399416Z",
     "iopub.status.idle": "2021-11-15T08:00:30.613270Z",
     "shell.execute_reply": "2021-11-15T08:00:30.612708Z",
     "shell.execute_reply.started": "2021-11-15T07:56:27.842980Z"
    },
    "papermill": {
     "duration": 0.352177,
     "end_time": "2021-11-15T08:00:30.613427",
     "exception": false,
     "start_time": "2021-11-15T08:00:30.261250",
     "status": "completed"
    },
    "tags": []
   },
   "outputs": [
    {
     "data": {
      "text/plain": [
       "<AxesSubplot:ylabel='Frequency'>"
      ]
     },
     "execution_count": 94,
     "metadata": {},
     "output_type": "execute_result"
    },
    {
     "data": {
      "image/png": "[encoded data removed]",
      "text/plain": [
       "<Figure size 432x288 with 1 Axes>"
      ]
     },
     "metadata": {
      "needs_background": "light"
     },
     "output_type": "display_data"
    }
   ],
   "source": [
    "\n",
    "df['mob_screen_dimension'].plot(kind='hist')"
   ]
  },
  {
   "cell_type": "markdown",
   "id": "6ff70afc",
   "metadata": {
    "papermill": {
     "duration": 0.135083,
     "end_time": "2021-11-15T08:00:30.883284",
     "exception": false,
     "start_time": "2021-11-15T08:00:30.748201",
     "status": "completed"
    },
    "tags": []
   },
   "source": [
    "**Once data is cleaned and compared to unprocessed data in each column for understanding the impact of processing, we can move relevant columns for final analysis and presentation**"
   ]
  },
  {
   "cell_type": "code",
   "execution_count": 59,
   "id": "6c60b985",
   "metadata": {
    "execution": {
     "iopub.execute_input": "2021-11-15T08:00:31.156097Z",
     "iopub.status.busy": "2021-11-15T08:00:31.155398Z",
     "iopub.status.idle": "2021-11-15T08:00:31.584727Z",
     "shell.execute_reply": "2021-11-15T08:00:31.585251Z",
     "shell.execute_reply.started": "2021-11-15T07:56:28.112528Z"
    },
    "papermill": {
     "duration": 0.568259,
     "end_time": "2021-11-15T08:00:31.585437",
     "exception": false,
     "start_time": "2021-11-15T08:00:31.017178",
     "status": "completed"
    },
    "tags": []
   },
   "outputs": [],
   "source": [
    "#plot_grouped_correlation_with_col(df,'mobile_price')"
   ]
  },
  {
   "cell_type": "markdown",
   "id": "66f20fc2",
   "metadata": {
    "papermill": {
     "duration": 0.136257,
     "end_time": "2021-11-15T08:00:31.859388",
     "exception": false,
     "start_time": "2021-11-15T08:00:31.723131",
     "status": "completed"
    },
    "tags": []
   },
   "source": [
    "# **TODO: Add columns for highest network option, p_cam_max,p_cam_num, f_cam_max,f_cam_num**"
   ]
  },
  {
   "cell_type": "code",
   "execution_count": 96,
   "id": "69658571",
   "metadata": {
    "execution": {
     "iopub.execute_input": "2021-11-15T08:00:32.140578Z",
     "iopub.status.busy": "2021-11-15T08:00:32.139799Z",
     "iopub.status.idle": "2021-11-15T08:00:32.143443Z",
     "shell.execute_reply": "2021-11-15T08:00:32.144336Z",
     "shell.execute_reply.started": "2021-11-15T07:56:28.599923Z"
    },
    "papermill": {
     "duration": 0.150276,
     "end_time": "2021-11-15T08:00:32.144632",
     "exception": false,
     "start_time": "2021-11-15T08:00:31.994356",
     "status": "completed"
    },
    "tags": []
   },
   "outputs": [
    {
     "data": {
      "text/plain": [
       "array(['12MP + 2MP + 2MP', '48MP + 8MP + 2MP + 2MP',\n",
       "       '48MP + 8MP + 2MP + 2MP Quad Camera', '64MP + 13MP + 8MP + 2MP',\n",
       "       '16MP + 2MP', '64MP + 8MP + 2MP + 2MP Quad Camera',\n",
       "       '64MP + 12MP + 8MP + 2MP', '12MP + 2MP', '64MP + 8MP + 2MP + 2MP',\n",
       "       '13MP + 2MP', '64MP + 8MP + 8MP + 2MP', '48MP + 13MP + 8MP',\n",
       "       '48MP + 8MP + 5MP + 2MP', '48MP + 8MP + 2MP', '48MP + 5MP',\n",
       "       '12MP Rear Camera', '12MP + 5MP', '20MP + 12MP',\n",
       "       '108MP Rear Camera', '13MP Rear Camera', '48MP + 8MP',\n",
       "       '64MP + 8MP + 5MP + 2MP', '8MP Rear Camera', '13MP + 2MP + 8MP',\n",
       "       '13MP + 8MP + 2MP', '13MP + 8MP + 2MP + 2MP', '16MP + 2MP + 8MP',\n",
       "       '16MP + 8MP + 2MP', '48MP + 5MP + 8MP',\n",
       "       '48 Million Quad Pixel Sensor (12 Million Effective Pixel) + 8MP + 5MP, AI Triple Rear Camera',\n",
       "       '48MP + 13MP + 8MP + 2MP', '12MP + 5MP + 8MP', '16MP Rear Camera',\n",
       "       '16MP + 5MP', '48MP + 8MP + 5MP', '64MP + 8MP + 5MP + 5MP',\n",
       "       '48MP + 12MP + 5MP', '5MP Rear Camera',\n",
       "       '48 MP + 2 MP + 2 MP + Low Light Sensor',\n",
       "       '13 MP + 2 MP + 2 MP + Low Light Sensor',\n",
       "       '48MP + 2MP + Low Light Sensor', '16MP + 2MP + Low Light Sensor',\n",
       "       '12MP + 13MP', '13MP + 2MP Depth Sensor + 8MP Wide Angle sensor',\n",
       "       '16MP + 5MP + 2MP + Low Light Sensor', '12MP + 8MP + 2MP + 2MP',\n",
       "       '48MP + 8MP + 13MP + 2MP', '16MP + 20MP', '12MP + 20MP'],\n",
       "      dtype=object)"
      ]
     },
     "execution_count": 96,
     "metadata": {},
     "output_type": "execute_result"
    }
   ],
   "source": [
    "df['p_cam'].unique()"
   ]
  },
  {
   "cell_type": "code",
   "execution_count": 97,
   "id": "cb279310",
   "metadata": {
    "execution": {
     "iopub.execute_input": "2021-11-15T08:00:32.426554Z",
     "iopub.status.busy": "2021-11-15T08:00:32.425906Z",
     "iopub.status.idle": "2021-11-15T08:00:32.435600Z",
     "shell.execute_reply": "2021-11-15T08:00:32.436129Z",
     "shell.execute_reply.started": "2021-11-15T07:56:28.610716Z"
    },
    "papermill": {
     "duration": 0.15369,
     "end_time": "2021-11-15T08:00:32.436313",
     "exception": false,
     "start_time": "2021-11-15T08:00:32.282623",
     "status": "completed"
    },
    "tags": []
   },
   "outputs": [
    {
     "data": {
      "text/plain": [
       "array([12, 48, 64, 16, 13, 20, 10,  8,  5])"
      ]
     },
     "execution_count": 97,
     "metadata": {},
     "output_type": "execute_result"
    }
   ],
   "source": [
    "df['p_cam_max'] = [x[0:2].replace('M','') for x in df['p_cam']]\n",
    "df['p_cam_max'] = numericize(df,'p_cam_max')\n",
    "df['p_cam_max'].unique()"
   ]
  },
  {
   "cell_type": "code",
   "execution_count": 98,
   "id": "3bbda664",
   "metadata": {
    "execution": {
     "iopub.execute_input": "2021-11-15T08:00:32.719213Z",
     "iopub.status.busy": "2021-11-15T08:00:32.716109Z",
     "iopub.status.idle": "2021-11-15T08:00:32.723569Z",
     "shell.execute_reply": "2021-11-15T08:00:32.724117Z",
     "shell.execute_reply.started": "2021-11-15T07:56:28.627235Z"
    },
    "papermill": {
     "duration": 0.147577,
     "end_time": "2021-11-15T08:00:32.724291",
     "exception": false,
     "start_time": "2021-11-15T08:00:32.576714",
     "status": "completed"
    },
    "tags": []
   },
   "outputs": [
    {
     "data": {
      "text/plain": [
       "array([3, 4, 2, 1])"
      ]
     },
     "execution_count": 98,
     "metadata": {},
     "output_type": "execute_result"
    }
   ],
   "source": [
    "df['p_cam_count'] = [x.count('MP') for x in df['p_cam']]\n",
    "df['p_cam_count'].unique()"
   ]
  },
  {
   "cell_type": "code",
   "execution_count": 99,
   "id": "268e491f",
   "metadata": {
    "execution": {
     "iopub.execute_input": "2021-11-15T08:00:33.005080Z",
     "iopub.status.busy": "2021-11-15T08:00:33.004400Z",
     "iopub.status.idle": "2021-11-15T08:00:33.009717Z",
     "shell.execute_reply": "2021-11-15T08:00:33.010310Z",
     "shell.execute_reply.started": "2021-11-15T07:56:28.648629Z"
    },
    "papermill": {
     "duration": 0.147615,
     "end_time": "2021-11-15T08:00:33.010504",
     "exception": false,
     "start_time": "2021-11-15T08:00:32.862889",
     "status": "completed"
    },
    "tags": []
   },
   "outputs": [
    {
     "data": {
      "text/plain": [
       "array(['5MP Front Camera', '16MP Front Camera',\n",
       "       '32MP + 8MP Dual Front Camera', '16MP + 8MP Dual Front Camera',\n",
       "       '13MP Front Camera', '32MP Front Camera', '8MP Front Camera',\n",
       "       '20MP Front Camera', '20MP + 2MP Dual Front Camera',\n",
       "       '2MP Front Camera', '8MP Dual Front Camera', '25MP Front Camera',\n",
       "       '24MP Front Camera', '13MP + 2MP Dual Front Camera',\n",
       "       '44MP + 2MP Dual Front Camera'], dtype=object)"
      ]
     },
     "execution_count": 99,
     "metadata": {},
     "output_type": "execute_result"
    }
   ],
   "source": [
    "df['f_cam'].unique()"
   ]
  },
  {
   "cell_type": "code",
   "execution_count": 100,
   "id": "6fb870ba",
   "metadata": {
    "execution": {
     "iopub.execute_input": "2021-11-15T08:00:33.299170Z",
     "iopub.status.busy": "2021-11-15T08:00:33.298422Z",
     "iopub.status.idle": "2021-11-15T08:00:33.306253Z",
     "shell.execute_reply": "2021-11-15T08:00:33.305731Z",
     "shell.execute_reply.started": "2021-11-15T07:56:28.664304Z"
    },
    "papermill": {
     "duration": 0.150793,
     "end_time": "2021-11-15T08:00:33.306395",
     "exception": false,
     "start_time": "2021-11-15T08:00:33.155602",
     "status": "completed"
    },
    "tags": []
   },
   "outputs": [
    {
     "data": {
      "text/plain": [
       "array(['5', '16', '32', '13', '8', '20', '2', '25', '24', '44'],\n",
       "      dtype=object)"
      ]
     },
     "execution_count": 100,
     "metadata": {},
     "output_type": "execute_result"
    }
   ],
   "source": [
    "df['f_cam_max'] = [x[0:2].replace('M','') for x in df['f_cam']]\n",
    "df['f_cam_max'].unique()"
   ]
  },
  {
   "cell_type": "code",
   "execution_count": 101,
   "id": "8085d0d0",
   "metadata": {
    "execution": {
     "iopub.execute_input": "2021-11-15T08:00:33.585614Z",
     "iopub.status.busy": "2021-11-15T08:00:33.584939Z",
     "iopub.status.idle": "2021-11-15T08:00:33.592402Z",
     "shell.execute_reply": "2021-11-15T08:00:33.592986Z",
     "shell.execute_reply.started": "2021-11-15T07:56:28.677168Z"
    },
    "papermill": {
     "duration": 0.149202,
     "end_time": "2021-11-15T08:00:33.593165",
     "exception": false,
     "start_time": "2021-11-15T08:00:33.443963",
     "status": "completed"
    },
    "tags": []
   },
   "outputs": [
    {
     "data": {
      "text/plain": [
       "array([ 5, 16, 32, 13,  8, 20,  2, 25, 24, 44])"
      ]
     },
     "execution_count": 101,
     "metadata": {},
     "output_type": "execute_result"
    }
   ],
   "source": [
    "df['f_cam_max'] = numericize(df,'f_cam_max')\n",
    "df['f_cam_max'].unique()"
   ]
  },
  {
   "cell_type": "code",
   "execution_count": 102,
   "id": "6860f72e",
   "metadata": {
    "execution": {
     "iopub.execute_input": "2021-11-15T08:00:33.872058Z",
     "iopub.status.busy": "2021-11-15T08:00:33.871388Z",
     "iopub.status.idle": "2021-11-15T08:00:33.877986Z",
     "shell.execute_reply": "2021-11-15T08:00:33.878435Z",
     "shell.execute_reply.started": "2021-11-15T07:56:28.692316Z"
    },
    "papermill": {
     "duration": 0.147526,
     "end_time": "2021-11-15T08:00:33.878654",
     "exception": false,
     "start_time": "2021-11-15T08:00:33.731128",
     "status": "completed"
    },
    "tags": []
   },
   "outputs": [
    {
     "data": {
      "text/plain": [
       "array([1, 2])"
      ]
     },
     "execution_count": 102,
     "metadata": {},
     "output_type": "execute_result"
    }
   ],
   "source": [
    "df['f_cam_count'] = [x.count('MP') for x in df['f_cam']]\n",
    "df['f_cam_count'].unique()"
   ]
  },
  {
   "cell_type": "code",
   "execution_count": 103,
   "id": "63bf1a25",
   "metadata": {
    "execution": {
     "iopub.execute_input": "2021-11-15T08:00:34.158433Z",
     "iopub.status.busy": "2021-11-15T08:00:34.157760Z",
     "iopub.status.idle": "2021-11-15T08:00:34.162894Z",
     "shell.execute_reply": "2021-11-15T08:00:34.163382Z",
     "shell.execute_reply.started": "2021-11-15T07:56:28.706390Z"
    },
    "papermill": {
     "duration": 0.146665,
     "end_time": "2021-11-15T08:00:34.163567",
     "exception": false,
     "start_time": "2021-11-15T08:00:34.016902",
     "status": "completed"
    },
    "tags": []
   },
   "outputs": [
    {
     "data": {
      "text/plain": [
       "True"
      ]
     },
     "execution_count": 103,
     "metadata": {},
     "output_type": "execute_result"
    }
   ],
   "source": [
    "df['f_cam_max'].equals(df['f_cam_ord'])"
   ]
  },
  {
   "cell_type": "code",
   "execution_count": 104,
   "id": "b17cda50",
   "metadata": {
    "execution": {
     "iopub.execute_input": "2021-11-15T08:00:34.455619Z",
     "iopub.status.busy": "2021-11-15T08:00:34.453720Z",
     "iopub.status.idle": "2021-11-15T08:00:34.457155Z",
     "shell.execute_reply": "2021-11-15T08:00:34.457746Z",
     "shell.execute_reply.started": "2021-11-15T07:56:28.714577Z"
    },
    "papermill": {
     "duration": 0.154149,
     "end_time": "2021-11-15T08:00:34.457920",
     "exception": false,
     "start_time": "2021-11-15T08:00:34.303771",
     "status": "completed"
    },
    "tags": []
   },
   "outputs": [],
   "source": [
    "df.drop('f_cam_ord',axis=1, inplace=True)"
   ]
  },
  {
   "cell_type": "code",
   "execution_count": 60,
   "id": "5f010147",
   "metadata": {
    "execution": {
     "iopub.execute_input": "2021-11-15T08:00:34.745031Z",
     "iopub.status.busy": "2021-11-15T08:00:34.744170Z",
     "iopub.status.idle": "2021-11-15T08:00:35.193948Z",
     "shell.execute_reply": "2021-11-15T08:00:35.193257Z",
     "shell.execute_reply.started": "2021-11-15T07:56:28.732298Z"
    },
    "papermill": {
     "duration": 0.591483,
     "end_time": "2021-11-15T08:00:35.194094",
     "exception": false,
     "start_time": "2021-11-15T08:00:34.602611",
     "status": "completed"
    },
    "tags": []
   },
   "outputs": [],
   "source": [
    "#plot_grouped_correlation_with_col(df,'mobile_price')"
   ]
  },
  {
   "cell_type": "code",
   "execution_count": 106,
   "id": "cc28be74",
   "metadata": {
    "execution": {
     "iopub.execute_input": "2021-11-15T08:00:35.478357Z",
     "iopub.status.busy": "2021-11-15T08:00:35.477591Z",
     "iopub.status.idle": "2021-11-15T08:00:35.483745Z",
     "shell.execute_reply": "2021-11-15T08:00:35.484302Z",
     "shell.execute_reply.started": "2021-11-15T07:57:22.062487Z"
    },
    "papermill": {
     "duration": 0.14947,
     "end_time": "2021-11-15T08:00:35.484500",
     "exception": false,
     "start_time": "2021-11-15T08:00:35.335030",
     "status": "completed"
    },
    "tags": []
   },
   "outputs": [],
   "source": [
    "final_df = df[['battery_power','disp_size','dual_sim_ord','f_cam_max','f_cam_count','p_cam_max','p_cam_count','int_memory','mob_depth_rearr','mob_height_rearr','mob_width_rearr','mob_weight', 'mobile_color_basic_cat','mobile_name_brand_short_new','mp_speed','network_count','num_cores_ord','os_version_new','ram','res_dim_1','res_dim_2','mobile_price']]"
   ]
  },
  {
   "cell_type": "code",
   "execution_count": null,
   "id": "301c1fb7",
   "metadata": {
    "execution": {
     "iopub.execute_input": "2021-11-08T16:03:05.757385Z",
     "iopub.status.busy": "2021-11-08T16:03:05.757095Z",
     "iopub.status.idle": "2021-11-08T16:03:05.763861Z",
     "shell.execute_reply": "2021-11-08T16:03:05.762906Z",
     "shell.execute_reply.started": "2021-11-08T16:03:05.757347Z"
    },
    "papermill": {
     "duration": 0.138754,
     "end_time": "2021-11-15T08:00:35.764277",
     "exception": false,
     "start_time": "2021-11-15T08:00:35.625523",
     "status": "completed"
    },
    "tags": []
   },
   "outputs": [],
   "source": []
  },
  {
   "cell_type": "code",
   "execution_count": 107,
   "id": "e6c11f27",
   "metadata": {
    "execution": {
     "iopub.execute_input": "2021-11-15T08:00:36.049514Z",
     "iopub.status.busy": "2021-11-15T08:00:36.048824Z",
     "iopub.status.idle": "2021-11-15T08:00:36.053257Z",
     "shell.execute_reply": "2021-11-15T08:00:36.053836Z",
     "shell.execute_reply.started": "2021-11-15T07:58:14.346423Z"
    },
    "papermill": {
     "duration": 0.150693,
     "end_time": "2021-11-15T08:00:36.054019",
     "exception": false,
     "start_time": "2021-11-15T08:00:35.903326",
     "status": "completed"
    },
    "tags": []
   },
   "outputs": [],
   "source": [
    "cols=['Battery Power','Display Size','Sim count','Front camera max MP','Front camera count','Primary camera max MP','Primary camera count','Internal Memory','Mobile Depth','Mobile Height','Mobile Width','Mobile Weight', 'Mobile Color','Mobile Brand','Processor Speed','Networks','Core','OS','Ram','Resolution x','Resolution y','Mobile Price']"
   ]
  },
  {
   "cell_type": "code",
   "execution_count": 108,
   "id": "2c4c91d7",
   "metadata": {
    "execution": {
     "iopub.execute_input": "2021-11-15T08:00:36.339717Z",
     "iopub.status.busy": "2021-11-15T08:00:36.338942Z",
     "iopub.status.idle": "2021-11-15T08:00:36.343257Z",
     "shell.execute_reply": "2021-11-15T08:00:36.343796Z",
     "shell.execute_reply.started": "2021-11-15T07:58:38.773111Z"
    },
    "papermill": {
     "duration": 0.150338,
     "end_time": "2021-11-15T08:00:36.343993",
     "exception": false,
     "start_time": "2021-11-15T08:00:36.193655",
     "status": "completed"
    },
    "tags": []
   },
   "outputs": [],
   "source": [
    "old_cols = ['battery_power','disp_size','dual_sim_ord','f_cam_max','f_cam_count','p_cam_max','p_cam_count','int_memory','mob_depth_rearr','mob_height_rearr','mob_width_rearr','mob_weight', 'mobile_color_basic_cat','mobile_name_brand_short_new','mp_speed','network_count','num_cores_ord','os_version_new','ram','res_dim_1','res_dim_2','mobile_price']"
   ]
  },
  {
   "cell_type": "code",
   "execution_count": 109,
   "id": "e7171c16",
   "metadata": {
    "execution": {
     "iopub.execute_input": "2021-11-15T08:00:36.627562Z",
     "iopub.status.busy": "2021-11-15T08:00:36.626863Z",
     "iopub.status.idle": "2021-11-15T08:00:36.630376Z",
     "shell.execute_reply": "2021-11-15T08:00:36.630931Z",
     "shell.execute_reply.started": "2021-11-15T07:58:39.592345Z"
    },
    "papermill": {
     "duration": 0.148255,
     "end_time": "2021-11-15T08:00:36.631113",
     "exception": false,
     "start_time": "2021-11-15T08:00:36.482858",
     "status": "completed"
    },
    "tags": []
   },
   "outputs": [],
   "source": [
    "col_mapping = dict(zip(old_cols,cols))"
   ]
  },
  {
   "cell_type": "code",
   "execution_count": 110,
   "id": "60b4dfc0",
   "metadata": {
    "execution": {
     "iopub.execute_input": "2021-11-15T08:00:36.967501Z",
     "iopub.status.busy": "2021-11-15T08:00:36.966796Z",
     "iopub.status.idle": "2021-11-15T08:00:36.993318Z",
     "shell.execute_reply": "2021-11-15T08:00:36.993839Z",
     "shell.execute_reply.started": "2021-11-15T07:58:40.304008Z"
    },
    "papermill": {
     "duration": 0.223588,
     "end_time": "2021-11-15T08:00:36.994014",
     "exception": false,
     "start_time": "2021-11-15T08:00:36.770426",
     "status": "completed"
    },
    "tags": []
   },
   "outputs": [
    {
     "data": {
      "text/html": [
       "<div>\n",
       "<style scoped>\n",
       "    .dataframe tbody tr th:only-of-type {\n",
       "        vertical-align: middle;\n",
       "    }\n",
       "\n",
       "    .dataframe tbody tr th {\n",
       "        vertical-align: top;\n",
       "    }\n",
       "\n",
       "    .dataframe thead th {\n",
       "        text-align: right;\n",
       "    }\n",
       "</style>\n",
       "<table border=\"1\" class=\"dataframe\">\n",
       "  <thead>\n",
       "    <tr style=\"text-align: right;\">\n",
       "      <th></th>\n",
       "      <th>Battery Power</th>\n",
       "      <th>Display Size</th>\n",
       "      <th>Sim count</th>\n",
       "      <th>Front camera max MP</th>\n",
       "      <th>Front camera count</th>\n",
       "      <th>Primary camera max MP</th>\n",
       "      <th>Primary camera count</th>\n",
       "      <th>Internal Memory</th>\n",
       "      <th>Mobile Depth</th>\n",
       "      <th>Mobile Height</th>\n",
       "      <th>...</th>\n",
       "      <th>Mobile Color</th>\n",
       "      <th>Mobile Brand</th>\n",
       "      <th>Processor Speed</th>\n",
       "      <th>Networks</th>\n",
       "      <th>Core</th>\n",
       "      <th>OS</th>\n",
       "      <th>Ram</th>\n",
       "      <th>Resolution x</th>\n",
       "      <th>Resolution y</th>\n",
       "      <th>Mobile Price</th>\n",
       "    </tr>\n",
       "  </thead>\n",
       "  <tbody>\n",
       "    <tr>\n",
       "      <th>0</th>\n",
       "      <td>5000</td>\n",
       "      <td>16.56</td>\n",
       "      <td>2</td>\n",
       "      <td>5</td>\n",
       "      <td>1</td>\n",
       "      <td>12</td>\n",
       "      <td>3</td>\n",
       "      <td>32</td>\n",
       "      <td>8.95</td>\n",
       "      <td>164.4</td>\n",
       "      <td>...</td>\n",
       "      <td>24</td>\n",
       "      <td>58</td>\n",
       "      <td>2.0</td>\n",
       "      <td>4</td>\n",
       "      <td>8</td>\n",
       "      <td>10</td>\n",
       "      <td>3</td>\n",
       "      <td>720</td>\n",
       "      <td>1600</td>\n",
       "      <td>8999</td>\n",
       "    </tr>\n",
       "    <tr>\n",
       "      <th>1</th>\n",
       "      <td>5000</td>\n",
       "      <td>16.56</td>\n",
       "      <td>2</td>\n",
       "      <td>5</td>\n",
       "      <td>1</td>\n",
       "      <td>12</td>\n",
       "      <td>3</td>\n",
       "      <td>32</td>\n",
       "      <td>8.95</td>\n",
       "      <td>164.4</td>\n",
       "      <td>...</td>\n",
       "      <td>1</td>\n",
       "      <td>58</td>\n",
       "      <td>2.0</td>\n",
       "      <td>4</td>\n",
       "      <td>8</td>\n",
       "      <td>10</td>\n",
       "      <td>3</td>\n",
       "      <td>720</td>\n",
       "      <td>1600</td>\n",
       "      <td>8999</td>\n",
       "    </tr>\n",
       "    <tr>\n",
       "      <th>2</th>\n",
       "      <td>5000</td>\n",
       "      <td>16.56</td>\n",
       "      <td>2</td>\n",
       "      <td>5</td>\n",
       "      <td>1</td>\n",
       "      <td>12</td>\n",
       "      <td>3</td>\n",
       "      <td>64</td>\n",
       "      <td>8.95</td>\n",
       "      <td>164.4</td>\n",
       "      <td>...</td>\n",
       "      <td>1</td>\n",
       "      <td>58</td>\n",
       "      <td>2.0</td>\n",
       "      <td>4</td>\n",
       "      <td>8</td>\n",
       "      <td>10</td>\n",
       "      <td>4</td>\n",
       "      <td>720</td>\n",
       "      <td>1600</td>\n",
       "      <td>9999</td>\n",
       "    </tr>\n",
       "    <tr>\n",
       "      <th>3</th>\n",
       "      <td>5000</td>\n",
       "      <td>16.56</td>\n",
       "      <td>2</td>\n",
       "      <td>5</td>\n",
       "      <td>1</td>\n",
       "      <td>12</td>\n",
       "      <td>3</td>\n",
       "      <td>64</td>\n",
       "      <td>8.95</td>\n",
       "      <td>164.4</td>\n",
       "      <td>...</td>\n",
       "      <td>24</td>\n",
       "      <td>58</td>\n",
       "      <td>2.0</td>\n",
       "      <td>4</td>\n",
       "      <td>8</td>\n",
       "      <td>10</td>\n",
       "      <td>4</td>\n",
       "      <td>720</td>\n",
       "      <td>1600</td>\n",
       "      <td>9999</td>\n",
       "    </tr>\n",
       "    <tr>\n",
       "      <th>4</th>\n",
       "      <td>5000</td>\n",
       "      <td>16.51</td>\n",
       "      <td>2</td>\n",
       "      <td>16</td>\n",
       "      <td>1</td>\n",
       "      <td>48</td>\n",
       "      <td>4</td>\n",
       "      <td>128</td>\n",
       "      <td>9.00</td>\n",
       "      <td>164.4</td>\n",
       "      <td>...</td>\n",
       "      <td>10</td>\n",
       "      <td>57</td>\n",
       "      <td>2.0</td>\n",
       "      <td>4</td>\n",
       "      <td>8</td>\n",
       "      <td>10</td>\n",
       "      <td>4</td>\n",
       "      <td>720</td>\n",
       "      <td>1600</td>\n",
       "      <td>11999</td>\n",
       "    </tr>\n",
       "    <tr>\n",
       "      <th>...</th>\n",
       "      <td>...</td>\n",
       "      <td>...</td>\n",
       "      <td>...</td>\n",
       "      <td>...</td>\n",
       "      <td>...</td>\n",
       "      <td>...</td>\n",
       "      <td>...</td>\n",
       "      <td>...</td>\n",
       "      <td>...</td>\n",
       "      <td>...</td>\n",
       "      <td>...</td>\n",
       "      <td>...</td>\n",
       "      <td>...</td>\n",
       "      <td>...</td>\n",
       "      <td>...</td>\n",
       "      <td>...</td>\n",
       "      <td>...</td>\n",
       "      <td>...</td>\n",
       "      <td>...</td>\n",
       "      <td>...</td>\n",
       "      <td>...</td>\n",
       "    </tr>\n",
       "    <tr>\n",
       "      <th>454</th>\n",
       "      <td>3180</td>\n",
       "      <td>14.48</td>\n",
       "      <td>2</td>\n",
       "      <td>8</td>\n",
       "      <td>1</td>\n",
       "      <td>13</td>\n",
       "      <td>1</td>\n",
       "      <td>32</td>\n",
       "      <td>7.70</td>\n",
       "      <td>150.5</td>\n",
       "      <td>...</td>\n",
       "      <td>0</td>\n",
       "      <td>28</td>\n",
       "      <td>2.5</td>\n",
       "      <td>3</td>\n",
       "      <td>8</td>\n",
       "      <td>7</td>\n",
       "      <td>3</td>\n",
       "      <td>720</td>\n",
       "      <td>1440</td>\n",
       "      <td>13490</td>\n",
       "    </tr>\n",
       "    <tr>\n",
       "      <th>455</th>\n",
       "      <td>3180</td>\n",
       "      <td>14.48</td>\n",
       "      <td>2</td>\n",
       "      <td>8</td>\n",
       "      <td>1</td>\n",
       "      <td>13</td>\n",
       "      <td>1</td>\n",
       "      <td>16</td>\n",
       "      <td>7.70</td>\n",
       "      <td>150.5</td>\n",
       "      <td>...</td>\n",
       "      <td>17</td>\n",
       "      <td>28</td>\n",
       "      <td>2.5</td>\n",
       "      <td>4</td>\n",
       "      <td>8</td>\n",
       "      <td>7</td>\n",
       "      <td>2</td>\n",
       "      <td>720</td>\n",
       "      <td>1440</td>\n",
       "      <td>9490</td>\n",
       "    </tr>\n",
       "    <tr>\n",
       "      <th>456</th>\n",
       "      <td>3400</td>\n",
       "      <td>15.82</td>\n",
       "      <td>2</td>\n",
       "      <td>25</td>\n",
       "      <td>1</td>\n",
       "      <td>16</td>\n",
       "      <td>1</td>\n",
       "      <td>64</td>\n",
       "      <td>7.80</td>\n",
       "      <td>156.0</td>\n",
       "      <td>...</td>\n",
       "      <td>17</td>\n",
       "      <td>35</td>\n",
       "      <td>2.0</td>\n",
       "      <td>3</td>\n",
       "      <td>8</td>\n",
       "      <td>8</td>\n",
       "      <td>4</td>\n",
       "      <td>1080</td>\n",
       "      <td>2280</td>\n",
       "      <td>22990</td>\n",
       "    </tr>\n",
       "    <tr>\n",
       "      <th>457</th>\n",
       "      <td>4020</td>\n",
       "      <td>16.59</td>\n",
       "      <td>2</td>\n",
       "      <td>16</td>\n",
       "      <td>1</td>\n",
       "      <td>48</td>\n",
       "      <td>2</td>\n",
       "      <td>128</td>\n",
       "      <td>8.30</td>\n",
       "      <td>162.0</td>\n",
       "      <td>...</td>\n",
       "      <td>10</td>\n",
       "      <td>30</td>\n",
       "      <td>2.1</td>\n",
       "      <td>4</td>\n",
       "      <td>8</td>\n",
       "      <td>9</td>\n",
       "      <td>4</td>\n",
       "      <td>1080</td>\n",
       "      <td>2340</td>\n",
       "      <td>13990</td>\n",
       "    </tr>\n",
       "    <tr>\n",
       "      <th>458</th>\n",
       "      <td>4020</td>\n",
       "      <td>16.59</td>\n",
       "      <td>2</td>\n",
       "      <td>16</td>\n",
       "      <td>1</td>\n",
       "      <td>48</td>\n",
       "      <td>2</td>\n",
       "      <td>128</td>\n",
       "      <td>8.30</td>\n",
       "      <td>162.0</td>\n",
       "      <td>...</td>\n",
       "      <td>16</td>\n",
       "      <td>30</td>\n",
       "      <td>2.1</td>\n",
       "      <td>4</td>\n",
       "      <td>8</td>\n",
       "      <td>9</td>\n",
       "      <td>4</td>\n",
       "      <td>1080</td>\n",
       "      <td>2340</td>\n",
       "      <td>13990</td>\n",
       "    </tr>\n",
       "  </tbody>\n",
       "</table>\n",
       "<p>459 rows × 22 columns</p>\n",
       "</div>"
      ],
      "text/plain": [
       "     Battery Power  Display Size  Sim count  Front camera max MP  \\\n",
       "0             5000         16.56          2                    5   \n",
       "1             5000         16.56          2                    5   \n",
       "2             5000         16.56          2                    5   \n",
       "3             5000         16.56          2                    5   \n",
       "4             5000         16.51          2                   16   \n",
       "..             ...           ...        ...                  ...   \n",
       "454           3180         14.48          2                    8   \n",
       "455           3180         14.48          2                    8   \n",
       "456           3400         15.82          2                   25   \n",
       "457           4020         16.59          2                   16   \n",
       "458           4020         16.59          2                   16   \n",
       "\n",
       "     Front camera count  Primary camera max MP  Primary camera count  \\\n",
       "0                     1                     12                     3   \n",
       "1                     1                     12                     3   \n",
       "2                     1                     12                     3   \n",
       "3                     1                     12                     3   \n",
       "4                     1                     48                     4   \n",
       "..                  ...                    ...                   ...   \n",
       "454                   1                     13                     1   \n",
       "455                   1                     13                     1   \n",
       "456                   1                     16                     1   \n",
       "457                   1                     48                     2   \n",
       "458                   1                     48                     2   \n",
       "\n",
       "     Internal Memory  Mobile Depth  Mobile Height  ...  Mobile Color  \\\n",
       "0                 32          8.95          164.4  ...            24   \n",
       "1                 32          8.95          164.4  ...             1   \n",
       "2                 64          8.95          164.4  ...             1   \n",
       "3                 64          8.95          164.4  ...            24   \n",
       "4                128          9.00          164.4  ...            10   \n",
       "..               ...           ...            ...  ...           ...   \n",
       "454               32          7.70          150.5  ...             0   \n",
       "455               16          7.70          150.5  ...            17   \n",
       "456               64          7.80          156.0  ...            17   \n",
       "457              128          8.30          162.0  ...            10   \n",
       "458              128          8.30          162.0  ...            16   \n",
       "\n",
       "     Mobile Brand  Processor Speed  Networks  Core  OS  Ram  Resolution x  \\\n",
       "0              58              2.0         4     8  10    3           720   \n",
       "1              58              2.0         4     8  10    3           720   \n",
       "2              58              2.0         4     8  10    4           720   \n",
       "3              58              2.0         4     8  10    4           720   \n",
       "4              57              2.0         4     8  10    4           720   \n",
       "..            ...              ...       ...   ...  ..  ...           ...   \n",
       "454            28              2.5         3     8   7    3           720   \n",
       "455            28              2.5         4     8   7    2           720   \n",
       "456            35              2.0         3     8   8    4          1080   \n",
       "457            30              2.1         4     8   9    4          1080   \n",
       "458            30              2.1         4     8   9    4          1080   \n",
       "\n",
       "     Resolution y  Mobile Price  \n",
       "0            1600          8999  \n",
       "1            1600          8999  \n",
       "2            1600          9999  \n",
       "3            1600          9999  \n",
       "4            1600         11999  \n",
       "..            ...           ...  \n",
       "454          1440         13490  \n",
       "455          1440          9490  \n",
       "456          2280         22990  \n",
       "457          2340         13990  \n",
       "458          2340         13990  \n",
       "\n",
       "[459 rows x 22 columns]"
      ]
     },
     "execution_count": 110,
     "metadata": {},
     "output_type": "execute_result"
    }
   ],
   "source": [
    "final_df = final_df.rename(columns=col_mapping)\n",
    "final_df"
   ]
  },
  {
   "cell_type": "code",
   "execution_count": 111,
   "id": "25017096",
   "metadata": {
    "execution": {
     "iopub.execute_input": "2021-11-15T08:00:37.282183Z",
     "iopub.status.busy": "2021-11-15T08:00:37.281461Z",
     "iopub.status.idle": "2021-11-15T08:00:37.595018Z",
     "shell.execute_reply": "2021-11-15T08:00:37.595610Z",
     "shell.execute_reply.started": "2021-11-15T07:58:44.649779Z"
    },
    "papermill": {
     "duration": 0.457167,
     "end_time": "2021-11-15T08:00:37.595803",
     "exception": false,
     "start_time": "2021-11-15T08:00:37.138636",
     "status": "completed"
    },
    "tags": []
   },
   "outputs": [
    {
     "data": {
      "image/png": "[encoded data removed]",
      "text/plain": [
       "<Figure size 720x360 with 1 Axes>"
      ]
     },
     "metadata": {
      "needs_background": "light"
     },
     "output_type": "display_data"
    }
   ],
   "source": [
    "plot_correlation_with_col(final_df,'Mobile Price')"
   ]
  },
  {
   "cell_type": "code",
   "execution_count": 112,
   "id": "22d2d5a1",
   "metadata": {
    "execution": {
     "iopub.execute_input": "2021-11-15T08:00:37.886029Z",
     "iopub.status.busy": "2021-11-15T08:00:37.885355Z",
     "iopub.status.idle": "2021-11-15T08:00:38.650755Z",
     "shell.execute_reply": "2021-11-15T08:00:38.650046Z",
     "shell.execute_reply.started": "2021-11-15T07:59:19.127477Z"
    },
    "papermill": {
     "duration": 0.912196,
     "end_time": "2021-11-15T08:00:38.650904",
     "exception": false,
     "start_time": "2021-11-15T08:00:37.738708",
     "status": "completed"
    },
    "tags": []
   },
   "outputs": [
    {
     "name": "stdout",
     "output_type": "stream",
     "text": [
      "/kaggle/working\n"
     ]
    }
   ],
   "source": [
    "!pwd"
   ]
  },
  {
   "cell_type": "code",
   "execution_count": 113,
   "id": "cc83dd3b",
   "metadata": {
    "execution": {
     "iopub.execute_input": "2021-11-15T08:00:38.941454Z",
     "iopub.status.busy": "2021-11-15T08:00:38.940389Z",
     "iopub.status.idle": "2021-11-15T08:00:38.957231Z",
     "shell.execute_reply": "2021-11-15T08:00:38.956652Z",
     "shell.execute_reply.started": "2021-11-15T07:59:19.889706Z"
    },
    "papermill": {
     "duration": 0.163853,
     "end_time": "2021-11-15T08:00:38.957390",
     "exception": false,
     "start_time": "2021-11-15T08:00:38.793537",
     "status": "completed"
    },
    "tags": []
   },
   "outputs": [],
   "source": [
    "final_df.to_csv('Mobile Price Factors.csv',index=False)"
   ]
  },
  {
   "cell_type": "code",
   "execution_count": null,
   "id": "db11f6f8",
   "metadata": {},
   "outputs": [],
   "source": []
  },
  {
   "cell_type": "code",
   "execution_count": null,
   "id": "48093a52",
   "metadata": {},
   "outputs": [],
   "source": []
  },
  {
   "cell_type": "code",
   "execution_count": 67,
   "id": "08ca8b5f",
   "metadata": {},
   "outputs": [
    {
     "data": {
      "text/html": [
       "<div>\n",
       "<style scoped>\n",
       "    .dataframe tbody tr th:only-of-type {\n",
       "        vertical-align: middle;\n",
       "    }\n",
       "\n",
       "    .dataframe tbody tr th {\n",
       "        vertical-align: top;\n",
       "    }\n",
       "\n",
       "    .dataframe thead th {\n",
       "        text-align: right;\n",
       "    }\n",
       "</style>\n",
       "<table border=\"1\" class=\"dataframe\">\n",
       "  <thead>\n",
       "    <tr style=\"text-align: right;\">\n",
       "      <th></th>\n",
       "      <th>Battery Power</th>\n",
       "      <th>Display Size</th>\n",
       "      <th>Sim count</th>\n",
       "      <th>Front camera max MP</th>\n",
       "      <th>Front camera count</th>\n",
       "      <th>Primary camera max MP</th>\n",
       "      <th>Primary camera count</th>\n",
       "      <th>Internal Memory</th>\n",
       "      <th>Mobile Depth</th>\n",
       "      <th>Mobile Height</th>\n",
       "      <th>...</th>\n",
       "      <th>Mobile Color</th>\n",
       "      <th>Mobile Brand</th>\n",
       "      <th>Processor Speed</th>\n",
       "      <th>Networks</th>\n",
       "      <th>Core</th>\n",
       "      <th>OS</th>\n",
       "      <th>Ram</th>\n",
       "      <th>Resolution x</th>\n",
       "      <th>Resolution y</th>\n",
       "      <th>Mobile Price</th>\n",
       "    </tr>\n",
       "  </thead>\n",
       "  <tbody>\n",
       "    <tr>\n",
       "      <th>0</th>\n",
       "      <td>5000</td>\n",
       "      <td>16.56</td>\n",
       "      <td>2</td>\n",
       "      <td>5</td>\n",
       "      <td>1</td>\n",
       "      <td>12</td>\n",
       "      <td>3</td>\n",
       "      <td>32</td>\n",
       "      <td>8.95</td>\n",
       "      <td>164.4</td>\n",
       "      <td>...</td>\n",
       "      <td>24</td>\n",
       "      <td>58</td>\n",
       "      <td>2.0</td>\n",
       "      <td>4</td>\n",
       "      <td>8</td>\n",
       "      <td>10</td>\n",
       "      <td>3</td>\n",
       "      <td>720</td>\n",
       "      <td>1600</td>\n",
       "      <td>8999</td>\n",
       "    </tr>\n",
       "    <tr>\n",
       "      <th>1</th>\n",
       "      <td>5000</td>\n",
       "      <td>16.56</td>\n",
       "      <td>2</td>\n",
       "      <td>5</td>\n",
       "      <td>1</td>\n",
       "      <td>12</td>\n",
       "      <td>3</td>\n",
       "      <td>32</td>\n",
       "      <td>8.95</td>\n",
       "      <td>164.4</td>\n",
       "      <td>...</td>\n",
       "      <td>1</td>\n",
       "      <td>58</td>\n",
       "      <td>2.0</td>\n",
       "      <td>4</td>\n",
       "      <td>8</td>\n",
       "      <td>10</td>\n",
       "      <td>3</td>\n",
       "      <td>720</td>\n",
       "      <td>1600</td>\n",
       "      <td>8999</td>\n",
       "    </tr>\n",
       "    <tr>\n",
       "      <th>2</th>\n",
       "      <td>5000</td>\n",
       "      <td>16.56</td>\n",
       "      <td>2</td>\n",
       "      <td>5</td>\n",
       "      <td>1</td>\n",
       "      <td>12</td>\n",
       "      <td>3</td>\n",
       "      <td>64</td>\n",
       "      <td>8.95</td>\n",
       "      <td>164.4</td>\n",
       "      <td>...</td>\n",
       "      <td>1</td>\n",
       "      <td>58</td>\n",
       "      <td>2.0</td>\n",
       "      <td>4</td>\n",
       "      <td>8</td>\n",
       "      <td>10</td>\n",
       "      <td>4</td>\n",
       "      <td>720</td>\n",
       "      <td>1600</td>\n",
       "      <td>9999</td>\n",
       "    </tr>\n",
       "    <tr>\n",
       "      <th>3</th>\n",
       "      <td>5000</td>\n",
       "      <td>16.56</td>\n",
       "      <td>2</td>\n",
       "      <td>5</td>\n",
       "      <td>1</td>\n",
       "      <td>12</td>\n",
       "      <td>3</td>\n",
       "      <td>64</td>\n",
       "      <td>8.95</td>\n",
       "      <td>164.4</td>\n",
       "      <td>...</td>\n",
       "      <td>24</td>\n",
       "      <td>58</td>\n",
       "      <td>2.0</td>\n",
       "      <td>4</td>\n",
       "      <td>8</td>\n",
       "      <td>10</td>\n",
       "      <td>4</td>\n",
       "      <td>720</td>\n",
       "      <td>1600</td>\n",
       "      <td>9999</td>\n",
       "    </tr>\n",
       "    <tr>\n",
       "      <th>4</th>\n",
       "      <td>5000</td>\n",
       "      <td>16.51</td>\n",
       "      <td>2</td>\n",
       "      <td>16</td>\n",
       "      <td>1</td>\n",
       "      <td>48</td>\n",
       "      <td>4</td>\n",
       "      <td>128</td>\n",
       "      <td>9.00</td>\n",
       "      <td>164.4</td>\n",
       "      <td>...</td>\n",
       "      <td>10</td>\n",
       "      <td>57</td>\n",
       "      <td>2.0</td>\n",
       "      <td>4</td>\n",
       "      <td>8</td>\n",
       "      <td>10</td>\n",
       "      <td>4</td>\n",
       "      <td>720</td>\n",
       "      <td>1600</td>\n",
       "      <td>11999</td>\n",
       "    </tr>\n",
       "  </tbody>\n",
       "</table>\n",
       "<p>5 rows × 22 columns</p>\n",
       "</div>"
      ],
      "text/plain": [
       "   Battery Power  Display Size  Sim count  Front camera max MP  \\\n",
       "0           5000         16.56          2                    5   \n",
       "1           5000         16.56          2                    5   \n",
       "2           5000         16.56          2                    5   \n",
       "3           5000         16.56          2                    5   \n",
       "4           5000         16.51          2                   16   \n",
       "\n",
       "   Front camera count  Primary camera max MP  Primary camera count  \\\n",
       "0                   1                     12                     3   \n",
       "1                   1                     12                     3   \n",
       "2                   1                     12                     3   \n",
       "3                   1                     12                     3   \n",
       "4                   1                     48                     4   \n",
       "\n",
       "   Internal Memory  Mobile Depth  Mobile Height  ...  Mobile Color  \\\n",
       "0               32          8.95          164.4  ...            24   \n",
       "1               32          8.95          164.4  ...             1   \n",
       "2               64          8.95          164.4  ...             1   \n",
       "3               64          8.95          164.4  ...            24   \n",
       "4              128          9.00          164.4  ...            10   \n",
       "\n",
       "   Mobile Brand  Processor Speed  Networks  Core  OS  Ram  Resolution x  \\\n",
       "0            58              2.0         4     8  10    3           720   \n",
       "1            58              2.0         4     8  10    3           720   \n",
       "2            58              2.0         4     8  10    4           720   \n",
       "3            58              2.0         4     8  10    4           720   \n",
       "4            57              2.0         4     8  10    4           720   \n",
       "\n",
       "   Resolution y  Mobile Price  \n",
       "0          1600          8999  \n",
       "1          1600          8999  \n",
       "2          1600          9999  \n",
       "3          1600          9999  \n",
       "4          1600         11999  \n",
       "\n",
       "[5 rows x 22 columns]"
      ]
     },
     "execution_count": 67,
     "metadata": {},
     "output_type": "execute_result"
    }
   ],
   "source": [
    "df = pd.read_csv(\"Mobile Price Factors.csv\")\n",
    "df.head()"
   ]
  },
  {
   "cell_type": "code",
   "execution_count": null,
   "id": "d6f54563",
   "metadata": {},
   "outputs": [],
   "source": []
  },
  {
   "cell_type": "code",
   "execution_count": null,
   "id": "c4939483",
   "metadata": {},
   "outputs": [],
   "source": []
  },
  {
   "cell_type": "code",
   "execution_count": 68,
   "id": "bedfefb5",
   "metadata": {},
   "outputs": [],
   "source": [
    "from sklearn import linear_model       \n",
    "#s"
   ]
  },
  {
   "cell_type": "code",
   "execution_count": 69,
   "id": "ae6da71a",
   "metadata": {},
   "outputs": [],
   "source": [
    "#df['Mobile Price'].min()"
   ]
  },
  {
   "cell_type": "code",
   "execution_count": 70,
   "id": "840fc1a5",
   "metadata": {},
   "outputs": [
    {
     "data": {
      "text/plain": [
       "11985.2"
      ]
     },
     "execution_count": 70,
     "metadata": {},
     "output_type": "execute_result"
    }
   ],
   "source": [
    "middle_price = df['Mobile Price'].quantile(0.3)\n",
    "middle_price"
   ]
  },
  {
   "cell_type": "code",
   "execution_count": 71,
   "id": "8559a44e",
   "metadata": {},
   "outputs": [
    {
     "data": {
      "text/plain": [
       "17999.0"
      ]
     },
     "execution_count": 71,
     "metadata": {},
     "output_type": "execute_result"
    }
   ],
   "source": [
    "high_price = df['Mobile Price'].quantile(0.7)\n",
    "high_price"
   ]
  },
  {
   "cell_type": "code",
   "execution_count": null,
   "id": "bd0031e4",
   "metadata": {},
   "outputs": [],
   "source": []
  },
  {
   "cell_type": "code",
   "execution_count": null,
   "id": "24f3e918",
   "metadata": {},
   "outputs": [],
   "source": []
  },
  {
   "cell_type": "code",
   "execution_count": 77,
   "id": "e99de6a2",
   "metadata": {},
   "outputs": [],
   "source": [
    "import matplotlib.pyplot as plt\n",
    "\n",
    "def plot_feature_weight(df,model,title):\n",
    "    # \n",
    "    X = df.drop('Mobile Price',axis = 1)\n",
    "    y = df['Mobile Price']\n",
    "    model.fit(X, y)\n",
    "    importances = model.coef_\n",
    "    feature_names = X.columns\n",
    "    # 模型特征权重排序\n",
    "    feature_weight = {}\n",
    "    for feature_name,importance in zip(feature_names,importances):\n",
    "        print(f\"{feature_name}:{round(importance,2)}\")\n",
    "        feature_weight[feature_name] = abs(importance)\n",
    "    sorted_feature_weight=sorted(feature_weight.items(),key=lambda x:x[1],reverse=True)\n",
    "    sorted_feature_weight\n",
    "    sorted_features = [feature_name for feature_name,importance in sorted_feature_weight ]\n",
    "    sorted_weights = [importance for feature_name,importance in sorted_feature_weight ]\n",
    "\n",
    "\n",
    "    # 模型权重特征可视化\n",
    "    plt.figure(figsize=(10,6))\n",
    "    plt.bar(sorted_features,sorted_weights)\n",
    "    plt.title(title)\n",
    "    plt.xlabel(\"feature\")\n",
    "    plt.ylabel(\"importance\")\n",
    "    plt.xticks(rotation=90)\n",
    "    plt.show()\n",
    "    "
   ]
  },
  {
   "cell_type": "code",
   "execution_count": 78,
   "id": "dc51eaa2",
   "metadata": {},
   "outputs": [
    {
     "name": "stdout",
     "output_type": "stream",
     "text": [
      "Battery Power:-2.68\n",
      "Display Size:2087.2\n",
      "Sim count:1669.23\n",
      "Front camera max MP:158.16\n",
      "Front camera count:744.25\n",
      "Primary camera max MP:-21.55\n",
      "Primary camera count:-1319.27\n",
      "Internal Memory:48.47\n",
      "Mobile Depth:2463.92\n",
      "Mobile Height:-169.04\n",
      "Mobile Width:21.02\n",
      "Mobile Weight:37.22\n",
      "Mobile Color:-2.8\n",
      "Mobile Brand:4.72\n",
      "Processor Speed:5463.98\n",
      "Networks:-884.97\n",
      "Core:-818.93\n",
      "OS:-1957.34\n",
      "Ram:1295.04\n",
      "Resolution x:-31.2\n",
      "Resolution y:13.97\n"
     ]
    },
    {
     "data": {
      "image/png": "[encoded data removed]",
      "text/plain": [
       "<Figure size 720x432 with 1 Axes>"
      ]
     },
     "metadata": {
      "needs_background": "light"
     },
     "output_type": "display_data"
    }
   ],
   "source": [
    "plot_feature_weight(df,linear_model.LinearRegression(),'all mobile price feature importance')\n",
    "# 就全部手机价格分析来看 ,processor speed,mobile depth,display size 是影响价格的最重要因素"
   ]
  },
  {
   "cell_type": "code",
   "execution_count": 79,
   "id": "e2fbed26",
   "metadata": {},
   "outputs": [
    {
     "name": "stdout",
     "output_type": "stream",
     "text": [
      "Battery Power:-4.66\n",
      "Display Size:-15826.19\n",
      "Sim count:-0.0\n",
      "Front camera max MP:290.63\n",
      "Front camera count:-4640.44\n",
      "Primary camera max MP:-82.7\n",
      "Primary camera count:-5600.34\n",
      "Internal Memory:52.17\n",
      "Mobile Depth:6026.82\n",
      "Mobile Height:1720.39\n",
      "Mobile Width:-1265.86\n",
      "Mobile Weight:194.65\n",
      "Mobile Color:-45.17\n",
      "Mobile Brand:-29.26\n",
      "Processor Speed:5336.9\n",
      "Networks:-840.56\n",
      "Core:0.0\n",
      "OS:101.7\n",
      "Ram:-37.61\n",
      "Resolution x:-193.22\n",
      "Resolution y:94.76\n"
     ]
    },
    {
     "data": {
      "image/png": "[encoded data removed]",
      "text/plain": [
       "<Figure size 720x432 with 1 Axes>"
      ]
     },
     "metadata": {
      "needs_background": "light"
     },
     "output_type": "display_data"
    }
   ],
   "source": [
    "hign_price_df = df[df['Mobile Price'] > high_price]\n",
    "hign_price_df.head()\n",
    "plot_feature_weight(hign_price_df,linear_model.LinearRegression(),'hign class mobile price feature importance')\n",
    "# 就高端手机价格分析来看 ,dispaly size,mobile depth,primary camera count,processor speed 是影响价格的最重要因素"
   ]
  },
  {
   "cell_type": "code",
   "execution_count": 80,
   "id": "2335c279",
   "metadata": {},
   "outputs": [
    {
     "name": "stdout",
     "output_type": "stream",
     "text": [
      "Battery Power:-2.68\n",
      "Display Size:2087.2\n",
      "Sim count:1669.23\n",
      "Front camera max MP:158.16\n",
      "Front camera count:744.25\n",
      "Primary camera max MP:-21.55\n",
      "Primary camera count:-1319.27\n",
      "Internal Memory:48.47\n",
      "Mobile Depth:2463.92\n",
      "Mobile Height:-169.04\n",
      "Mobile Width:21.02\n",
      "Mobile Weight:37.22\n",
      "Mobile Color:-2.8\n",
      "Mobile Brand:4.72\n",
      "Processor Speed:5463.98\n",
      "Networks:-884.97\n",
      "Core:-818.93\n",
      "OS:-1957.34\n",
      "Ram:1295.04\n",
      "Resolution x:-31.2\n",
      "Resolution y:13.97\n"
     ]
    },
    {
     "data": {
      "image/png": "[encoded data removed]",
      "text/plain": [
       "<Figure size 720x432 with 1 Axes>"
      ]
     },
     "metadata": {
      "needs_background": "light"
     },
     "output_type": "display_data"
    }
   ],
   "source": [
    "middle_price_df = df[(df['Mobile Price'] >= middle_price)&(df['Mobile Price'] <= high_price)]\n",
    "middle_price_df.head()\n",
    "plot_feature_weight(df,linear_model.LinearRegression(),'middle class price feature importance')\n",
    "## 就中端手机价格分析来看 ,processor speed,display size,os,sim count 是影响价格的最重要因素"
   ]
  },
  {
   "cell_type": "code",
   "execution_count": null,
   "id": "eb285f82",
   "metadata": {},
   "outputs": [],
   "source": []
  },
  {
   "cell_type": "code",
   "execution_count": null,
   "id": "eaf06db8",
   "metadata": {},
   "outputs": [],
   "source": []
  },
  {
   "cell_type": "code",
   "execution_count": 81,
   "id": "ec45b19d",
   "metadata": {},
   "outputs": [
    {
     "name": "stdout",
     "output_type": "stream",
     "text": [
      "Battery Power:0.77\n",
      "Display Size:1051.38\n",
      "Sim count:0.0\n",
      "Front camera max MP:-12.83\n",
      "Front camera count:464.26\n",
      "Primary camera max MP:42.12\n",
      "Primary camera count:226.94\n",
      "Internal Memory:-2.82\n",
      "Mobile Depth:-1203.52\n",
      "Mobile Height:-221.57\n",
      "Mobile Width:170.17\n",
      "Mobile Weight:22.69\n",
      "Mobile Color:3.63\n",
      "Mobile Brand:5.82\n",
      "Processor Speed:-2247.0\n",
      "Networks:233.89\n",
      "Core:219.03\n",
      "OS:-395.41\n",
      "Ram:791.86\n",
      "Resolution x:8.67\n",
      "Resolution y:-3.96\n"
     ]
    },
    {
     "data": {
      "image/png": "[encoded data removed]",
      "text/plain": [
       "<Figure size 720x432 with 1 Axes>"
      ]
     },
     "metadata": {
      "needs_background": "light"
     },
     "output_type": "display_data"
    }
   ],
   "source": [
    "low_price_df = df[df['Mobile Price'] < middle_price]\n",
    "low_price_df.head()\n",
    "plot_feature_weight(low_price_df,linear_model.LinearRegression(),'middle class price feature importance')\n",
    "# ,processor speed,mobile depth,display size,ram 是是影响价格的最重要因素"
   ]
  },
  {
   "cell_type": "code",
   "execution_count": null,
   "id": "b0384705",
   "metadata": {},
   "outputs": [],
   "source": []
  },
  {
   "cell_type": "code",
   "execution_count": null,
   "id": "3944b3d8",
   "metadata": {},
   "outputs": [],
   "source": []
  },
  {
   "cell_type": "code",
   "execution_count": null,
   "id": "2f028646",
   "metadata": {},
   "outputs": [],
   "source": []
  },
  {
   "cell_type": "markdown",
   "id": "98cd350d",
   "metadata": {
    "papermill": {
     "duration": 0.14199,
     "end_time": "2021-11-15T08:00:39.242658",
     "exception": false,
     "start_time": "2021-11-15T08:00:39.100668",
     "status": "completed"
    },
    "tags": []
   },
   "source": []
  }
 ],
 "metadata": {
  "kernelspec": {
   "display_name": "Python 3 (ipykernel)",
   "language": "python",
   "name": "python3"
  },
  "language_info": {
   "codemirror_mode": {
    "name": "ipython",
    "version": 3
   },
   "file_extension": ".py",
   "mimetype": "text/x-python",
   "name": "python",
   "nbconvert_exporter": "python",
   "pygments_lexer": "ipython3",
   "version": "3.9.7"
  },
  "papermill": {
   "default_parameters": {},
   "duration": 53.917712,
   "end_time": "2021-11-15T08:00:40.198423",
   "environment_variables": {},
   "exception": null,
   "input_path": "__notebook__.ipynb",
   "output_path": "__notebook__.ipynb",
   "parameters": {},
   "start_time": "2021-11-15T07:59:46.280711",
   "version": "2.3.3"
  }
 },
 "nbformat": 4,
 "nbformat_minor": 5
}
